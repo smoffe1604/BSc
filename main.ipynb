{
 "cells": [
  {
   "cell_type": "code",
   "execution_count": 1,
   "metadata": {},
   "outputs": [],
   "source": [
    "import pandas as pd \n",
    "import numpy as np\n",
    "import math \n",
    "import matplotlib.pyplot as plt \n",
    "from sklearn.model_selection import train_test_split\n",
    "from sklearn.preprocessing import StandardScaler\n",
    "import random\n",
    "\n",
    "import torch\n",
    "from torch import nn\n",
    "from torch.nn import functional as F\n",
    "from torch.utils.data import DataLoader\n",
    "from torch.utils.data import Dataset\n",
    "import torch.optim as optim\n",
    "from scipy.linalg import sqrtm\n",
    "\n",
    "import pickle "
   ]
  },
  {
   "attachments": {},
   "cell_type": "markdown",
   "metadata": {},
   "source": [
    "Unpacking the data"
   ]
  },
  {
   "cell_type": "code",
   "execution_count": 2,
   "metadata": {},
   "outputs": [],
   "source": [
    "with open('data/sampled_filters_train.pkl', 'rb') as f:\n",
    "    data = pickle.load(f)"
   ]
  },
  {
   "cell_type": "code",
   "execution_count": 3,
   "metadata": {},
   "outputs": [],
   "source": [
    "##########################################################################################\n",
    "# Data\n",
    "##########################################################################################\n",
    "\n",
    "def get_data(data):\n",
    "    #in data\n",
    "    #wavelength (4000000, 149)\n",
    "    #spectra (4000000, 149)\n",
    "    #X (4000000, 37)\n",
    "    #y (4000000, 4)\n",
    "    #z (4000000, 1)\n",
    "    #zmin (float)\n",
    "    #zmax (float)\n",
    "    #filter_names (string list), len = 37\n",
    "    df_X = pd.DataFrame(data['X'])\n",
    "    outlier_columns = df_X.columns[df_X.gt(58.8).any(axis = 0)]\n",
    "    df_X = df_X.drop(outlier_columns, axis = 1)\n",
    "    X = df_X.to_numpy()\n",
    "    y = pd.DataFrame(data['y'])\n",
    "    z = pd.DataFrame(data['z'])\n",
    "    wavelengths = data['wavelengths']\n",
    "    spectra = data['spectra']\n",
    "    \n",
    "    #get normalized X\n",
    "    scaler = StandardScaler()\n",
    "    X_normalized = scaler.fit_transform(df_X)\n",
    "    #get X scaled between [-1, 1]\n",
    "    min_val = X.min()\n",
    "    max_val = X.max()\n",
    "    X_scaled = (X - min_val) / (max_val - min_val)\n",
    "    y_normalized = scaler.fit_transform(y)\n",
    "\n",
    "    names=data['filter_names']\n",
    "    filter_wls = [int(name[1:-1].rstrip('W')) for name in names]\n",
    "    filter_wls = [element for i, element in enumerate(filter_wls) if i not in outlier_columns]\n",
    "    return filter_wls, wavelengths, spectra, X, X_normalized, X_scaled, y, y_normalized, z\n",
    "\n",
    "def rescale_data(X_normalized, X_min, X_max):\n",
    "    X_rescaled = X_normalized * (X_max - X_min) + X_min\n",
    "    return X_rescaled\n",
    "\n",
    "filter_wls, wavelengths, spectra, X, X_normalized, X_scaled,  y, y_normalized, z = get_data(data)\n",
    "\n"
   ]
  },
  {
   "cell_type": "code",
   "execution_count": 4,
   "metadata": {},
   "outputs": [
    {
     "name": "stdout",
     "output_type": "stream",
     "text": [
      "Using cuda device\n"
     ]
    }
   ],
   "source": [
    "device = \"cuda\" if torch.cuda.is_available() else \"cpu\"\n",
    "print(f\"Using {device} device\")"
   ]
  },
  {
   "attachments": {},
   "cell_type": "markdown",
   "metadata": {},
   "source": [
    "define network"
   ]
  },
  {
   "cell_type": "code",
   "execution_count": 5,
   "metadata": {},
   "outputs": [],
   "source": [
    "class SinPosEmb(nn.Module):\n",
    "    def __init__(self, dim):\n",
    "        super().__init__()\n",
    "        self.dim = dim\n",
    "\n",
    "    def forward(self, time):\n",
    "        half_dim = self.dim // 2\n",
    "        embeddings = time / (10000**(2 * torch.arange(half_dim, device = device) / self.dim))\n",
    "        embeddings =  torch.cat((embeddings.sin().unsqueeze(1), embeddings.cos().unsqueeze(1)), dim = 1).flatten()\n",
    "        if self.dim % 2 == 1:\n",
    "            embeddings =  torch.cat((embeddings, (time / (10000**(2 * torch.tensor([half_dim], device = device) / self.dim))).sin())) \n",
    "\n",
    "         \n",
    "        return embeddings\n",
    "\n",
    "class SinPosEmbMatrix(nn.Module):\n",
    "    def __init__(self, dim):\n",
    "        super().__init__()\n",
    "        self.dim = dim\n",
    "        self.time_emb = SinPosEmb(dim)\n",
    "\n",
    "    def forward(self):\n",
    "        x = torch.tensor([self.time_emb(i).tolist() for i in range(1000)], device = device)\n",
    "        return x\n",
    "\n",
    "##########################################################################################\n",
    "# Define U-Networks\n",
    "##########################################################################################\n",
    "\n",
    "class DoubleConv(nn.Module):\n",
    "    def __init__(self, in_channels, out_channels):\n",
    "        self.out_channels = out_channels\n",
    "        super(DoubleConv, self).__init__()\n",
    "        self.conv1 = nn.Conv1d(in_channels, out_channels, kernel_size=3, padding=1)\n",
    "        self.bn1 = nn.BatchNorm1d(out_channels)\n",
    "        self.relu1 = nn.ReLU(inplace=True)\n",
    "        if out_channels == 64:\n",
    "            time_emb = SinPosEmbMatrix(31)\n",
    "            self.time_emb = time_emb()\n",
    "        elif out_channels == 128:\n",
    "            time_emb = SinPosEmbMatrix(15)\n",
    "            self.time_emb = time_emb()\n",
    "        elif out_channels == 256:\n",
    "            time_emb = SinPosEmbMatrix(7)\n",
    "            self.time_emb = time_emb()\n",
    "        elif out_channels == 512:\n",
    "            time_emb = SinPosEmbMatrix(3)\n",
    "            self.time_emb = time_emb()\n",
    "\n",
    "        #self.timeEmb = SinPosEmbMatrix(out_channels)\n",
    "        #self.timeEmbMatrix = self.timeEmb()\n",
    "        #self.timeEmb = SinPosEmb(out_channels)\n",
    "\n",
    "        self.conv2 = nn.Conv1d(out_channels, out_channels, kernel_size=3, padding=1)\n",
    "        self.bn2 = nn.BatchNorm1d(out_channels)\n",
    "        self.relu2 = nn.ReLU(inplace=True)\n",
    "\n",
    "        self.in_channels = in_channels\n",
    "        \n",
    "    def forward(self, x, t):\n",
    "        x = self.conv1(x)\n",
    "        x = self.bn1(x)\n",
    "        x = self.relu1(x)\n",
    "\n",
    "        #time embedding\n",
    "        #time_emb = SinPosEmb(x.size()[2])\n",
    "        #x = x + time_emb(time).to(device)\n",
    "        time = self.time_emb[t, :].unsqueeze(1)\n",
    "        x = x + time\n",
    "\n",
    "        x = self.conv2(x)\n",
    "        x = self.bn2(x)\n",
    "        x = self.relu2(x)\n",
    "        return x\n",
    "\n",
    "class Down(nn.Module):\n",
    "    def __init__(self, in_channels, out_channels):\n",
    "        super(Down, self).__init__()\n",
    "        self.conv = DoubleConv(in_channels, out_channels)\n",
    "        self.pool = nn.MaxPool1d(kernel_size=2, stride=2)\n",
    "        \n",
    "    def forward(self, x, t):\n",
    "        x = self.pool(x)\n",
    "        x = self.conv(x, t)\n",
    "        return x\n",
    "\n",
    "class Up(nn.Module):\n",
    "    def __init__(self, in_channels, out_channels):\n",
    "        super(Up, self).__init__()\n",
    "        self.up = nn.ConvTranspose1d(in_channels, in_channels//2, kernel_size=2, stride=2)\n",
    "        self.conv = DoubleConv(in_channels, out_channels)\n",
    "        \n",
    "    def forward(self, x1, x2, t):\n",
    "        x1 = self.up(x1)\n",
    "        diff = x2.size()[2] - x1.size()[2]\n",
    "        x1 = F.pad(x1, (diff // 2, (diff + 1) // 2))\n",
    "        x = torch.cat([x2, x1], dim=1)\n",
    "\n",
    "        x = self.conv(x, t)\n",
    "        return x\n",
    "\n",
    "        \n",
    "class BigUNet(nn.Module):\n",
    "    def __init__(self):\n",
    "        super(BigUNet, self).__init__()\n",
    "        self.conv = DoubleConv(1, 64)\n",
    "        self.down1 = Down(64, 128)\n",
    "        self.down2 = Down(128, 256)\n",
    "        self.down3 = Down(256, 512)\n",
    "        self.up2 = Up(512, 256)\n",
    "        self.up3 = Up(256, 128)\n",
    "        self.up4 = Up(128, 64)\n",
    "        self.convOut = nn.Conv1d(64, 1, kernel_size = 1)\n",
    "\n",
    "        self.channels = 1\n",
    "        self.self_condition = False\n",
    "\n",
    "\n",
    "        #self.time_mlp = nn.Sequential(\n",
    "        #    SinPosEmb(32),\n",
    "        #    nn.Linear(32, 32),\n",
    "        #    nn.ReLU()\n",
    "        #)\n",
    "\n",
    "    def forward(self, x, t): \n",
    "        #t = self.time_mlp(time)\n",
    "        #print(x.shape)\n",
    "        #print(\"yo1: \", x)\n",
    "        x1 = self.conv(x, t)\n",
    "        #print(\"yo2: \", x1)\n",
    "        x2 = self.down1(x1, t)\n",
    "        #print(x2.shape)\n",
    "        x3 = self.down2(x2, t)\n",
    "        #print(x3.shape)\n",
    "        x4 = self.down3(x3, t)\n",
    "        #print(x4.shape)\n",
    "        x3 = self.up2(x4, x3, t)\n",
    "        #print(x3.shape)\n",
    "        x2 = self.up3(x3, x2, t)\n",
    "        #print(x2.shape)\n",
    "        x1 = self.up4(x2, x1, t)\n",
    "        #print(x1.shape)\n",
    "        x = self.convOut(x1)\n",
    "        #print(x.shape)\n",
    "        return x\n",
    "\n",
    "\n",
    "##########################################################################################\n",
    "# Forward diffusion process and Dataset generating\n",
    "##########################################################################################\n",
    "\n",
    "def cos_betaAlpha_schedule(T = 1000, s=0.005):\n",
    "    x = torch.linspace(0, T, T+1)\n",
    "    alphas_cumprod = torch.cos(((x / T) + s) / (1 + s) * torch.pi * 0.5) ** 2\n",
    "    alphas_cumprod = alphas_cumprod / alphas_cumprod[0]\n",
    "    betas = 1 - (alphas_cumprod[1:] / alphas_cumprod[:-1])\n",
    "    betas = torch.clip(betas, 0.0001, 0.9999)\n",
    "    alpha_bar = torch.cumprod(torch.tensor([1-betas[i] for i in range(len(betas))]), dim = 0)\n",
    "    return betas, alpha_bar\n",
    "\n",
    "def extract(a, t, x_shape):\n",
    "    b, *_ = t.shape\n",
    "    \n",
    "    a = a.to(t.device)\n",
    "    out = a.gather(-1, t)\n",
    "    return out.reshape(b, *((1,) * (len(x_shape) - 1)))\n",
    "\n",
    "def add_noise(X, t, alpha_bar):\n",
    "    eps = torch.randn_like(X)\n",
    "    mean = torch.sqrt(extract(alpha_bar.to(t.device), t, X.shape)) * X\n",
    "    std = torch.sqrt(1 - extract(alpha_bar.to(t.device), t, X.shape))\n",
    "    sample = mean + std * eps\n",
    "    return sample, eps\n",
    "\n",
    "\"\"\" def add_noise(X, t, alpha_bar):\n",
    "    eps = torch.randn_like(X)\n",
    "\n",
    "    mean = torch.sqrt(alpha_bar[t][:, None]) * X\n",
    "    std = torch.sqrt(1 - alpha_bar[t][:, None])\n",
    "    sample = mean + std * eps\n",
    "    return sample, eps\n",
    " \"\"\"\n",
    "\n",
    "def denoise(model, n, T = 1000):\n",
    "    X = torch.randn(n, device = device)\n",
    "    betas, alpha_bar = cos_betaAlpha_schedule()\n",
    "    betas = betas.to(device)\n",
    "    alpha_bar = alpha_bar.to(device)\n",
    "    for t in range(T - 1, -1, -1):\n",
    "        t = torch.tensor([t], device = device)\n",
    "        \n",
    "        z = torch.randn(n, device = device) if t > 1 else torch.zeros(n, device = device)\n",
    "        X_noise = model(X.unsqueeze(0).unsqueeze(0), t).detach().squeeze()\n",
    "        t = t.long()\n",
    "        X = (1 / torch.sqrt(1 - betas[t])) * (X - (betas[t]/torch.sqrt(1 - alpha_bar[t]) * X_noise)) + torch.sqrt(betas[t]) * z\n",
    "    return X\n",
    "\n",
    "class MyDataset(Dataset):\n",
    "    def __init__(self, data_dict):\n",
    "        self.data_dict = data_dict\n",
    "        self.keys = list(data_dict.keys())\n",
    "        self.length = len(data_dict[self.keys[0]])\n",
    "    \n",
    "    def __len__(self):\n",
    "        return self.length\n",
    "    \n",
    "    def __getitem__(self, index):\n",
    "        data = {key: self.data_dict[key][index] for key in self.keys}\n",
    "        return data\n"
   ]
  },
  {
   "attachments": {},
   "cell_type": "markdown",
   "metadata": {},
   "source": [
    "Training"
   ]
  },
  {
   "cell_type": "code",
   "execution_count": 6,
   "metadata": {},
   "outputs": [],
   "source": [
    "##########################################################################################\n",
    "# Train model(s)\n",
    "##########################################################################################\n",
    "path = \"../runs3/\"\n",
    "def train_model(model, n = len(X_normalized), T = 1000, batch_size = 256, EPOCHS = 35):\n",
    "    #loss\n",
    "    loss_fn = nn.MSELoss()\n",
    "    #optimizer\n",
    "    optimizer = optim.Adam(model.parameters(), lr=0.001)\n",
    "    scheduler = optim.lr_scheduler.ExponentialLR(optimizer, gamma=0.9)\n",
    "    beta_t, alpha_bar = cos_betaAlpha_schedule(T = T)\n",
    "    #loss data\n",
    "    running_loss_arr = []\n",
    "\n",
    "    #training\n",
    "    model.train(True)\n",
    "    with open(path + \"foo.txt\", \"w\") as f:\n",
    "        f.write(\"start \\n\")\n",
    "    for epoch in range(EPOCHS):\n",
    "        with open(path + \"foo.txt\", \"a\") as f:\n",
    "            f.write(\"epoch: \" + str(epoch) + \"\\n\")\n",
    "        # generate data_loader\n",
    "        train_dataloader = DataLoader(MyDataset({\"X\": torch.tensor(X_scaled[:n])}), batch_size=batch_size, shuffle=True, drop_last= False)\n",
    "        \n",
    "        \n",
    "        print('EPOCH ', epoch, \":\")\n",
    "        \n",
    "        running_loss = 0\n",
    "        last_loss = 0\n",
    "\n",
    "        for i, data in enumerate(train_dataloader):\n",
    "            b, _= data['X'].shape\n",
    "            #t = np.random.randint(1, T + 1)\n",
    "            t = torch.randint(0, 1000, (b,), device=device).long()\n",
    "\n",
    "            X_t, X_noise = add_noise(data['X'].to(device), t, alpha_bar)\n",
    "            X_t = X_t.unsqueeze(1).to(device)\n",
    "            X_noise = X_noise.unsqueeze(1).to(device)\n",
    "            # Zero gradients for every batch\n",
    "            optimizer.zero_grad()\n",
    "\n",
    "            # Make predictions for this batch\n",
    "            outputs = model(X_t, t)\n",
    "            \n",
    "            # Compute the loss and its gradients\n",
    "            loss = loss_fn(outputs, X_noise)\n",
    "            \n",
    "            loss.backward()\n",
    "\n",
    "            # Adjust learning weights\n",
    "            optimizer.step()\n",
    "\n",
    "            # Gather data\n",
    "            running_loss += loss.item()\n",
    "            if (i+1) % 100 == 0:\n",
    "                last_loss = running_loss / 100 # loss per batch\n",
    "                tb_x = epoch * len(train_dataloader) + i + 1\n",
    "                running_loss_arr.append([tb_x, last_loss])\n",
    "                running_loss = 0.\n",
    "                with open(path + \"foo.txt\", \"a\") as f:\n",
    "                    f.write(str(last_loss) + \"\\n\")\n",
    "        scheduler.step()\n",
    "\n",
    "        print('LOSS train: ', running_loss_arr[-1])\n",
    "\n",
    "    model.train(False)\n",
    "    return np.array(running_loss_arr)\n"
   ]
  },
  {
   "attachments": {},
   "cell_type": "markdown",
   "metadata": {},
   "source": [
    "Def models and train"
   ]
  },
  {
   "cell_type": "code",
   "execution_count": 91,
   "metadata": {},
   "outputs": [],
   "source": [
    "model_big = BigUNet().to(device)\n",
    "#model_medBig = MedBigUNet().double().to(device)\n",
    "#model_medium = MediumUNet().double().to(device)\n",
    "#model_small = SmallUNet().double().to(device)\n",
    "#modelList = [model_big, model_medBig, model_medium, model_small]\n",
    "#modelNames = [\"model_big\", \"model_medBig\", \"model_medium\", \"model_small\"]\n",
    "modelList = [model_big]\n",
    "modelNames = [\"model_big\"]"
   ]
  },
  {
   "cell_type": "code",
   "execution_count": 92,
   "metadata": {},
   "outputs": [
    {
     "name": "stdout",
     "output_type": "stream",
     "text": [
      "#####################################\n",
      "n:  4000000\n",
      "batch_size:  512\n",
      "Epochs:  2\n",
      "EPOCH  0 :\n",
      "LOSS train:  [7800, 0.012978149447590112]\n",
      "EPOCH  1 :\n",
      "LOSS train:  [15613, 0.01263421529904008]\n",
      "#####################################\n"
     ]
    }
   ],
   "source": [
    "# train all models\n",
    "T = 1000\n",
    "n = len(X_scaled)\n",
    "batch_size = 512\n",
    "epochs = 2\n",
    "for name, model in zip(modelNames, modelList):\n",
    "    print(\"#####################################\")\n",
    "    print(\"n: \", n)\n",
    "    print(\"batch_size: \", batch_size)\n",
    "    print(\"Epochs: \", epochs)\n",
    "    #print(\"model: \", model)\n",
    "    \n",
    "    running_loss_arr = train_model(model, n = n, T = T, batch_size = batch_size, EPOCHS = epochs)\n",
    "\n",
    "    torch.save(model.state_dict(), path + \"model_param_\" + name + \".pt\")\n",
    "    df_loss = pd.DataFrame({\"time\": running_loss_arr.reshape(-1, 2).transpose()[0], \"loss\": running_loss_arr.reshape(-1, 2).transpose()[1]})\n",
    "    df_loss.to_csv(path + \"losses\" + name + \".csv\", index = False)\n",
    "    print(\"#####################################\")\n"
   ]
  },
  {
   "cell_type": "code",
   "execution_count": 10,
   "metadata": {},
   "outputs": [
    {
     "data": {
      "text/plain": [
       "<All keys matched successfully>"
      ]
     },
     "execution_count": 10,
     "metadata": {},
     "output_type": "execute_result"
    }
   ],
   "source": [
    "model_Unet = BigUNet().to(device)\n",
    "model_Unet.train(False)\n",
    "path = \"../runs1/\"\n",
    "model_Unet.load_state_dict(torch.load(path + \"model_param_model_big.pt\", map_location= device))\n"
   ]
  },
  {
   "cell_type": "markdown",
   "metadata": {
    "tags": []
   },
   "source": [
    "Plots"
   ]
  },
  {
   "cell_type": "code",
   "execution_count": 11,
   "metadata": {},
   "outputs": [
    {
     "data": {
      "text/plain": [
       "<matplotlib.legend.Legend at 0x23cf1d7dca0>"
      ]
     },
     "execution_count": 11,
     "metadata": {},
     "output_type": "execute_result"
    },
    {
     "data": {
      "image/png": "[encoded data removed]",
      "text/plain": [
       "<Figure size 1440x864 with 2 Axes>"
      ]
     },
     "metadata": {
      "needs_background": "light"
     },
     "output_type": "display_data"
    }
   ],
   "source": [
    "\n",
    "plt.figure(figsize= (20, 12))\n",
    "\n",
    "for i in range(4):\n",
    "    plt.subplot(2, 1, 1)\n",
    "    plt.title('model_Unet outputs')\n",
    "    sample = (denoise(model_Unet, 31).cpu().detach()).squeeze()\n",
    "    plt.scatter(filter_wls, sample, label = \"model_big\")\n",
    "    plt.plot(filter_wls, sample)\n",
    "    plt.legend()\n",
    "    plt.subplot(2, 1, 2)\n",
    "    plt.title('true outputs')\n",
    "    r = np.random.randint(0, 100)\n",
    "    plt.scatter(filter_wls, X_scaled[r], label = str(r))\n",
    "    plt.plot(filter_wls, X_scaled[r])\n",
    "\n",
    "plt.ylabel(\"normalized magnitude\")\n",
    "#plt.ylim(-2, 2)\n",
    "plt.xlabel(\"wavelength\")\n",
    "plt.legend()"
   ]
  },
  {
   "cell_type": "code",
   "execution_count": 7,
   "metadata": {},
   "outputs": [],
   "source": [
    "from denoising_diffusion_pytorch.denoising_diffusion_pytorch_1d import Unet1D, GaussianDiffusion1D\n",
    "import denoising_diffusion_pytorch\n"
   ]
  },
  {
   "cell_type": "code",
   "execution_count": null,
   "metadata": {},
   "outputs": [],
   "source": []
  },
  {
   "cell_type": "code",
   "execution_count": null,
   "metadata": {},
   "outputs": [],
   "source": []
  },
  {
   "cell_type": "code",
   "execution_count": null,
   "metadata": {},
   "outputs": [],
   "source": []
  },
  {
   "cell_type": "code",
   "execution_count": null,
   "metadata": {},
   "outputs": [],
   "source": []
  },
  {
   "cell_type": "code",
   "execution_count": null,
   "metadata": {},
   "outputs": [],
   "source": []
  },
  {
   "cell_type": "code",
   "execution_count": null,
   "metadata": {},
   "outputs": [],
   "source": []
  },
  {
   "cell_type": "code",
   "execution_count": null,
   "metadata": {},
   "outputs": [],
   "source": []
  },
  {
   "cell_type": "code",
   "execution_count": null,
   "metadata": {},
   "outputs": [],
   "source": []
  },
  {
   "cell_type": "code",
   "execution_count": null,
   "metadata": {},
   "outputs": [],
   "source": []
  },
  {
   "cell_type": "code",
   "execution_count": null,
   "metadata": {},
   "outputs": [],
   "source": []
  },
  {
   "cell_type": "code",
   "execution_count": null,
   "metadata": {},
   "outputs": [],
   "source": []
  },
  {
   "cell_type": "code",
   "execution_count": null,
   "metadata": {},
   "outputs": [],
   "source": []
  },
  {
   "cell_type": "code",
   "execution_count": null,
   "metadata": {},
   "outputs": [],
   "source": []
  },
  {
   "cell_type": "code",
   "execution_count": null,
   "metadata": {},
   "outputs": [],
   "source": []
  },
  {
   "cell_type": "code",
   "execution_count": null,
   "metadata": {},
   "outputs": [],
   "source": []
  },
  {
   "cell_type": "code",
   "execution_count": null,
   "metadata": {},
   "outputs": [],
   "source": []
  },
  {
   "attachments": {},
   "cell_type": "markdown",
   "metadata": {},
   "source": [
    "Evaluation"
   ]
  },
  {
   "cell_type": "code",
   "execution_count": null,
   "metadata": {},
   "outputs": [],
   "source": [
    "############################################################################\n",
    "# evaluation\n",
    "############################################################################\n"
   ]
  },
  {
   "cell_type": "code",
   "execution_count": 12,
   "metadata": {},
   "outputs": [],
   "source": [
    "class CNN(nn.Module):\n",
    "    def __init__(self):\n",
    "        super(CNN, self).__init__()\n",
    "        self.conv1 = nn.Conv1d(in_channels=1, out_channels=16, kernel_size=3)\n",
    "        self.relu = nn.ReLU()\n",
    "        self.pool = nn.MaxPool1d(kernel_size=2)\n",
    "        self.conv2 = nn.Conv1d(in_channels=16, out_channels=32, kernel_size=3)\n",
    "        self.flatten = nn.Flatten()\n",
    "        self.fc1 = nn.Linear(192, 192)\n",
    "        self.fc2 = nn.Linear(192, 4)  \n",
    "        \n",
    "    def forward(self, x):\n",
    "        x = self.conv1(x)\n",
    "        x = self.relu(x)\n",
    "        x = self.pool(x)\n",
    "        x = self.conv2(x)\n",
    "        x = self.relu(x)\n",
    "        x = self.pool(x)\n",
    "        x = self.flatten(x)\n",
    "        x2 = self.fc1(x)\n",
    "        x = self.relu(x2)\n",
    "        x = self.fc2(x)\n",
    "\n",
    "        return x2, x\n"
   ]
  },
  {
   "cell_type": "code",
   "execution_count": 26,
   "metadata": {},
   "outputs": [],
   "source": [
    "def train_modelCNN(model, n = len(X_normalized), batch_size = 256, EPOCHS = 50):\n",
    "    #loss\n",
    "    loss_fn = nn.MSELoss()\n",
    "    #optimizer\n",
    "    optimizer = optim.Adam(model.parameters(), lr=0.001)\n",
    "    scheduler = optim.lr_scheduler.ExponentialLR(optimizer, gamma=0.9)\n",
    "\n",
    "    #loss data\n",
    "    running_loss_arr = []\n",
    "\n",
    "    #training\n",
    "    model.train(True)\n",
    "    with open(\"../runs2/foo.txt\", \"w\") as f:\n",
    "        f.write(\"start \\n\")\n",
    "    for epoch in range(EPOCHS):\n",
    "        with open(\"../runs2/foo.txt\", \"a\") as f:\n",
    "            f.write(\"epoch: \" + str(epoch) + \"\\n\")\n",
    "        # generate data_loader\n",
    "        train_dataloader = DataLoader(MyDataset({\"X\": X_normalized[:n], \"y\": y_normalized[:n]}), batch_size=batch_size, shuffle=True)\n",
    "        \n",
    "        print('EPOCH ', epoch, \":\")\n",
    "        \n",
    "        running_loss = 0\n",
    "        last_loss = 0\n",
    "\n",
    "        for i, data in enumerate(train_dataloader):\n",
    "            X_t = data['X'].unsqueeze(1).to(device)\n",
    "            ys = data['y'].unsqueeze(1).to(device)\n",
    "            # Zero gradients for every batch\n",
    "            optimizer.zero_grad()\n",
    "\n",
    "\n",
    "            # Make predictions for this batch\n",
    "            _, outputs = model(X_t)\n",
    "\n",
    "            # Compute the loss and its gradients\n",
    "            loss = loss_fn(outputs, ys.squeeze())\n",
    "\n",
    "            loss.backward()\n",
    "\n",
    "            # Adjust learning weights\n",
    "            optimizer.step()\n",
    "\n",
    "            # Gather data\n",
    "            running_loss += loss.item()\n",
    "            if (i+1) % 100 == 0:\n",
    "                last_loss = running_loss / 100 # loss per batch\n",
    "                tb_x = epoch * len(train_dataloader) + i + 1\n",
    "                running_loss_arr.append([tb_x, last_loss])\n",
    "                running_loss = 0.\n",
    "                with open(\"../runs2/foo.txt\", \"a\") as f:\n",
    "                    f.write(str(last_loss) + \"\\n\")\n",
    "        scheduler.step()\n",
    "\n",
    "        print('LOSS train: ', running_loss_arr[-1])\n",
    "\n",
    "    model.train(False)\n",
    "    return np.array(running_loss_arr)\n"
   ]
  },
  {
   "cell_type": "code",
   "execution_count": 27,
   "metadata": {},
   "outputs": [
    {
     "name": "stdout",
     "output_type": "stream",
     "text": [
      "#####################################\n",
      "n:  1024000\n",
      "batch_size:  64\n",
      "Epochs:  1\n",
      "EPOCH  0 :\n",
      "LOSS train:  [16000, 0.28883835330605506]\n",
      "#####################################\n"
     ]
    }
   ],
   "source": [
    "# train all models\n",
    "model_CNN = CNN().to(device)\n",
    "n = 1024000\n",
    "batch_size = 64\n",
    "epochs = 1\n",
    "print(\"#####################################\")\n",
    "print(\"n: \", n)\n",
    "print(\"batch_size: \", batch_size)\n",
    "print(\"Epochs: \", epochs)\n",
    "#print(\"model: \", model)\n",
    "\n",
    "running_loss_arr = train_modelCNN(model_CNN, n = n, batch_size = batch_size, EPOCHS = epochs)\n",
    "\n",
    "torch.save(model_CNN.state_dict(), '../runs2/model_param_CNN.pt')\n",
    "df_loss = pd.DataFrame({\"time\": running_loss_arr.reshape(-1, 2).transpose()[0], \"loss\": running_loss_arr.reshape(-1, 2).transpose()[1]})\n",
    "df_loss.to_csv('../runs2/losses_CNN.csv', index = False)\n",
    "print(\"#####################################\")"
   ]
  },
  {
   "cell_type": "code",
   "execution_count": 28,
   "metadata": {},
   "outputs": [],
   "source": [
    "def calculate_fid(real_embeddings, generated_embeddings):\n",
    "    mu1, sigma1 = real_embeddings.mean(axis=0), np.cov(real_embeddings, rowvar=False)\n",
    "    mu2, sigma2 = generated_embeddings.mean(axis=0), np.cov(generated_embeddings,  rowvar=False)\n",
    "    ssdiff = np.sum((mu1 - mu2)**2.0)\n",
    "    covmean = sqrtm(sigma1.dot(sigma2))\n",
    "    if np.iscomplexobj(covmean):\n",
    "        covmean = covmean.real\n",
    "    fid = ssdiff + np.trace(sigma1 + sigma2 - 2.0 * covmean)\n",
    "    return fid\n"
   ]
  },
  {
   "cell_type": "code",
   "execution_count": 36,
   "metadata": {},
   "outputs": [
    {
     "data": {
      "text/plain": [
       "CNN(\n",
       "  (conv1): Conv1d(1, 16, kernel_size=(3,), stride=(1,))\n",
       "  (relu): ReLU()\n",
       "  (pool): MaxPool1d(kernel_size=2, stride=2, padding=0, dilation=1, ceil_mode=False)\n",
       "  (conv2): Conv1d(16, 32, kernel_size=(3,), stride=(1,))\n",
       "  (flatten): Flatten(start_dim=1, end_dim=-1)\n",
       "  (fc1): Linear(in_features=192, out_features=192, bias=True)\n",
       "  (fc2): Linear(in_features=192, out_features=4, bias=True)\n",
       ")"
      ]
     },
     "execution_count": 36,
     "metadata": {},
     "output_type": "execute_result"
    }
   ],
   "source": [
    "model_CNN = CNN().to(device)\n",
    "model_CNN.load_state_dict(torch.load('../runs2/model_param_CNN.pt'))\n",
    "model_CNN.train(False)\n",
    "\n"
   ]
  },
  {
   "cell_type": "code",
   "execution_count": 1,
   "metadata": {},
   "outputs": [
    {
     "name": "stdout",
     "output_type": "stream",
     "text": [
      "yo\n"
     ]
    }
   ],
   "source": [
    "print(\"yo\")"
   ]
  },
  {
   "cell_type": "code",
   "execution_count": 41,
   "metadata": {},
   "outputs": [
    {
     "name": "stdout",
     "output_type": "stream",
     "text": [
      "torch.Size([10, 1, 31])\n",
      "(10, 192)\n",
      "(10, 192)\n"
     ]
    },
    {
     "data": {
      "text/plain": [
       "0.04209570776472433"
      ]
     },
     "execution_count": 41,
     "metadata": {},
     "output_type": "execute_result"
    }
   ],
   "source": [
    "X0 = X_normalized[0].astype('float64')\n",
    "\n",
    "bs = 10\n",
    "\n",
    "model_emb = np.array([])\n",
    "for i in range(bs):\n",
    "\n",
    "    out_model = denoise(model_Unet, 31)\n",
    "    lay_model, _ = model_CNN(out_model.unsqueeze(0).unsqueeze(0))\n",
    "    model_emb = np.append(model_emb, lay_model.cpu().squeeze().detach().numpy())\n",
    "model_emb = model_emb.reshape(bs, 192)\n",
    "\n",
    "\n",
    "out_true = torch.tensor(X_scaled[:bs]).unsqueeze(1).to(device)\n",
    "print(out_true.shape)\n",
    "true_emb, _ = model_CNN(out_true)\n",
    "true_emb = true_emb.squeeze().cpu().detach().numpy()\n",
    "\n",
    "print(model_emb.shape)\n",
    "print(true_emb.shape)\n",
    "\n",
    "\n",
    "calculate_fid(true_emb, model_emb)\n",
    "\n"
   ]
  },
  {
   "cell_type": "code",
   "execution_count": 285,
   "metadata": {},
   "outputs": [
    {
     "data": {
      "text/plain": [
       "25914.19755027673"
      ]
     },
     "execution_count": 285,
     "metadata": {},
     "output_type": "execute_result"
    }
   ],
   "source": [
    "np.sum(true_emb - model_emb , axis = (0, 1))"
   ]
  },
  {
   "cell_type": "code",
   "execution_count": null,
   "metadata": {},
   "outputs": [
    {
     "data": {
      "text/plain": [
       "array([[35.,  0.],\n",
       "       [ 0.,  0.]])"
      ]
     },
     "execution_count": 269,
     "metadata": {},
     "output_type": "execute_result"
    }
   ],
   "source": [
    "np.cov(np.arange(20), np.ones(20), rowvar = False)"
   ]
  },
  {
   "cell_type": "code",
   "execution_count": null,
   "metadata": {},
   "outputs": [],
   "source": []
  },
  {
   "cell_type": "code",
   "execution_count": null,
   "metadata": {},
   "outputs": [],
   "source": []
  },
  {
   "cell_type": "code",
   "execution_count": null,
   "metadata": {},
   "outputs": [],
   "source": []
  },
  {
   "cell_type": "code",
   "execution_count": null,
   "metadata": {},
   "outputs": [],
   "source": []
  },
  {
   "cell_type": "code",
   "execution_count": null,
   "metadata": {},
   "outputs": [],
   "source": []
  },
  {
   "cell_type": "code",
   "execution_count": null,
   "metadata": {},
   "outputs": [],
   "source": []
  },
  {
   "cell_type": "code",
   "execution_count": null,
   "metadata": {},
   "outputs": [],
   "source": []
  },
  {
   "cell_type": "code",
   "execution_count": null,
   "metadata": {},
   "outputs": [],
   "source": []
  },
  {
   "cell_type": "code",
   "execution_count": null,
   "metadata": {},
   "outputs": [],
   "source": []
  },
  {
   "cell_type": "code",
   "execution_count": null,
   "metadata": {},
   "outputs": [],
   "source": []
  },
  {
   "cell_type": "code",
   "execution_count": null,
   "metadata": {},
   "outputs": [],
   "source": []
  },
  {
   "cell_type": "code",
   "execution_count": null,
   "metadata": {},
   "outputs": [],
   "source": []
  },
  {
   "cell_type": "code",
   "execution_count": null,
   "metadata": {},
   "outputs": [],
   "source": []
  },
  {
   "cell_type": "code",
   "execution_count": null,
   "metadata": {},
   "outputs": [],
   "source": []
  },
  {
   "cell_type": "code",
   "execution_count": null,
   "metadata": {},
   "outputs": [],
   "source": []
  },
  {
   "cell_type": "code",
   "execution_count": null,
   "metadata": {},
   "outputs": [],
   "source": []
  },
  {
   "cell_type": "code",
   "execution_count": null,
   "metadata": {},
   "outputs": [],
   "source": []
  },
  {
   "cell_type": "code",
   "execution_count": null,
   "metadata": {},
   "outputs": [],
   "source": []
  },
  {
   "cell_type": "code",
   "execution_count": null,
   "metadata": {},
   "outputs": [],
   "source": []
  },
  {
   "cell_type": "code",
   "execution_count": null,
   "metadata": {},
   "outputs": [],
   "source": []
  },
  {
   "cell_type": "code",
   "execution_count": null,
   "metadata": {},
   "outputs": [],
   "source": []
  }
 ],
 "metadata": {
  "kernelspec": {
   "display_name": "Python 3",
   "language": "python",
   "name": "python3"
  },
  "language_info": {
   "codemirror_mode": {
    "name": "ipython",
    "version": 3
   },
   "file_extension": ".py",
   "mimetype": "text/x-python",
   "name": "python",
   "nbconvert_exporter": "python",
   "pygments_lexer": "ipython3",
   "version": "3.9.7"
  },
  "orig_nbformat": 4,
  "vscode": {
   "interpreter": {
    "hash": "7101ca937a6cefa303d920fd1335fe82956cc294edbf5f7bc268a5a56c54bb64"
   }
  }
 },
 "nbformat": 4,
 "nbformat_minor": 2
}
