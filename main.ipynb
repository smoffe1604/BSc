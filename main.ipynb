{
 "cells": [
  {
   "cell_type": "code",
   "execution_count": 2,
   "metadata": {},
   "outputs": [
    {
     "name": "stdout",
     "output_type": "stream",
     "text": [
      "Requirement already satisfied: scikit-learn in c:\\users\\simon\\appdata\\local\\programs\\python\\python310\\lib\\site-packages (1.2.1)\n",
      "Requirement already satisfied: joblib>=1.1.1 in c:\\users\\simon\\appdata\\local\\programs\\python\\python310\\lib\\site-packages (from scikit-learn) (1.2.0)\n",
      "Requirement already satisfied: numpy>=1.17.3 in c:\\users\\simon\\appdata\\local\\programs\\python\\python310\\lib\\site-packages (from scikit-learn) (1.23.4)\n",
      "Requirement already satisfied: threadpoolctl>=2.0.0 in c:\\users\\simon\\appdata\\local\\programs\\python\\python310\\lib\\site-packages (from scikit-learn) (3.1.0)\n",
      "Requirement already satisfied: scipy>=1.3.2 in c:\\users\\simon\\appdata\\local\\programs\\python\\python310\\lib\\site-packages (from scikit-learn) (1.10.1)\n"
     ]
    },
    {
     "name": "stderr",
     "output_type": "stream",
     "text": [
      "\n",
      "[notice] A new release of pip available: 22.3.1 -> 23.0.1\n",
      "[notice] To update, run: python.exe -m pip install --upgrade pip\n"
     ]
    },
    {
     "name": "stdout",
     "output_type": "stream",
     "text": [
      "Requirement already satisfied: torch in c:\\users\\simon\\appdata\\local\\programs\\python\\python310\\lib\\site-packages (1.11.0+cu113)"
     ]
    },
    {
     "name": "stderr",
     "output_type": "stream",
     "text": [
      "\n",
      "[notice] A new release of pip available: 22.3.1 -> 23.0.1\n",
      "[notice] To update, run: python.exe -m pip install --upgrade pip\n"
     ]
    },
    {
     "name": "stdout",
     "output_type": "stream",
     "text": [
      "\n",
      "Requirement already satisfied: torchvision in c:\\users\\simon\\appdata\\local\\programs\\python\\python310\\lib\\site-packages (0.12.0+cu113)\n",
      "Requirement already satisfied: torchaudio in c:\\users\\simon\\appdata\\local\\programs\\python\\python310\\lib\\site-packages (0.11.0+cu113)\n",
      "Requirement already satisfied: typing-extensions in c:\\users\\simon\\appdata\\local\\programs\\python\\python310\\lib\\site-packages (from torch) (4.2.0)\n",
      "Requirement already satisfied: requests in c:\\users\\simon\\appdata\\local\\programs\\python\\python310\\lib\\site-packages (from torchvision) (2.27.1)\n",
      "Requirement already satisfied: numpy in c:\\users\\simon\\appdata\\local\\programs\\python\\python310\\lib\\site-packages (from torchvision) (1.23.4)\n",
      "Requirement already satisfied: pillow!=8.3.*,>=5.3.0 in c:\\users\\simon\\appdata\\local\\programs\\python\\python310\\lib\\site-packages (from torchvision) (9.0.1)\n",
      "Requirement already satisfied: idna<4,>=2.5 in c:\\users\\simon\\appdata\\local\\programs\\python\\python310\\lib\\site-packages (from requests->torchvision) (3.3)\n",
      "Requirement already satisfied: certifi>=2017.4.17 in c:\\users\\simon\\appdata\\local\\programs\\python\\python310\\lib\\site-packages (from requests->torchvision) (2021.10.8)\n",
      "Requirement already satisfied: charset-normalizer~=2.0.0 in c:\\users\\simon\\appdata\\local\\programs\\python\\python310\\lib\\site-packages (from requests->torchvision) (2.0.12)\n",
      "Requirement already satisfied: urllib3<1.27,>=1.21.1 in c:\\users\\simon\\appdata\\local\\programs\\python\\python310\\lib\\site-packages (from requests->torchvision) (1.26.9)\n"
     ]
    },
    {
     "name": "stderr",
     "output_type": "stream",
     "text": [
      "ERROR: Could not find a version that satisfies the requirement pickle (from versions: none)\n",
      "ERROR: No matching distribution found for pickle\n",
      "\n",
      "[notice] A new release of pip available: 22.3.1 -> 23.0.1\n",
      "[notice] To update, run: python.exe -m pip install --upgrade pip\n"
     ]
    }
   ],
   "source": [
    "!pip3 install -U scikit-learn\n",
    "!pip3 install torch torchvision torchaudio\n",
    "!pip3 install pickle"
   ]
  },
  {
   "cell_type": "code",
   "execution_count": 1,
   "metadata": {},
   "outputs": [],
   "source": [
    "import pandas as pd \n",
    "import numpy as np\n",
    "import math \n",
    "import matplotlib.pyplot as plt \n",
    "from sklearn.model_selection import train_test_split\n",
    "from sklearn.preprocessing import StandardScaler\n",
    "import random\n",
    "\n",
    "import torch\n",
    "from torch import nn\n",
    "from torch.nn import functional as F\n",
    "from torch.utils.data import DataLoader\n",
    "from torch.utils.data import Dataset\n",
    "import torch.optim as optim\n",
    "\n",
    "import pickle "
   ]
  },
  {
   "attachments": {},
   "cell_type": "markdown",
   "metadata": {},
   "source": [
    "Unpacking the data"
   ]
  },
  {
   "cell_type": "code",
   "execution_count": 2,
   "metadata": {},
   "outputs": [],
   "source": [
    "with open('../data/sampled_filters_train.pkl', 'rb') as f:\n",
    "    data = pickle.load(f)\n"
   ]
  },
  {
   "cell_type": "code",
   "execution_count": 14,
   "metadata": {},
   "outputs": [],
   "source": [
    "wavelengths = data['wavelengths']\n",
    "spectra = data['spectra']\n",
    "z = data['z']\n",
    "df_X = pd.DataFrame(data['X'])\n",
    "outlier_columns = df_X.columns[df_X.eq(58.9).any(axis = 0)]\n",
    "df_X = df_X.drop(outlier_columns, axis = 1)\n",
    "X = df_X.to_numpy()\n",
    "\n",
    "scaler = StandardScaler()\n",
    "#X_normalized = np.array([list(scaler.fit_transform(torch.tensor(X[i]).reshape(-1, 1)).reshape(1, -1)) for i in range(len(X))]).squeeze()\n",
    "X_normalized = scaler.fit_transform(df_X)\n",
    "\n",
    "names=data['filter_names']\n",
    "filter_wls = [int(name[1:-1].rstrip('W')) for name in names]\n",
    "filter_wls = [element for i, element in enumerate(filter_wls) if i not in outlier_columns]\n",
    "indices=[0,10,30,500,15000,800000]"
   ]
  },
  {
   "cell_type": "code",
   "execution_count": 9,
   "metadata": {},
   "outputs": [
    {
     "name": "stdout",
     "output_type": "stream",
     "text": [
      "Using cuda device\n"
     ]
    }
   ],
   "source": [
    "device = \"cuda\" if torch.cuda.is_available() else \"cpu\"\n",
    "print(f\"Using {device} device\")"
   ]
  },
  {
   "attachments": {},
   "cell_type": "markdown",
   "metadata": {},
   "source": [
    "define network"
   ]
  },
  {
   "cell_type": "code",
   "execution_count": 10,
   "metadata": {},
   "outputs": [],
   "source": [
    "class DoubleConv(nn.Module):\n",
    "    def __init__(self, in_channels, out_channels):\n",
    "        super(DoubleConv, self).__init__()\n",
    "        self.conv1 = nn.Conv1d(in_channels, out_channels, kernel_size=3, padding=1)\n",
    "        self.bn1 = nn.BatchNorm1d(out_channels)\n",
    "        self.relu1 = nn.ReLU(inplace=True)\n",
    "        self.conv2 = nn.Conv1d(out_channels, out_channels, kernel_size=3, padding=1)\n",
    "        self.bn2 = nn.BatchNorm1d(out_channels)\n",
    "        self.relu2 = nn.ReLU(inplace=True)\n",
    "        \n",
    "    def forward(self, x):\n",
    "        x = self.conv1(x)\n",
    "        x = self.bn1(x)\n",
    "        x = self.relu1(x)\n",
    "        x = self.conv2(x)\n",
    "        x = self.bn2(x)\n",
    "        x = self.relu2(x)\n",
    "        return x\n",
    "\n",
    "class SingleConv(nn.Module):\n",
    "    def __init__(self, in_channels, out_channels):\n",
    "        super(SingleConv, self).__init__()\n",
    "        self.conv1 = nn.Conv1d(in_channels, out_channels, kernel_size=3, padding=1)\n",
    "        self.bn1 = nn.BatchNorm1d(out_channels)\n",
    "        self.relu1 = nn.ReLU(inplace=True)\n",
    "        \n",
    "    def forward(self, x):\n",
    "        x = self.conv1(x)\n",
    "        x = self.bn1(x)\n",
    "        x = self.relu1(x)\n",
    "        return x\n",
    "\n",
    "class Down(nn.Module):\n",
    "    def __init__(self, in_channels, out_channels):\n",
    "        super(Down, self).__init__()\n",
    "        self.conv = DoubleConv(in_channels, out_channels)\n",
    "        self.pool = nn.MaxPool1d(kernel_size=2, stride=2)\n",
    "        \n",
    "        \n",
    "    def forward(self, x):\n",
    "        x = self.pool(x)\n",
    "        x = self.conv(x)\n",
    "        return x\n",
    "\n",
    "class Up(nn.Module):\n",
    "    def __init__(self, in_channels, out_channels):\n",
    "        super(Up, self).__init__()\n",
    "        self.up = nn.ConvTranspose1d(in_channels, in_channels//2, kernel_size=2, stride=2)\n",
    "        self.conv = DoubleConv(in_channels, out_channels)\n",
    "        \n",
    "    def forward(self, x1, x2):\n",
    "        x1 = self.up(x1)\n",
    "        diff = x2.size()[2] - x1.size()[2]\n",
    "        x1 = F.pad(x1, (diff // 2, (diff + 1) // 2))\n",
    "        x = torch.cat([x2, x1], dim=1)\n",
    "\n",
    "        x = self.conv(x)\n",
    "        return x\n",
    "\n",
    "class UNet(nn.Module):\n",
    "    def __init__(self):\n",
    "        super(UNet, self).__init__()\n",
    "        self.conv = DoubleConv(1, 64)\n",
    "        self.down1 = Down(64, 128)\n",
    "        self.down2 = Down(128, 256)\n",
    "        self.down3 = Down(256, 512)\n",
    "        self.up2 = Up(512, 256)\n",
    "        self.up3 = Up(256, 128)\n",
    "        self.up4 = Up(128, 64)\n",
    "        self.convOut = nn.Conv1d(64, 1, kernel_size = 1)\n",
    "\n",
    "        \n",
    "    def forward(self, x):\n",
    "        x1 = self.conv(x)\n",
    "        x2 = self.down1(x1)\n",
    "        x3 = self.down2(x2)\n",
    "        x4 = self.down3(x3)\n",
    "        x3 = self.up2(x4, x3)\n",
    "        x2 = self.up3(x3, x2)\n",
    "        x1 = self.up4(x2, x1)\n",
    "        x = self.convOut(x1)\n",
    "        return x\n"
   ]
  },
  {
   "attachments": {},
   "cell_type": "markdown",
   "metadata": {},
   "source": [
    "Add Noise"
   ]
  },
  {
   "cell_type": "code",
   "execution_count": 37,
   "metadata": {},
   "outputs": [],
   "source": [
    "def add_noise(X, t, T = 100):\n",
    "\n",
    "    #beta0, betaT = 0.0001, 0.2\n",
    "    beta_t = np.array([0.0001 * (1.05**i) for i in range(T)])\n",
    "    \n",
    "    \n",
    "    alpha = [1-beta_t[i] for i in range(len(beta_t))]\n",
    "    alpha_bar = np.prod(alpha[:t-1])\n",
    "    \n",
    "    mu, sigma = math.sqrt(alpha_bar) * X, (1 - alpha_bar) * np.identity(len(X))\n",
    "    X_tm1 = np.random.multivariate_normal(mu, sigma)\n",
    "    mu, sigma = math.sqrt(1 - beta_t[T-1]) * X_tm1, (beta_t[T-1]) * np.identity(len(X_tm1))\n",
    "    X_t = np.random.multivariate_normal(mu, sigma)\n",
    "    pred_noise =  X_t - X_tm1\n",
    "    return list(X_t), list(pred_noise)\n",
    "\n",
    "def gen_dataset(data):\n",
    "    dataset = {\n",
    "        \"X_t\": [],\n",
    "        \"X_tm1\": []\n",
    "    }\n",
    "\n",
    "    for d in data:\n",
    "        t = random.randint(1, 100)\n",
    "        X_t, X_tm1 = add_noise(d, t)\n",
    "        dataset[\"X_t\"].append(X_t)\n",
    "        dataset[\"X_tm1\"].append(X_tm1)\n",
    "    dataset[\"X_t\"] = np.array(dataset[\"X_t\"])\n",
    "    dataset[\"X_tm1\"] = np.array(dataset[\"X_tm1\"]) \n",
    "    return dataset\n",
    "\n",
    "class MyDataset(Dataset):\n",
    "    def __init__(self, data_dict):\n",
    "        self.data_dict = data_dict\n",
    "        self.keys = list(data_dict.keys())\n",
    "        self.length = len(data_dict[self.keys[0]])\n",
    "    \n",
    "    def __len__(self):\n",
    "        return self.length\n",
    "    \n",
    "    def __getitem__(self, index):\n",
    "        data = {key: self.data_dict[key][index] for key in self.keys}\n",
    "        return data\n",
    "    \n",
    "def print_metaData(n, batch_size):\n",
    "    print(n, batch_size)"
   ]
  },
  {
   "attachments": {},
   "cell_type": "markdown",
   "metadata": {},
   "source": [
    "Define model"
   ]
  },
  {
   "cell_type": "code",
   "execution_count": 13,
   "metadata": {},
   "outputs": [
    {
     "data": {
      "text/plain": [
       "<generator object Module.parameters at 0x000001C6758653F0>"
      ]
     },
     "execution_count": 13,
     "metadata": {},
     "output_type": "execute_result"
    }
   ],
   "source": [
    "model = UNet().double().to(device)\n",
    "model.parameters()"
   ]
  },
  {
   "attachments": {},
   "cell_type": "markdown",
   "metadata": {},
   "source": [
    "Training"
   ]
  },
  {
   "cell_type": "code",
   "execution_count": 15,
   "metadata": {},
   "outputs": [
    {
     "name": "stdout",
     "output_type": "stream",
     "text": [
      "EPOCH  0 :\n",
      "LOSS train:  0.008564734641162995\n",
      "EPOCH  1 :\n",
      "LOSS train:  0.00841941584211418\n"
     ]
    },
    {
     "data": {
      "text/plain": [
       "UNet(\n",
       "  (conv): DoubleConv(\n",
       "    (conv1): Conv1d(1, 64, kernel_size=(3,), stride=(1,), padding=(1,))\n",
       "    (bn1): BatchNorm1d(64, eps=1e-05, momentum=0.1, affine=True, track_running_stats=True)\n",
       "    (relu1): ReLU(inplace=True)\n",
       "    (conv2): Conv1d(64, 64, kernel_size=(3,), stride=(1,), padding=(1,))\n",
       "    (bn2): BatchNorm1d(64, eps=1e-05, momentum=0.1, affine=True, track_running_stats=True)\n",
       "    (relu2): ReLU(inplace=True)\n",
       "  )\n",
       "  (down1): Down(\n",
       "    (conv): DoubleConv(\n",
       "      (conv1): Conv1d(64, 128, kernel_size=(3,), stride=(1,), padding=(1,))\n",
       "      (bn1): BatchNorm1d(128, eps=1e-05, momentum=0.1, affine=True, track_running_stats=True)\n",
       "      (relu1): ReLU(inplace=True)\n",
       "      (conv2): Conv1d(128, 128, kernel_size=(3,), stride=(1,), padding=(1,))\n",
       "      (bn2): BatchNorm1d(128, eps=1e-05, momentum=0.1, affine=True, track_running_stats=True)\n",
       "      (relu2): ReLU(inplace=True)\n",
       "    )\n",
       "    (pool): MaxPool1d(kernel_size=2, stride=2, padding=0, dilation=1, ceil_mode=False)\n",
       "  )\n",
       "  (down2): Down(\n",
       "    (conv): DoubleConv(\n",
       "      (conv1): Conv1d(128, 256, kernel_size=(3,), stride=(1,), padding=(1,))\n",
       "      (bn1): BatchNorm1d(256, eps=1e-05, momentum=0.1, affine=True, track_running_stats=True)\n",
       "      (relu1): ReLU(inplace=True)\n",
       "      (conv2): Conv1d(256, 256, kernel_size=(3,), stride=(1,), padding=(1,))\n",
       "      (bn2): BatchNorm1d(256, eps=1e-05, momentum=0.1, affine=True, track_running_stats=True)\n",
       "      (relu2): ReLU(inplace=True)\n",
       "    )\n",
       "    (pool): MaxPool1d(kernel_size=2, stride=2, padding=0, dilation=1, ceil_mode=False)\n",
       "  )\n",
       "  (down3): Down(\n",
       "    (conv): DoubleConv(\n",
       "      (conv1): Conv1d(256, 512, kernel_size=(3,), stride=(1,), padding=(1,))\n",
       "      (bn1): BatchNorm1d(512, eps=1e-05, momentum=0.1, affine=True, track_running_stats=True)\n",
       "      (relu1): ReLU(inplace=True)\n",
       "      (conv2): Conv1d(512, 512, kernel_size=(3,), stride=(1,), padding=(1,))\n",
       "      (bn2): BatchNorm1d(512, eps=1e-05, momentum=0.1, affine=True, track_running_stats=True)\n",
       "      (relu2): ReLU(inplace=True)\n",
       "    )\n",
       "    (pool): MaxPool1d(kernel_size=2, stride=2, padding=0, dilation=1, ceil_mode=False)\n",
       "  )\n",
       "  (up2): Up(\n",
       "    (up): ConvTranspose1d(512, 256, kernel_size=(2,), stride=(2,))\n",
       "    (conv): DoubleConv(\n",
       "      (conv1): Conv1d(512, 256, kernel_size=(3,), stride=(1,), padding=(1,))\n",
       "      (bn1): BatchNorm1d(256, eps=1e-05, momentum=0.1, affine=True, track_running_stats=True)\n",
       "      (relu1): ReLU(inplace=True)\n",
       "      (conv2): Conv1d(256, 256, kernel_size=(3,), stride=(1,), padding=(1,))\n",
       "      (bn2): BatchNorm1d(256, eps=1e-05, momentum=0.1, affine=True, track_running_stats=True)\n",
       "      (relu2): ReLU(inplace=True)\n",
       "    )\n",
       "  )\n",
       "  (up3): Up(\n",
       "    (up): ConvTranspose1d(256, 128, kernel_size=(2,), stride=(2,))\n",
       "    (conv): DoubleConv(\n",
       "      (conv1): Conv1d(256, 128, kernel_size=(3,), stride=(1,), padding=(1,))\n",
       "      (bn1): BatchNorm1d(128, eps=1e-05, momentum=0.1, affine=True, track_running_stats=True)\n",
       "      (relu1): ReLU(inplace=True)\n",
       "      (conv2): Conv1d(128, 128, kernel_size=(3,), stride=(1,), padding=(1,))\n",
       "      (bn2): BatchNorm1d(128, eps=1e-05, momentum=0.1, affine=True, track_running_stats=True)\n",
       "      (relu2): ReLU(inplace=True)\n",
       "    )\n",
       "  )\n",
       "  (up4): Up(\n",
       "    (up): ConvTranspose1d(128, 64, kernel_size=(2,), stride=(2,))\n",
       "    (conv): DoubleConv(\n",
       "      (conv1): Conv1d(128, 64, kernel_size=(3,), stride=(1,), padding=(1,))\n",
       "      (bn1): BatchNorm1d(64, eps=1e-05, momentum=0.1, affine=True, track_running_stats=True)\n",
       "      (relu1): ReLU(inplace=True)\n",
       "      (conv2): Conv1d(64, 64, kernel_size=(3,), stride=(1,), padding=(1,))\n",
       "      (bn2): BatchNorm1d(64, eps=1e-05, momentum=0.1, affine=True, track_running_stats=True)\n",
       "      (relu2): ReLU(inplace=True)\n",
       "    )\n",
       "  )\n",
       "  (convOut): Conv1d(64, 1, kernel_size=(1,), stride=(1,))\n",
       ")"
      ]
     },
     "execution_count": 15,
     "metadata": {},
     "output_type": "execute_result"
    }
   ],
   "source": [
    "n = 64000\n",
    "batch_size = 64\n",
    "\n",
    "#loss\n",
    "loss_fn = nn.MSELoss()\n",
    "#optimizer\n",
    "optimizer = optim.Adam(model.parameters(), lr=0.001)\n",
    "scheduler = optim.lr_scheduler.ExponentialLR(optimizer, gamma=0.9)\n",
    "\n",
    "#loss data\n",
    "running_loss_arr = np.array([])\n",
    "\n",
    "\n",
    "\n",
    "EPOCHS = 2\n",
    "#training\n",
    "model.train(True)\n",
    "for epoch in range(EPOCHS):\n",
    "    # generate data_loader\n",
    "    dataset = MyDataset(gen_dataset(X_normalized[0:n]))\n",
    "    train_dataloader = DataLoader(dataset, batch_size=batch_size, shuffle=False)\n",
    "    \n",
    "    \n",
    "    \n",
    "    print('EPOCH ', epoch, \":\")\n",
    "    \n",
    "    running_loss = 0\n",
    "    last_loss = 0\n",
    "\n",
    "    for i, data in enumerate(train_dataloader):\n",
    "        # Every data instance is an input + label pair\n",
    "        X_t, X_tm1 = data.values()\n",
    "        X_t = X_t.unsqueeze(1).double().to(device)\n",
    "        X_tm1 = X_tm1.unsqueeze(1).double().to(device)\n",
    "        # Zero gradients for every batch\n",
    "        optimizer.zero_grad()\n",
    "\n",
    "        # Make predictions for this batch\n",
    "        outputs = model(X_t)\n",
    "        \n",
    "        # Compute the loss and its gradients\n",
    "        loss = loss_fn(outputs, X_tm1)\n",
    "\n",
    "        loss.backward()\n",
    "\n",
    "        # Adjust learning weights\n",
    "        optimizer.step()\n",
    "\n",
    "        # Gather data\n",
    "        running_loss += loss.item()\n",
    "        if (i+1) % 100 == 0:\n",
    "            last_loss = running_loss / 100 # loss per batch\n",
    "            tb_x = epoch * len(train_dataloader) + i + 1\n",
    "            running_loss_arr = np.append(running_loss_arr, [tb_x, last_loss])\n",
    "            running_loss = 0.\n",
    "\n",
    "    scheduler.step()\n",
    "\n",
    "    print('LOSS train: ', running_loss_arr[-1])\n",
    "\n",
    "model.train(False)\n"
   ]
  },
  {
   "cell_type": "code",
   "execution_count": 16,
   "metadata": {},
   "outputs": [],
   "source": [
    "torch.save(model.state_dict(), 'model_param.pt')\n",
    "df_loss = pd.DataFrame({\"time\": running_loss_arr.reshape(-1, 2).transpose()[0], \"loss\": running_loss_arr.reshape(-1, 2).transpose()[1]})\n",
    "df_loss.to_csv('losses.csv', index = False)"
   ]
  },
  {
   "attachments": {},
   "cell_type": "markdown",
   "metadata": {},
   "source": [
    "Print output of model"
   ]
  },
  {
   "cell_type": "code",
   "execution_count": 38,
   "metadata": {},
   "outputs": [
    {
     "name": "stderr",
     "output_type": "stream",
     "text": [
      "c:\\Users\\simon\\AppData\\Local\\Programs\\Python\\Python310\\lib\\site-packages\\torch\\nn\\modules\\loss.py:529: UserWarning: Using a target size (torch.Size([1, 1, 31])) that is different to the input size (torch.Size([31])). This will likely lead to incorrect results due to broadcasting. Please ensure they have the same size.\n",
      "  return F.mse_loss(input, target, reduction=self.reduction)\n"
     ]
    },
    {
     "name": "stdout",
     "output_type": "stream",
     "text": [
      "loss:  tensor(0.0141)\n"
     ]
    },
    {
     "data": {
      "image/png": "[encoded data removed]",
      "text/plain": [
       "<Figure size 1440x432 with 3 Axes>"
      ]
     },
     "metadata": {
      "needs_background": "light"
     },
     "output_type": "display_data"
    },
    {
     "data": {
      "image/png": "[encoded data removed]",
      "text/plain": [
       "<Figure size 1440x432 with 3 Axes>"
      ]
     },
     "metadata": {
      "needs_background": "light"
     },
     "output_type": "display_data"
    }
   ],
   "source": [
    "p1 = random.randint(0, 100)\n",
    "\n",
    "X_t, noise = add_noise(X_normalized[0], t = 80)\n",
    "X_tm1 = np.array(X_t) - np.array(noise)\n",
    "\n",
    "\n",
    "noise_pred = model(torch.tensor(X_t).unsqueeze(0).unsqueeze(0).to(device)).cpu().detach().numpy()\n",
    "X_tm1_pred = np.array(X_t) - noise_pred\n",
    "\n",
    "loss_fn = nn.MSELoss()\n",
    "loss = loss_fn(torch.tensor(noise).float(), torch.tensor(noise_pred).float())\n",
    "print(\"loss: \", loss)\n",
    "\n",
    "\n",
    "plt.figure(figsize= (20, 6))\n",
    "\n",
    "plt.subplot(1, 3, 1)\n",
    "plt.title('X_t')\n",
    "plt.scatter(filter_wls, X_t, label = \"z= \"+str(z[p1,0]))\n",
    "plt.ylabel(\"magnitude\")\n",
    "#plt.ylim(30,10)\n",
    "plt.xlabel(\"wavelength\")\n",
    "plt.legend()\n",
    "\n",
    "plt.subplot(1, 3, 2)\n",
    "plt.title('True noise')\n",
    "plt.scatter(filter_wls, noise, label = \"z= \"+str(z[p1,0]))\n",
    "plt.ylabel(\"magnitude\")\n",
    "#plt.ylim(30,10)\n",
    "plt.xlabel(\"wavelength\")\n",
    "plt.legend()\n",
    "\n",
    "plt.subplot(1, 3, 3)\n",
    "plt.title('true t_(-1)')\n",
    "plt.scatter(filter_wls, X_tm1, label = \"z= \"+str(z[p1,0]))\n",
    "plt.ylabel(\"magnitude\")\n",
    "#plt.ylim(30,10)\n",
    "plt.xlabel(\"wavelength\")\n",
    "plt.legend()\n",
    "\n",
    "plt.tight_layout()\n",
    "plt.show()\n",
    "\n",
    "plt.figure(figsize= (20, 6))\n",
    "\n",
    "plt.subplot(1, 3, 1)\n",
    "plt.title('X_t')\n",
    "plt.scatter(filter_wls, X_t, label = \"z= \"+str(z[p1,0]))\n",
    "plt.ylabel(\"magnitude\")\n",
    "#plt.ylim(30,10)\n",
    "plt.xlabel(\"wavelength\")\n",
    "plt.legend()\n",
    "\n",
    "plt.subplot(1, 3, 2)\n",
    "plt.title('noise prediction')\n",
    "plt.scatter(filter_wls, noise_pred, label = \"z= \"+str(z[p1,0]))\n",
    "plt.ylabel(\"magnitude\")\n",
    "#plt.ylim(30,10)\n",
    "plt.xlabel(\"wavelength\")\n",
    "plt.legend()\n",
    "\n",
    "plt.subplot(1, 3, 3)\n",
    "plt.title('X_(t-1) prediction')\n",
    "plt.scatter(filter_wls, X_tm1_pred, label = \"z= \"+str(z[p1,0]))\n",
    "plt.ylabel(\"magnitude\")\n",
    "#plt.ylim(30,10)\n",
    "plt.xlabel(\"wavelength\")\n",
    "plt.legend()\n",
    "\n",
    "plt.tight_layout()\n",
    "plt.show()\n"
   ]
  },
  {
   "cell_type": "code",
   "execution_count": 42,
   "metadata": {},
   "outputs": [
    {
     "name": "stdout",
     "output_type": "stream",
     "text": [
      "0.5646465864942138\n",
      "0.4792312318189288\n",
      "-0.013397975732608189\n",
      "0.7861220444445817\n"
     ]
    }
   ],
   "source": [
    "print(np.mean(X_t))\n",
    "print(np.std(X_t))\n",
    "print(np.mean(np.random.multivariate_normal(mu, sigma)))\n",
    "print(np.std(np.random.multivariate_normal(mu, sigma)))"
   ]
  },
  {
   "cell_type": "code",
   "execution_count": 26,
   "metadata": {},
   "outputs": [],
   "source": [
    "def denoise(X, T = 100):\n",
    "    X = torch.tensor(X).unsqueeze(0).unsqueeze(0).to(device)\n",
    "    for _ in range(T):\n",
    "        X_noise = model(X) \n",
    "        X = X - X_noise\n",
    "    return X"
   ]
  },
  {
   "cell_type": "code",
   "execution_count": 29,
   "metadata": {},
   "outputs": [
    {
     "data": {
      "text/plain": [
       "<matplotlib.legend.Legend at 0x1c7abde5e40>"
      ]
     },
     "execution_count": 29,
     "metadata": {},
     "output_type": "execute_result"
    },
    {
     "data": {
      "image/png": "[encoded data removed]",
      "text/plain": [
       "<Figure size 1440x432 with 2 Axes>"
      ]
     },
     "metadata": {
      "needs_background": "light"
     },
     "output_type": "display_data"
    }
   ],
   "source": [
    "mu, sigma = np.zeros(31), np.identity(31)\n",
    "X_t = np.random.multivariate_normal(mu, sigma)\n",
    "X_t_denoise = denoise(X_t).cpu().detach()\n",
    "\n",
    "plt.figure(figsize= (20, 6))\n",
    "\n",
    "plt.subplot(1, 3, 1)\n",
    "plt.title('X_t')\n",
    "plt.scatter(filter_wls, X_t, label = \"z= \"+str(z[p1,0]))\n",
    "plt.ylabel(\"magnitude\")\n",
    "#plt.ylim(30,10)\n",
    "plt.xlabel(\"wavelength\")\n",
    "plt.legend()\n",
    "\n",
    "plt.subplot(1, 3, 2)\n",
    "plt.title('X_t')\n",
    "plt.scatter(filter_wls, X_t_denoise, label = \"z= \"+str(z[p1,0]))\n",
    "plt.ylabel(\"magnitude\")\n",
    "#plt.ylim(30,10)\n",
    "plt.xlabel(\"wavelength\")\n",
    "plt.legend()"
   ]
  },
  {
   "cell_type": "code",
   "execution_count": null,
   "metadata": {},
   "outputs": [],
   "source": []
  },
  {
   "cell_type": "code",
   "execution_count": 121,
   "metadata": {},
   "outputs": [],
   "source": []
  },
  {
   "cell_type": "code",
   "execution_count": 147,
   "metadata": {},
   "outputs": [
    {
     "data": {
      "image/png": "[encoded data removed]",
      "text/plain": [
       "<Figure size 1440x576 with 4 Axes>"
      ]
     },
     "metadata": {
      "needs_background": "light"
     },
     "output_type": "display_data"
    }
   ],
   "source": [
    "a, b = add_noise(X_normalized[4], T = 1)\n",
    "c = np.array(b) - np.array(a)\n",
    "d = np.array(b) - c\n",
    "\n",
    "plt.figure(figsize= (20, 8))\n",
    "\n",
    "plt.subplot(1, 4, 1)\n",
    "plt.scatter(filter_wls, a, label = \"z= \"+str(z[0,0]))\n",
    "plt.ylabel(\"X_t\")\n",
    "#plt.ylim(30,10)\n",
    "plt.xlabel(\"wavelength\")\n",
    "plt.legend()\n",
    "\n",
    "plt.subplot(1, 4, 2)\n",
    "plt.scatter(filter_wls, b, label = \"z= \"+str(z[0,0]))\n",
    "plt.ylabel(\"X_t-1\")\n",
    "#plt.ylim(30,10)\n",
    "plt.xlabel(\"wavelength\")\n",
    "plt.legend()\n",
    "\n",
    "plt.subplot(1, 4, 3)\n",
    "plt.scatter(filter_wls, c, label = \"z= \"+str(z[0,0]))\n",
    "plt.ylabel(\"noise diff\")\n",
    "#plt.ylim(30,10)\n",
    "plt.xlabel(\"wavelength\")\n",
    "plt.legend()\n",
    "\n",
    "plt.subplot(1, 4, 4)\n",
    "plt.scatter(filter_wls, d, label = \"z= \"+str(z[0,0]))\n",
    "plt.ylabel(\"---\")\n",
    "#plt.ylim(30,10)\n",
    "plt.xlabel(\"wavelength\")\n",
    "plt.legend()\n",
    "\n",
    "\n",
    "plt.tight_layout()\n",
    "plt.show()\n"
   ]
  },
  {
   "cell_type": "code",
   "execution_count": 49,
   "metadata": {},
   "outputs": [
    {
     "data": {
      "text/plain": [
       "array([20.786884, 20.960768, 21.265028, 21.509062, 21.601727, 21.808668,\n",
       "       58.9     , 21.899237, 21.870485, 22.042837, 22.1664  , 22.201782,\n",
       "       22.337282, 22.382853, 22.393621, 22.491522, 22.391426, 22.527351,\n",
       "       22.557444, 22.61449 , 22.445515, 22.539598, 22.658358, 22.670202,\n",
       "       22.752363, 58.9     , 58.9     , 22.814674, 22.803913, 23.091652,\n",
       "       23.25525 , 23.325388, 23.654198, 24.586325, 24.331484, 25.391253,\n",
       "       25.81203 ], dtype=float32)"
      ]
     },
     "execution_count": 49,
     "metadata": {},
     "output_type": "execute_result"
    }
   ],
   "source": [
    "X[0]"
   ]
  },
  {
   "cell_type": "code",
   "execution_count": 50,
   "metadata": {},
   "outputs": [
    {
     "data": {
      "text/plain": [
       "array([18.18387858, 19.11158712, 18.77033567, 18.73173945, 19.83147745,\n",
       "       19.76799058, 52.53073971, 19.24033204, 19.82485043, 19.58854701,\n",
       "       19.18816197, 20.34733135, 19.80594306, 20.61285027, 20.00532452,\n",
       "       19.72817818, 20.04521396, 20.65350765, 20.20638097, 19.88978372,\n",
       "       20.32575284, 19.93396853, 20.56848211, 20.20734979, 20.52066788,\n",
       "       52.92152031, 52.14634073, 20.77923495, 20.89681471, 21.11384064,\n",
       "       21.1684129 , 21.25573751, 21.35002085, 21.63235812, 22.5197138 ,\n",
       "       22.67553267, 23.9491519 ])"
      ]
     },
     "execution_count": 50,
     "metadata": {},
     "output_type": "execute_result"
    }
   ],
   "source": [
    "X0"
   ]
  },
  {
   "cell_type": "code",
   "execution_count": null,
   "metadata": {},
   "outputs": [],
   "source": []
  },
  {
   "cell_type": "code",
   "execution_count": null,
   "metadata": {},
   "outputs": [],
   "source": []
  }
 ],
 "metadata": {
  "kernelspec": {
   "display_name": "Python 3",
   "language": "python",
   "name": "python3"
  },
  "language_info": {
   "codemirror_mode": {
    "name": "ipython",
    "version": 3
   },
   "file_extension": ".py",
   "mimetype": "text/x-python",
   "name": "python",
   "nbconvert_exporter": "python",
   "pygments_lexer": "ipython3",
   "version": "3.10.2"
  },
  "orig_nbformat": 4,
  "vscode": {
   "interpreter": {
    "hash": "7101ca937a6cefa303d920fd1335fe82956cc294edbf5f7bc268a5a56c54bb64"
   }
  }
 },
 "nbformat": 4,
 "nbformat_minor": 2
}
