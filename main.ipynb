{
 "cells": [
  {
   "cell_type": "code",
   "execution_count": 2,
   "metadata": {},
   "outputs": [
    {
     "name": "stdout",
     "output_type": "stream",
     "text": [
      "Requirement already satisfied: scikit-learn in c:\\users\\simon\\appdata\\local\\programs\\python\\python310\\lib\\site-packages (1.2.1)\n",
      "Requirement already satisfied: joblib>=1.1.1 in c:\\users\\simon\\appdata\\local\\programs\\python\\python310\\lib\\site-packages (from scikit-learn) (1.2.0)\n",
      "Requirement already satisfied: numpy>=1.17.3 in c:\\users\\simon\\appdata\\local\\programs\\python\\python310\\lib\\site-packages (from scikit-learn) (1.23.4)\n",
      "Requirement already satisfied: threadpoolctl>=2.0.0 in c:\\users\\simon\\appdata\\local\\programs\\python\\python310\\lib\\site-packages (from scikit-learn) (3.1.0)\n",
      "Requirement already satisfied: scipy>=1.3.2 in c:\\users\\simon\\appdata\\local\\programs\\python\\python310\\lib\\site-packages (from scikit-learn) (1.10.1)\n"
     ]
    },
    {
     "name": "stderr",
     "output_type": "stream",
     "text": [
      "\n",
      "[notice] A new release of pip available: 22.3.1 -> 23.0.1\n",
      "[notice] To update, run: python.exe -m pip install --upgrade pip\n"
     ]
    },
    {
     "name": "stdout",
     "output_type": "stream",
     "text": [
      "Requirement already satisfied: torch in c:\\users\\simon\\appdata\\local\\programs\\python\\python310\\lib\\site-packages (1.11.0+cu113)"
     ]
    },
    {
     "name": "stderr",
     "output_type": "stream",
     "text": [
      "\n",
      "[notice] A new release of pip available: 22.3.1 -> 23.0.1\n",
      "[notice] To update, run: python.exe -m pip install --upgrade pip\n"
     ]
    },
    {
     "name": "stdout",
     "output_type": "stream",
     "text": [
      "\n",
      "Requirement already satisfied: torchvision in c:\\users\\simon\\appdata\\local\\programs\\python\\python310\\lib\\site-packages (0.12.0+cu113)\n",
      "Requirement already satisfied: torchaudio in c:\\users\\simon\\appdata\\local\\programs\\python\\python310\\lib\\site-packages (0.11.0+cu113)\n",
      "Requirement already satisfied: typing-extensions in c:\\users\\simon\\appdata\\local\\programs\\python\\python310\\lib\\site-packages (from torch) (4.2.0)\n",
      "Requirement already satisfied: requests in c:\\users\\simon\\appdata\\local\\programs\\python\\python310\\lib\\site-packages (from torchvision) (2.27.1)\n",
      "Requirement already satisfied: numpy in c:\\users\\simon\\appdata\\local\\programs\\python\\python310\\lib\\site-packages (from torchvision) (1.23.4)\n",
      "Requirement already satisfied: pillow!=8.3.*,>=5.3.0 in c:\\users\\simon\\appdata\\local\\programs\\python\\python310\\lib\\site-packages (from torchvision) (9.0.1)\n",
      "Requirement already satisfied: idna<4,>=2.5 in c:\\users\\simon\\appdata\\local\\programs\\python\\python310\\lib\\site-packages (from requests->torchvision) (3.3)\n",
      "Requirement already satisfied: certifi>=2017.4.17 in c:\\users\\simon\\appdata\\local\\programs\\python\\python310\\lib\\site-packages (from requests->torchvision) (2021.10.8)\n",
      "Requirement already satisfied: charset-normalizer~=2.0.0 in c:\\users\\simon\\appdata\\local\\programs\\python\\python310\\lib\\site-packages (from requests->torchvision) (2.0.12)\n",
      "Requirement already satisfied: urllib3<1.27,>=1.21.1 in c:\\users\\simon\\appdata\\local\\programs\\python\\python310\\lib\\site-packages (from requests->torchvision) (1.26.9)\n"
     ]
    },
    {
     "name": "stderr",
     "output_type": "stream",
     "text": [
      "ERROR: Could not find a version that satisfies the requirement pickle (from versions: none)\n",
      "ERROR: No matching distribution found for pickle\n",
      "\n",
      "[notice] A new release of pip available: 22.3.1 -> 23.0.1\n",
      "[notice] To update, run: python.exe -m pip install --upgrade pip\n"
     ]
    }
   ],
   "source": [
    "!pip3 install -U scikit-learn\n",
    "!pip3 install torch torchvision torchaudio\n",
    "!pip3 install pickle"
   ]
  },
  {
   "cell_type": "code",
   "execution_count": 1,
   "metadata": {},
   "outputs": [],
   "source": [
    "import pandas as pd \n",
    "import numpy as np\n",
    "import math \n",
    "import matplotlib.pyplot as plt \n",
    "from sklearn.model_selection import train_test_split\n",
    "from sklearn.preprocessing import StandardScaler\n",
    "import random\n",
    "\n",
    "import torch\n",
    "from torch import nn\n",
    "from torch.nn import functional as F\n",
    "from torch.utils.data import DataLoader\n",
    "from torch.utils.data import Dataset\n",
    "import torch.optim as optim\n",
    "from torch.utils.tensorboard import SummaryWriter\n",
    "from datetime import datetime\n",
    "\n",
    "import pickle "
   ]
  },
  {
   "attachments": {},
   "cell_type": "markdown",
   "metadata": {},
   "source": [
    "Unpacking the data"
   ]
  },
  {
   "cell_type": "code",
   "execution_count": 2,
   "metadata": {},
   "outputs": [],
   "source": [
    "with open('../data/sampled_filters_train.pkl', 'rb') as f:\n",
    "    data = pickle.load(f)\n"
   ]
  },
  {
   "cell_type": "code",
   "execution_count": 3,
   "metadata": {},
   "outputs": [],
   "source": [
    "wavelengths = data['wavelengths']\n",
    "spectra = data['spectra']\n",
    "z = data['z']\n",
    "X = data['X']\n",
    "df_X = pd.DataFrame(X)\n",
    "names=data['filter_names']\n",
    "filter_wls = [int(name[1:-1].rstrip('W')) for name in names]\n",
    "indices=[0,10,30,500,15000,800000]"
   ]
  },
  {
   "cell_type": "code",
   "execution_count": 4,
   "metadata": {},
   "outputs": [
    {
     "name": "stdout",
     "output_type": "stream",
     "text": [
      "Using cuda device\n"
     ]
    }
   ],
   "source": [
    "device = \"cuda\" if torch.cuda.is_available() else \"cpu\"\n",
    "print(f\"Using {device} device\")"
   ]
  },
  {
   "attachments": {},
   "cell_type": "markdown",
   "metadata": {},
   "source": [
    "define network"
   ]
  },
  {
   "cell_type": "code",
   "execution_count": 5,
   "metadata": {},
   "outputs": [],
   "source": [
    "class DoubleConv(nn.Module):\n",
    "    def __init__(self, in_channels, out_channels):\n",
    "        super(DoubleConv, self).__init__()\n",
    "        self.conv1 = nn.Conv1d(in_channels, out_channels, kernel_size=3, padding=1)\n",
    "        self.bn1 = nn.BatchNorm1d(out_channels)\n",
    "        self.relu1 = nn.ReLU(inplace=True)\n",
    "        self.conv2 = nn.Conv1d(out_channels, out_channels, kernel_size=3, padding=1)\n",
    "        self.bn2 = nn.BatchNorm1d(out_channels)\n",
    "        self.relu2 = nn.ReLU(inplace=True)\n",
    "        \n",
    "    def forward(self, x):\n",
    "        x = self.conv1(x)\n",
    "        x = self.bn1(x)\n",
    "        x = self.relu1(x)\n",
    "        x = self.conv2(x)\n",
    "        x = self.bn2(x)\n",
    "        x = self.relu2(x)\n",
    "        return x\n",
    "\n",
    "class Down(nn.Module):\n",
    "    def __init__(self, in_channels, out_channels):\n",
    "        super(Down, self).__init__()\n",
    "        self.conv = DoubleConv(in_channels, out_channels)\n",
    "        self.pool = nn.MaxPool1d(kernel_size=2, stride=2)\n",
    "        \n",
    "        \n",
    "    def forward(self, x):\n",
    "        x = self.pool(x)\n",
    "        x = self.conv(x)\n",
    "        return x\n",
    "\n",
    "class Up(nn.Module):\n",
    "    def __init__(self, in_channels, out_channels):\n",
    "        super(Up, self).__init__()\n",
    "        self.up = nn.ConvTranspose1d(in_channels, in_channels//2, kernel_size=2, stride=2)\n",
    "        self.conv = DoubleConv(in_channels, out_channels)\n",
    "        \n",
    "    def forward(self, x1, x2):\n",
    "        x1 = self.up(x1)\n",
    "        diff = x2.size()[2] - x1.size()[2]\n",
    "        x1 = F.pad(x1, (diff // 2, (diff + 1) // 2))\n",
    "        x = torch.cat([x2, x1], dim=1)\n",
    "\n",
    "        x = self.conv(x)\n",
    "        return x\n",
    "\n",
    "class UNet(nn.Module):\n",
    "    def __init__(self):\n",
    "        super(UNet, self).__init__()\n",
    "        self.conv = DoubleConv(1, 64)\n",
    "        self.down1 = Down(64, 128)\n",
    "        self.down2 = Down(128, 256)\n",
    "        self.down3 = Down(256, 512)\n",
    "        self.down4 = Down(512, 1024)\n",
    "        self.up1 = Up(1024, 512)\n",
    "        self.up2 = Up(512, 256)\n",
    "        self.up3 = Up(256, 128)\n",
    "        self.up4 = Up(128, 64)\n",
    "        self.convOut = nn.Conv1d(64, 1, kernel_size = 1)\n",
    "\n",
    "        \n",
    "    def forward(self, x):\n",
    "        x1 = self.conv(x)\n",
    "        x2 = self.down1(x1)\n",
    "        x3 = self.down2(x2)\n",
    "        x4 = self.down3(x3)\n",
    "        x5 = self.down4(x4)\n",
    "        x4 = self.up1(x5, x4)\n",
    "        x3 = self.up2(x4, x3)\n",
    "        x2 = self.up3(x3, x2)\n",
    "        x1 = self.up4(x2, x1)\n",
    "        x = self.convOut(x1)\n",
    "        return x\n"
   ]
  },
  {
   "attachments": {},
   "cell_type": "markdown",
   "metadata": {},
   "source": [
    "Add Noise"
   ]
  },
  {
   "cell_type": "code",
   "execution_count": 6,
   "metadata": {},
   "outputs": [],
   "source": [
    "def add_noise(X, T):\n",
    "    T += 1\n",
    "    if T != 1:\n",
    "        beta1, beta2 = 0.0001, 0.2\n",
    "        beta_t = np.arange(beta1, beta2 + 0.0001, (beta2 - beta1)/(T - 1) )\n",
    "    else: \n",
    "        beta_t = [0.0001]\n",
    "    alpha = [1-beta_t[t] for t in range(len(beta_t))]\n",
    "    alpha_bar = np.prod(alpha[:T-1])\n",
    "\n",
    "    mu, sigma = math.sqrt(alpha_bar) * X, (1 - alpha_bar) * np.identity(len(X))\n",
    "    X_tm1 = np.random.multivariate_normal(mu, sigma)\n",
    "    mu, sigma = math.sqrt(1 - beta_t[T-1]) * X_tm1, (beta_t[T-1]) * np.identity(len(X_tm1))\n",
    "    X_t = np.random.multivariate_normal(mu, sigma)\n",
    "    return list(X_t), list(X_tm1)\n",
    "\n",
    "def gen_dataset(data):\n",
    "    dataset = {\n",
    "        \"X_t\": [],\n",
    "        \"X_tm1\": []\n",
    "    }\n",
    "\n",
    "    for d in data:\n",
    "        T = random.randint(1, 100)\n",
    "        X_t, X_tm1 = add_noise(d, T)\n",
    "        dataset[\"X_t\"].append(X_t)\n",
    "        dataset[\"X_tm1\"].append(X_tm1)\n",
    "    dataset[\"X_t\"] = np.array(dataset[\"X_t\"])\n",
    "    dataset[\"X_tm1\"] = np.array(dataset[\"X_tm1\"]) \n",
    "    return dataset\n",
    "\n",
    "class MyDataset(Dataset):\n",
    "    def __init__(self, data_dict):\n",
    "        self.data_dict = data_dict\n",
    "        self.keys = list(data_dict.keys())\n",
    "        self.length = len(data_dict[self.keys[0]])\n",
    "    \n",
    "    def __len__(self):\n",
    "        return self.length\n",
    "    \n",
    "    def __getitem__(self, index):\n",
    "        data = {key: self.data_dict[key][index] for key in self.keys}\n",
    "        return data"
   ]
  },
  {
   "attachments": {},
   "cell_type": "markdown",
   "metadata": {},
   "source": [
    "Define model"
   ]
  },
  {
   "cell_type": "code",
   "execution_count": 7,
   "metadata": {},
   "outputs": [
    {
     "data": {
      "text/plain": [
       "<generator object Module.parameters at 0x00000283BE1D3D80>"
      ]
     },
     "execution_count": 7,
     "metadata": {},
     "output_type": "execute_result"
    }
   ],
   "source": [
    "model = UNet().double().to(device)\n",
    "model.parameters()"
   ]
  },
  {
   "attachments": {},
   "cell_type": "markdown",
   "metadata": {},
   "source": [
    "Training"
   ]
  },
  {
   "cell_type": "code",
   "execution_count": 8,
   "metadata": {},
   "outputs": [],
   "source": [
    "#loss\n",
    "loss_fn = nn.MSELoss()\n",
    "#optimizer\n",
    "optimizer = optim.Adam(model.parameters(), lr=0.001)\n",
    "\n",
    "def train_one_epoch(epoch_index, tb_writer):\n",
    "    running_loss = 0.\n",
    "    last_loss = 0.\n",
    "\n",
    "    # Here, we use enumerate(training_loader) instead of\n",
    "    # iter(training_loader) so that we can track the batch\n",
    "    # index and do some intra-epoch reporting\n",
    "    for i, data in enumerate(train_dataloader):\n",
    "        # Every data instance is an input + label pair\n",
    "        X_t, X_tm1 = data.values()\n",
    "        X_t = X_t.unsqueeze(1).double().to(device)\n",
    "        X_tm1 = X_tm1.unsqueeze(1).double().to(device)\n",
    "        # Zero your gradients for every batch!\n",
    "        optimizer.zero_grad()\n",
    "\n",
    "        # Make predictions for this batch\n",
    "        outputs = model(X_t)\n",
    "        \n",
    "        # Compute the loss and its gradients\n",
    "        loss = loss_fn(outputs, X_tm1)\n",
    "\n",
    "        loss.backward()\n",
    "\n",
    "        # Adjust learning weights\n",
    "        optimizer.step()\n",
    "\n",
    "        # Gather data and report\n",
    "        running_loss += loss.item()\n",
    "        if i % 100 == 99:\n",
    "            last_loss = running_loss / 100 # loss per batch\n",
    "            print('  batch {} loss: {}'.format(i + 1, last_loss))\n",
    "            tb_x = epoch_index * len(train_dataloader) + i + 1\n",
    "            tb_writer.add_scalar('Loss/train', last_loss, tb_x)\n",
    "            running_loss = 0.\n",
    "\n",
    "    return last_loss"
   ]
  },
  {
   "cell_type": "code",
   "execution_count": 9,
   "metadata": {},
   "outputs": [
    {
     "name": "stdout",
     "output_type": "stream",
     "text": [
      "EPOCH 1:\n",
      "  batch 100 loss: 0.2670146323363244\n",
      "  batch 200 loss: 0.2058492579416161\n",
      "  batch 300 loss: 0.20718201151640195\n",
      "  batch 400 loss: 0.2049605401905011\n",
      "  batch 500 loss: 0.20384382897491948\n",
      "  batch 600 loss: 0.20331311073834002\n",
      "  batch 700 loss: 0.20014045557055557\n",
      "  batch 800 loss: 0.20224794856240128\n",
      "  batch 900 loss: 0.19976191223848563\n",
      "  batch 1000 loss: 0.20273894946918156\n",
      "  batch 1100 loss: 0.20299059053808036\n",
      "  batch 1200 loss: 0.2034532277402562\n",
      "  batch 1300 loss: 0.20094106491180008\n",
      "  batch 1400 loss: 0.20159514355247854\n",
      "  batch 1500 loss: 0.2010680313616975\n",
      "  batch 1600 loss: 0.2012831811949683\n",
      "  batch 1700 loss: 0.1998558787728571\n",
      "  batch 1800 loss: 0.19923371758438782\n",
      "  batch 1900 loss: 0.1986414864731357\n",
      "  batch 2000 loss: 0.20195957501535441\n",
      "  batch 2100 loss: 0.20130333576668893\n",
      "  batch 2200 loss: 0.20095358716714998\n",
      "  batch 2300 loss: 0.19822593561339605\n",
      "  batch 2400 loss: 0.20034288257245506\n",
      "  batch 2500 loss: 0.200942640334181\n",
      "  batch 2600 loss: 0.1985167816748883\n",
      "  batch 2700 loss: 0.19694497407475045\n",
      "  batch 2800 loss: 0.20017674789017426\n",
      "  batch 2900 loss: 0.20001850403926688\n",
      "  batch 3000 loss: 0.1975482550284674\n",
      "  batch 3100 loss: 0.19838647151597336\n",
      "  batch 3200 loss: 0.19938718001726832\n",
      "  batch 3300 loss: 0.19759311733768603\n",
      "  batch 3400 loss: 0.20120080217524258\n",
      "  batch 3500 loss: 0.20064106461325446\n",
      "  batch 3600 loss: 0.198372531158085\n",
      "  batch 3700 loss: 0.20046628530991284\n",
      "  batch 3800 loss: 0.19888265315113096\n",
      "  batch 3900 loss: 0.19896295129520078\n",
      "  batch 4000 loss: 0.2000068461870044\n",
      "LOSS train:  0.2000068461870044\n"
     ]
    }
   ],
   "source": [
    "n = 64000\n",
    "scaler = StandardScaler()\n",
    "X_normalized = np.array([list(scaler.fit_transform(torch.tensor(X[i]).reshape(-1, 1)).reshape(1, -1)) for i in range(n)]).squeeze()\n",
    "dataset = MyDataset(gen_dataset(X_normalized[0:n]))\n",
    "\n",
    "train_dataloader = DataLoader(dataset, batch_size=16, shuffle=False)\n",
    "\n",
    "\n",
    "timestamp = datetime.now().strftime('%Y%m%d_%H%M%S')\n",
    "writer = SummaryWriter('runs/fashion_trainer{}'.format(timestamp))\n",
    "epoch_number = 0\n",
    "\n",
    "EPOCHS = 1\n",
    "\n",
    "\n",
    "for epoch in range(EPOCHS):\n",
    "    print('EPOCH {}:'.format(epoch_number + 1))\n",
    "\n",
    "    # Make sure gradient tracking is on, and do a pass over the data\n",
    "    model.train(True)\n",
    "    avg_loss = train_one_epoch(epoch_number, writer)\n",
    "\n",
    "    # We don't need gradients on to do reporting\n",
    "    model.train(False)\n",
    "\n",
    "    \n",
    "    print('LOSS train: ', avg_loss)\n",
    "\n",
    "    # Log the running loss averaged per batch\n",
    "    # for both training and validation\n",
    "    writer.add_scalars('Training',{ 'Training' : avg_loss}, epoch_number + 1)\n",
    "    writer.flush()\n",
    "\n",
    "    # Track best performance, and save the model's state\n",
    "\n",
    "    epoch_number += 1"
   ]
  },
  {
   "cell_type": "code",
   "execution_count": 48,
   "metadata": {},
   "outputs": [
    {
     "data": {
      "text/html": [
       "\n",
       "      <iframe id=\"tensorboard-frame-f260b9565dce7a08\" width=\"100%\" height=\"800\" frameborder=\"0\">\n",
       "      </iframe>\n",
       "      <script>\n",
       "        (function() {\n",
       "          const frame = document.getElementById(\"tensorboard-frame-f260b9565dce7a08\");\n",
       "          const url = new URL(\"http://localhost\");\n",
       "          const port = 6006;\n",
       "          if (port) {\n",
       "            url.port = port;\n",
       "          }\n",
       "          frame.src = url;\n",
       "        })();\n",
       "      </script>\n",
       "    "
      ],
      "text/plain": [
       "<IPython.core.display.HTML object>"
      ]
     },
     "metadata": {},
     "output_type": "display_data"
    }
   ],
   "source": [
    "%load_ext tensorboard\n",
    "%tensorboard --logdir /logs"
   ]
  },
  {
   "attachments": {},
   "cell_type": "markdown",
   "metadata": {},
   "source": [
    "Print output of model"
   ]
  },
  {
   "cell_type": "code",
   "execution_count": 41,
   "metadata": {},
   "outputs": [
    {
     "name": "stdout",
     "output_type": "stream",
     "text": [
      "T =  121    --   datasample =  809\n",
      "true loss:  tensor(0.1721, dtype=torch.float64)\n",
      "loss from model:  tensor(0.1717, dtype=torch.float64)\n"
     ]
    },
    {
     "data": {
      "image/png": "[encoded data removed]",
      "text/plain": [
       "<Figure size 1008x576 with 3 Axes>"
      ]
     },
     "metadata": {
      "needs_background": "light"
     },
     "output_type": "display_data"
    }
   ],
   "source": [
    "p1 = random.randint(0, 1000)\n",
    "T1 = random.randint(0, 1000)\n",
    "print(\"T = \", T1, \"   --   datasample = \", p1)\n",
    "X_t, X_tm1 = add_noise(X_normalized[p1], T1)\n",
    "X_t = torch.tensor(X_t).unsqueeze(0).unsqueeze(0)\n",
    "X_tm1 = torch.tensor(X_tm1).unsqueeze(0).unsqueeze(0)\n",
    "pred = model(X_t.to(device)).cpu().detach()\n",
    "loss1 = loss_fn(X_t, X_tm1)\n",
    "loss2 = loss_fn(pred, X_tm1)\n",
    "print(\"true loss: \", loss1)\n",
    "print(\"loss from model: \", loss2)\n",
    "\n",
    "plt.figure(figsize= (14, 8))\n",
    "\n",
    "plt.subplot(1, 3, 1)\n",
    "plt.scatter(filter_wls, X_t, label = \"z= \"+str(z[p1,0]))\n",
    "plt.ylabel(\"magnitude\")\n",
    "#plt.ylim(30,10)\n",
    "plt.xlabel(\"wavelength\")\n",
    "plt.legend()\n",
    "\n",
    "plt.subplot(1, 3, 2)\n",
    "plt.scatter(filter_wls, X_tm1, label = \"z= \"+str(z[p1,0]))\n",
    "plt.ylabel(\"magnitude\")\n",
    "#plt.ylim(30,10)\n",
    "plt.xlabel(\"wavelength\")\n",
    "plt.legend()\n",
    "\n",
    "plt.subplot(1, 3, 3)\n",
    "plt.scatter(filter_wls, pred, label = \"z= \"+str(z[p1,0]))\n",
    "plt.ylabel(\"magnitude\")\n",
    "#plt.ylim(30,10)\n",
    "plt.xlabel(\"wavelength\")\n",
    "plt.legend()\n",
    "\n",
    "\n",
    "plt.tight_layout()\n",
    "plt.show()\n"
   ]
  },
  {
   "cell_type": "code",
   "execution_count": 47,
   "metadata": {},
   "outputs": [],
   "source": [
    "def denoise(X, T = 100):\n",
    "    X = torch.tensor(X).unsqueeze(0).unsqueeze(0).to(device)\n",
    "    for _ in range(T):\n",
    "        X = model(X) \n",
    "    return X\n",
    "\n",
    "mu, sigma = np.zeros(37), np.identity(37)\n",
    "X_t = np.random.multivariate_normal(mu, sigma)\n",
    "X_t_denoise = denoise(X_t).cpu().detach()"
   ]
  },
  {
   "cell_type": "code",
   "execution_count": 48,
   "metadata": {},
   "outputs": [
    {
     "data": {
      "image/png": "[encoded data removed]",
      "text/plain": [
       "<Figure size 1008x576 with 2 Axes>"
      ]
     },
     "metadata": {
      "needs_background": "light"
     },
     "output_type": "display_data"
    }
   ],
   "source": [
    "#p1 = random.randint(0, 1000)\n",
    "#p1 = 625\n",
    "#T1 = random.randint(0, 1000)\n",
    "#T1 = 665\n",
    "\n",
    "\n",
    "\n",
    "plt.figure(figsize= (14, 8))\n",
    "\n",
    "plt.subplot(1, 3, 1)\n",
    "plt.scatter(filter_wls, X_t, label = \"z= \"+str(z[p1,0]))\n",
    "plt.ylabel(\"magnitude\")\n",
    "#plt.ylim(30,10)\n",
    "plt.xlabel(\"wavelength\")\n",
    "plt.legend()\n",
    "\n",
    "plt.subplot(1, 3, 2)\n",
    "plt.scatter(filter_wls, X_t_denoise, label = \"z= \"+str(z[p1,0]))\n",
    "plt.ylabel(\"magnitude\")\n",
    "#plt.ylim(30,10)\n",
    "plt.xlabel(\"wavelength\")\n",
    "plt.legend()\n",
    "\n",
    "plt.tight_layout()\n",
    "plt.show()\n"
   ]
  },
  {
   "cell_type": "code",
   "execution_count": null,
   "metadata": {},
   "outputs": [],
   "source": []
  },
  {
   "cell_type": "code",
   "execution_count": null,
   "metadata": {},
   "outputs": [],
   "source": []
  },
  {
   "cell_type": "code",
   "execution_count": null,
   "metadata": {},
   "outputs": [],
   "source": []
  },
  {
   "cell_type": "code",
   "execution_count": null,
   "metadata": {},
   "outputs": [],
   "source": []
  },
  {
   "cell_type": "code",
   "execution_count": null,
   "metadata": {},
   "outputs": [],
   "source": []
  },
  {
   "cell_type": "code",
   "execution_count": null,
   "metadata": {},
   "outputs": [],
   "source": []
  },
  {
   "cell_type": "code",
   "execution_count": null,
   "metadata": {},
   "outputs": [],
   "source": []
  },
  {
   "cell_type": "code",
   "execution_count": 88,
   "metadata": {},
   "outputs": [
    {
     "data": {
      "image/png": "[encoded data removed]",
      "text/plain": [
       "<Figure size 720x576 with 2 Axes>"
      ]
     },
     "metadata": {
      "needs_background": "light"
     },
     "output_type": "display_data"
    }
   ],
   "source": [
    "plt.figure(figsize= (10, 8))\n",
    "\n",
    "plt.subplot(1, 2, 2)\n",
    "plt.scatter(filter_wls, X[4], label = \"z= \"+str(z[0,0]))\n",
    "plt.ylabel(\"magnitude\")\n",
    "#plt.ylim(30,10)\n",
    "plt.xlabel(\"wavelength\")\n",
    "plt.legend()\n",
    "\n",
    "plt.subplot(1, 2, 1)\n",
    "plt.scatter(filter_wls, add_noise(X_normalized[4], T = 2), label = \"z= \"+str(z[0,0]))\n",
    "plt.ylabel(\"magnitude\")\n",
    "#plt.ylim(30,10)\n",
    "plt.xlabel(\"wavelength\")\n",
    "plt.legend()\n",
    "\n",
    "\n",
    "\n",
    "plt.tight_layout()\n",
    "plt.show()\n"
   ]
  },
  {
   "cell_type": "code",
   "execution_count": 49,
   "metadata": {},
   "outputs": [
    {
     "data": {
      "text/plain": [
       "array([20.786884, 20.960768, 21.265028, 21.509062, 21.601727, 21.808668,\n",
       "       58.9     , 21.899237, 21.870485, 22.042837, 22.1664  , 22.201782,\n",
       "       22.337282, 22.382853, 22.393621, 22.491522, 22.391426, 22.527351,\n",
       "       22.557444, 22.61449 , 22.445515, 22.539598, 22.658358, 22.670202,\n",
       "       22.752363, 58.9     , 58.9     , 22.814674, 22.803913, 23.091652,\n",
       "       23.25525 , 23.325388, 23.654198, 24.586325, 24.331484, 25.391253,\n",
       "       25.81203 ], dtype=float32)"
      ]
     },
     "execution_count": 49,
     "metadata": {},
     "output_type": "execute_result"
    }
   ],
   "source": [
    "X[0]"
   ]
  },
  {
   "cell_type": "code",
   "execution_count": 50,
   "metadata": {},
   "outputs": [
    {
     "data": {
      "text/plain": [
       "array([18.18387858, 19.11158712, 18.77033567, 18.73173945, 19.83147745,\n",
       "       19.76799058, 52.53073971, 19.24033204, 19.82485043, 19.58854701,\n",
       "       19.18816197, 20.34733135, 19.80594306, 20.61285027, 20.00532452,\n",
       "       19.72817818, 20.04521396, 20.65350765, 20.20638097, 19.88978372,\n",
       "       20.32575284, 19.93396853, 20.56848211, 20.20734979, 20.52066788,\n",
       "       52.92152031, 52.14634073, 20.77923495, 20.89681471, 21.11384064,\n",
       "       21.1684129 , 21.25573751, 21.35002085, 21.63235812, 22.5197138 ,\n",
       "       22.67553267, 23.9491519 ])"
      ]
     },
     "execution_count": 50,
     "metadata": {},
     "output_type": "execute_result"
    }
   ],
   "source": [
    "X0"
   ]
  },
  {
   "cell_type": "code",
   "execution_count": null,
   "metadata": {},
   "outputs": [],
   "source": []
  },
  {
   "cell_type": "code",
   "execution_count": null,
   "metadata": {},
   "outputs": [],
   "source": []
  }
 ],
 "metadata": {
  "kernelspec": {
   "display_name": "Python 3",
   "language": "python",
   "name": "python3"
  },
  "language_info": {
   "codemirror_mode": {
    "name": "ipython",
    "version": 3
   },
   "file_extension": ".py",
   "mimetype": "text/x-python",
   "name": "python",
   "nbconvert_exporter": "python",
   "pygments_lexer": "ipython3",
   "version": "3.10.2"
  },
  "orig_nbformat": 4,
  "vscode": {
   "interpreter": {
    "hash": "7101ca937a6cefa303d920fd1335fe82956cc294edbf5f7bc268a5a56c54bb64"
   }
  }
 },
 "nbformat": 4,
 "nbformat_minor": 2
}
