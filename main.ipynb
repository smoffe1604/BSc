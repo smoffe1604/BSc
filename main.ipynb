{
 "cells": [
  {
   "cell_type": "code",
   "execution_count": 2,
   "metadata": {},
   "outputs": [
    {
     "name": "stdout",
     "output_type": "stream",
     "text": [
      "Requirement already satisfied: scikit-learn in c:\\users\\simon\\appdata\\local\\programs\\python\\python310\\lib\\site-packages (1.2.1)\n",
      "Requirement already satisfied: joblib>=1.1.1 in c:\\users\\simon\\appdata\\local\\programs\\python\\python310\\lib\\site-packages (from scikit-learn) (1.2.0)\n",
      "Requirement already satisfied: numpy>=1.17.3 in c:\\users\\simon\\appdata\\local\\programs\\python\\python310\\lib\\site-packages (from scikit-learn) (1.23.4)\n",
      "Requirement already satisfied: threadpoolctl>=2.0.0 in c:\\users\\simon\\appdata\\local\\programs\\python\\python310\\lib\\site-packages (from scikit-learn) (3.1.0)\n",
      "Requirement already satisfied: scipy>=1.3.2 in c:\\users\\simon\\appdata\\local\\programs\\python\\python310\\lib\\site-packages (from scikit-learn) (1.10.1)\n"
     ]
    },
    {
     "name": "stderr",
     "output_type": "stream",
     "text": [
      "\n",
      "[notice] A new release of pip available: 22.3.1 -> 23.0.1\n",
      "[notice] To update, run: python.exe -m pip install --upgrade pip\n"
     ]
    },
    {
     "name": "stdout",
     "output_type": "stream",
     "text": [
      "Requirement already satisfied: torch in c:\\users\\simon\\appdata\\local\\programs\\python\\python310\\lib\\site-packages (1.11.0+cu113)"
     ]
    },
    {
     "name": "stderr",
     "output_type": "stream",
     "text": [
      "\n",
      "[notice] A new release of pip available: 22.3.1 -> 23.0.1\n",
      "[notice] To update, run: python.exe -m pip install --upgrade pip\n"
     ]
    },
    {
     "name": "stdout",
     "output_type": "stream",
     "text": [
      "\n",
      "Requirement already satisfied: torchvision in c:\\users\\simon\\appdata\\local\\programs\\python\\python310\\lib\\site-packages (0.12.0+cu113)\n",
      "Requirement already satisfied: torchaudio in c:\\users\\simon\\appdata\\local\\programs\\python\\python310\\lib\\site-packages (0.11.0+cu113)\n",
      "Requirement already satisfied: typing-extensions in c:\\users\\simon\\appdata\\local\\programs\\python\\python310\\lib\\site-packages (from torch) (4.2.0)\n",
      "Requirement already satisfied: requests in c:\\users\\simon\\appdata\\local\\programs\\python\\python310\\lib\\site-packages (from torchvision) (2.27.1)\n",
      "Requirement already satisfied: numpy in c:\\users\\simon\\appdata\\local\\programs\\python\\python310\\lib\\site-packages (from torchvision) (1.23.4)\n",
      "Requirement already satisfied: pillow!=8.3.*,>=5.3.0 in c:\\users\\simon\\appdata\\local\\programs\\python\\python310\\lib\\site-packages (from torchvision) (9.0.1)\n",
      "Requirement already satisfied: idna<4,>=2.5 in c:\\users\\simon\\appdata\\local\\programs\\python\\python310\\lib\\site-packages (from requests->torchvision) (3.3)\n",
      "Requirement already satisfied: certifi>=2017.4.17 in c:\\users\\simon\\appdata\\local\\programs\\python\\python310\\lib\\site-packages (from requests->torchvision) (2021.10.8)\n",
      "Requirement already satisfied: charset-normalizer~=2.0.0 in c:\\users\\simon\\appdata\\local\\programs\\python\\python310\\lib\\site-packages (from requests->torchvision) (2.0.12)\n",
      "Requirement already satisfied: urllib3<1.27,>=1.21.1 in c:\\users\\simon\\appdata\\local\\programs\\python\\python310\\lib\\site-packages (from requests->torchvision) (1.26.9)\n"
     ]
    },
    {
     "name": "stderr",
     "output_type": "stream",
     "text": [
      "ERROR: Could not find a version that satisfies the requirement pickle (from versions: none)\n",
      "ERROR: No matching distribution found for pickle\n",
      "\n",
      "[notice] A new release of pip available: 22.3.1 -> 23.0.1\n",
      "[notice] To update, run: python.exe -m pip install --upgrade pip\n"
     ]
    }
   ],
   "source": [
    "!pip3 install -U scikit-learn\n",
    "!pip3 install torch torchvision torchaudio\n",
    "!pip3 install pickle"
   ]
  },
  {
   "cell_type": "code",
   "execution_count": 1,
   "metadata": {},
   "outputs": [],
   "source": [
    "import pandas as pd \n",
    "import numpy as np\n",
    "import math \n",
    "import matplotlib.pyplot as plt \n",
    "from sklearn.model_selection import train_test_split\n",
    "import random\n",
    "\n",
    "import torch\n",
    "from torch import nn\n",
    "from torch.nn import functional as F\n",
    "from torch.utils.data import DataLoader\n",
    "from torch.utils.data import Dataset\n",
    "import torch.optim as optim\n",
    "from torch.utils.tensorboard import SummaryWriter\n",
    "from datetime import datetime\n",
    "\n",
    "import pickle "
   ]
  },
  {
   "attachments": {},
   "cell_type": "markdown",
   "metadata": {},
   "source": [
    "Unpacking the data"
   ]
  },
  {
   "cell_type": "code",
   "execution_count": 2,
   "metadata": {},
   "outputs": [],
   "source": [
    "with open('../data/sampled_filters_train.pkl', 'rb') as f:\n",
    "    data = pickle.load(f)\n"
   ]
  },
  {
   "cell_type": "code",
   "execution_count": 3,
   "metadata": {},
   "outputs": [],
   "source": [
    "wavelengths = data['wavelengths']\n",
    "spectra = data['spectra']\n",
    "z = data['z']\n",
    "X = data['X']\n",
    "df_X = pd.DataFrame(X)\n",
    "names=data['filter_names']\n",
    "filter_wls = [int(name[1:-1].rstrip('W')) for name in names]\n",
    "indices=[0,10,30,500,15000,800000]"
   ]
  },
  {
   "cell_type": "code",
   "execution_count": 4,
   "metadata": {},
   "outputs": [
    {
     "name": "stdout",
     "output_type": "stream",
     "text": [
      "Using cuda device\n"
     ]
    }
   ],
   "source": [
    "device = \"cuda\" if torch.cuda.is_available() else \"cpu\"\n",
    "print(f\"Using {device} device\")"
   ]
  },
  {
   "attachments": {},
   "cell_type": "markdown",
   "metadata": {},
   "source": [
    "define network"
   ]
  },
  {
   "cell_type": "code",
   "execution_count": 5,
   "metadata": {},
   "outputs": [],
   "source": [
    "class DoubleConv(nn.Module):\n",
    "    def __init__(self, in_channels, out_channels):\n",
    "        super(DoubleConv, self).__init__()\n",
    "        self.conv1 = nn.Conv1d(in_channels, out_channels, kernel_size=3, padding=1)\n",
    "        self.bn1 = nn.BatchNorm1d(out_channels)\n",
    "        self.relu1 = nn.ReLU(inplace=True)\n",
    "        self.conv2 = nn.Conv1d(out_channels, out_channels, kernel_size=3, padding=1)\n",
    "        self.bn2 = nn.BatchNorm1d(out_channels)\n",
    "        self.relu2 = nn.ReLU(inplace=True)\n",
    "        \n",
    "    def forward(self, x):\n",
    "        x = self.conv1(x)\n",
    "        x = self.bn1(x)\n",
    "        x = self.relu1(x)\n",
    "        x = self.conv2(x)\n",
    "        x = self.bn2(x)\n",
    "        x = self.relu2(x)\n",
    "        return x\n",
    "\n",
    "class Down(nn.Module):\n",
    "    def __init__(self, in_channels, out_channels):\n",
    "        super(Down, self).__init__()\n",
    "        self.conv = DoubleConv(in_channels, out_channels)\n",
    "        self.pool = nn.MaxPool1d(kernel_size=2, stride=2)\n",
    "        \n",
    "        \n",
    "    def forward(self, x):\n",
    "        x = self.pool(x)\n",
    "        x = self.conv(x)\n",
    "        return x\n",
    "\n",
    "class Up(nn.Module):\n",
    "    def __init__(self, in_channels, out_channels):\n",
    "        super(Up, self).__init__()\n",
    "        self.up = nn.ConvTranspose1d(in_channels, in_channels//2, kernel_size=2, stride=2)\n",
    "        self.conv = DoubleConv(in_channels, out_channels)\n",
    "        \n",
    "    def forward(self, x1, x2):\n",
    "        x1 = self.up(x1)\n",
    "        diff = x2.size()[2] - x1.size()[2]\n",
    "        x1 = F.pad(x1, (diff // 2, (diff + 1) // 2))\n",
    "        x = torch.cat([x2, x1], dim=1)\n",
    "\n",
    "        x = self.conv(x)\n",
    "        return x\n",
    "\n",
    "class UNet(nn.Module):\n",
    "    def __init__(self):\n",
    "        super(UNet, self).__init__()\n",
    "        self.conv = DoubleConv(1, 64)\n",
    "        self.down1 = Down(64, 128)\n",
    "        self.down2 = Down(128, 256)\n",
    "        self.down3 = Down(256, 512)\n",
    "        self.down4 = Down(512, 1024)\n",
    "        self.up1 = Up(1024, 512)\n",
    "        self.up2 = Up(512, 256)\n",
    "        self.up3 = Up(256, 128)\n",
    "        self.up4 = Up(128, 64)\n",
    "        self.convOut = nn.Conv1d(64, 1, kernel_size = 1)\n",
    "\n",
    "        \n",
    "    def forward(self, x):\n",
    "        x1 = self.conv(x)\n",
    "        x2 = self.down1(x1)\n",
    "        x3 = self.down2(x2)\n",
    "        x4 = self.down3(x3)\n",
    "        x5 = self.down4(x4)\n",
    "        x4 = self.up1(x5, x4)\n",
    "        x3 = self.up2(x4, x3)\n",
    "        x2 = self.up3(x3, x2)\n",
    "        x1 = self.up4(x2, x1)\n",
    "        x = self.convOut(x1)\n",
    "        return x\n"
   ]
  },
  {
   "attachments": {},
   "cell_type": "markdown",
   "metadata": {},
   "source": [
    "Add Noise"
   ]
  },
  {
   "cell_type": "code",
   "execution_count": 41,
   "metadata": {},
   "outputs": [],
   "source": [
    "def add_noise(X, T = 100):\n",
    "    if T != 1:\n",
    "        beta1, beta2 = 0.0001, 0.2\n",
    "        beta_t = np.arange(beta1, beta2 + 0.0001, (beta2 - beta1)/(T - 1) )\n",
    "    else: \n",
    "        beta_t = [0.0001]\n",
    "    for t in range(T):\n",
    "        mu, sigma = math.sqrt(1 - beta_t[t]) * X, beta_t[t] * np.identity(len(X))\n",
    "        X1 = np.random.multivariate_normal(mu, sigma)\n",
    "    return X1\n",
    "\n",
    "def gen_dataset(data, T = 10):\n",
    "    noise = np.array([list(add_noise(d, T)) for d in data])\n",
    "    dataset = {\n",
    "        \"data\": noise, \n",
    "        \"label\": data\n",
    "    } \n",
    "    return dataset\n",
    "\n",
    "class MyDataset(Dataset):\n",
    "    def __init__(self, data_dict):\n",
    "        self.data_dict = data_dict\n",
    "        self.keys = list(data_dict.keys())\n",
    "        self.length = len(data_dict[self.keys[0]])\n",
    "    \n",
    "    def __len__(self):\n",
    "        return self.length\n",
    "    \n",
    "    def __getitem__(self, index):\n",
    "        data = {key: self.data_dict[key][index] for key in self.keys}\n",
    "        return data"
   ]
  },
  {
   "attachments": {},
   "cell_type": "markdown",
   "metadata": {},
   "source": [
    "Define model"
   ]
  },
  {
   "cell_type": "code",
   "execution_count": 42,
   "metadata": {},
   "outputs": [
    {
     "data": {
      "text/plain": [
       "<generator object Module.parameters at 0x000001C5A2AADD90>"
      ]
     },
     "execution_count": 42,
     "metadata": {},
     "output_type": "execute_result"
    }
   ],
   "source": [
    "model = UNet().double().to(device)\n",
    "model.parameters()"
   ]
  },
  {
   "attachments": {},
   "cell_type": "markdown",
   "metadata": {},
   "source": [
    "Training"
   ]
  },
  {
   "cell_type": "code",
   "execution_count": 43,
   "metadata": {},
   "outputs": [],
   "source": [
    "#loss\n",
    "loss_fn = nn.MSELoss()\n",
    "#optimizer\n",
    "optimizer = optim.Adam(model.parameters(), lr=0.001)\n",
    "\n",
    "def train_one_epoch(epoch_index, tb_writer):\n",
    "    running_loss = 0.\n",
    "    last_loss = 0.\n",
    "\n",
    "    # Here, we use enumerate(training_loader) instead of\n",
    "    # iter(training_loader) so that we can track the batch\n",
    "    # index and do some intra-epoch reporting\n",
    "    for i, data in enumerate(train_dataloader):\n",
    "        # Every data instance is an input + label pair\n",
    "        inputs, labels = data.values()\n",
    "        inputs = inputs.unsqueeze(1).double().to(device)\n",
    "        labels = labels.unsqueeze(1).double().to(device)\n",
    "        # Zero your gradients for every batch!\n",
    "        optimizer.zero_grad()\n",
    "\n",
    "        # Make predictions for this batch\n",
    "        outputs = model(inputs)\n",
    "        \n",
    "        # Compute the loss and its gradients\n",
    "        loss = loss_fn(outputs, labels)\n",
    "\n",
    "        loss.backward()\n",
    "\n",
    "        # Adjust learning weights\n",
    "        optimizer.step()\n",
    "\n",
    "        # Gather data and report\n",
    "        running_loss += loss.item()\n",
    "        if i % 100 == 99:\n",
    "            last_loss = running_loss / 100 # loss per batch\n",
    "            print('  batch {} loss: {}'.format(i + 1, last_loss))\n",
    "            tb_x = epoch_index * len(train_dataloader) + i + 1\n",
    "            tb_writer.add_scalar('Loss/train', last_loss, tb_x)\n",
    "            running_loss = 0.\n",
    "\n",
    "    return last_loss"
   ]
  },
  {
   "cell_type": "code",
   "execution_count": 44,
   "metadata": {},
   "outputs": [
    {
     "name": "stdout",
     "output_type": "stream",
     "text": [
      "EPOCH 1:\n",
      "  batch 100 loss: 513.56558618938\n",
      "  batch 200 loss: 324.6207012956405\n",
      "  batch 300 loss: 150.4520621987933\n",
      "  batch 400 loss: 39.87291421132116\n",
      "  batch 500 loss: 7.560380452134966\n",
      "  batch 600 loss: 2.573149631296577\n",
      "  batch 700 loss: 2.0589184311404747\n",
      "  batch 800 loss: 1.9627601474487415\n",
      "  batch 900 loss: 1.904435925920817\n",
      "  batch 1000 loss: 1.5399499389126137\n",
      "  batch 1100 loss: 1.3166492335455708\n",
      "  batch 1200 loss: 1.0176845788212558\n",
      "  batch 1300 loss: 1.1038594246845248\n",
      "  batch 1400 loss: 0.8422737845649602\n",
      "  batch 1500 loss: 0.8325242746990388\n",
      "  batch 1600 loss: 1.002407880751082\n",
      "  batch 1700 loss: 1.2185726822943823\n",
      "  batch 1800 loss: 0.8667859802511689\n",
      "  batch 1900 loss: 0.9494422070703449\n",
      "  batch 2000 loss: 1.1064298776073753\n",
      "  batch 2100 loss: 0.637560511162299\n",
      "  batch 2200 loss: 0.7563850524677284\n",
      "  batch 2300 loss: 0.6184862170721089\n",
      "  batch 2400 loss: 0.6809335814562221\n",
      "  batch 2500 loss: 0.7070435377572476\n",
      "LOSS train:  0.7070435377572476\n",
      "EPOCH 2:\n",
      "  batch 100 loss: 0.9605877872267063\n",
      "  batch 200 loss: 0.6035568647803072\n",
      "  batch 300 loss: 0.9804799971341693\n",
      "  batch 400 loss: 0.5055189464137041\n",
      "  batch 500 loss: 0.6186721719978222\n",
      "  batch 600 loss: 0.6676443320547755\n",
      "  batch 700 loss: 0.4988545187452582\n",
      "  batch 800 loss: 0.5202070903214413\n",
      "  batch 900 loss: 0.5032442114494562\n",
      "  batch 1000 loss: 0.45582521902895434\n",
      "  batch 1100 loss: 0.5330095569591777\n",
      "  batch 1200 loss: 0.45016965563437017\n",
      "  batch 1300 loss: 0.36193427268598805\n",
      "  batch 1400 loss: 0.2476266076461272\n",
      "  batch 1500 loss: 0.19509264160672474\n",
      "  batch 1600 loss: 0.27877552324195515\n",
      "  batch 1700 loss: 0.519061526505191\n",
      "  batch 1800 loss: 0.4877810012681503\n",
      "  batch 1900 loss: 0.362826693011708\n",
      "  batch 2000 loss: 0.2838345098222066\n",
      "  batch 2100 loss: 0.24023188565162024\n",
      "  batch 2200 loss: 0.2586239431555861\n",
      "  batch 2300 loss: 0.3691991599691514\n",
      "  batch 2400 loss: 0.3035071009048141\n",
      "  batch 2500 loss: 0.24347962484219068\n",
      "LOSS train:  0.24347962484219068\n",
      "EPOCH 3:\n",
      "  batch 100 loss: 0.22781158502543086\n",
      "  batch 200 loss: 0.18522040693252248\n",
      "  batch 300 loss: 0.24909826719426198\n",
      "  batch 400 loss: 0.14423189709128528\n",
      "  batch 500 loss: 0.28798717832159726\n",
      "  batch 600 loss: 0.2997588009748743\n",
      "  batch 700 loss: 0.2756953822369065\n",
      "  batch 800 loss: 0.2891223677245521\n",
      "  batch 900 loss: 0.3140867213153477\n",
      "  batch 1000 loss: 0.4100558806248608\n",
      "  batch 1100 loss: 0.3117146070916644\n",
      "  batch 1200 loss: 0.2960959402845185\n",
      "  batch 1300 loss: 0.2186415471891863\n",
      "  batch 1400 loss: 0.1848688243120464\n",
      "  batch 1500 loss: 0.13160092994394734\n",
      "  batch 1600 loss: 0.1663812465897318\n",
      "  batch 1700 loss: 0.358443548572189\n",
      "  batch 1800 loss: 0.2722186428145282\n",
      "  batch 1900 loss: 0.20872549757793063\n",
      "  batch 2000 loss: 0.19208290025640842\n",
      "  batch 2100 loss: 0.14141260386684387\n",
      "  batch 2200 loss: 0.1533569287510671\n",
      "  batch 2300 loss: 0.18477068277075287\n",
      "  batch 2400 loss: 0.21728073697434916\n",
      "  batch 2500 loss: 0.1938423515079549\n",
      "LOSS train:  0.1938423515079549\n",
      "EPOCH 4:\n",
      "  batch 100 loss: 0.2011281117683064\n",
      "  batch 200 loss: 0.14708833162020277\n",
      "  batch 300 loss: 0.1646732635339262\n",
      "  batch 400 loss: 0.12486166695059872\n",
      "  batch 500 loss: 0.23532901235391765\n",
      "  batch 600 loss: 0.25805044255598397\n",
      "  batch 700 loss: 0.2450202037172547\n",
      "  batch 800 loss: 0.22130960284825715\n",
      "  batch 900 loss: 0.25314331572023624\n",
      "  batch 1000 loss: 0.3217992310669059\n",
      "  batch 1100 loss: 0.2562009982603797\n",
      "  batch 1200 loss: 0.22630146809758145\n",
      "  batch 1300 loss: 0.1616255292111402\n",
      "  batch 1400 loss: 0.14919646102842962\n",
      "  batch 1500 loss: 0.10515146644219157\n",
      "  batch 1600 loss: 0.13607514124337594\n",
      "  batch 1700 loss: 0.27609458092070793\n",
      "  batch 1800 loss: 0.19347283240361546\n",
      "  batch 1900 loss: 0.18181792174377343\n",
      "  batch 2000 loss: 0.15634911794952014\n",
      "  batch 2100 loss: 0.1273927453694926\n",
      "  batch 2200 loss: 0.1255648456316413\n",
      "  batch 2300 loss: 0.13945924850043515\n",
      "  batch 2400 loss: 0.1901638119802062\n",
      "  batch 2500 loss: 0.13178530713955336\n",
      "LOSS train:  0.13178530713955336\n",
      "EPOCH 5:\n",
      "  batch 100 loss: 0.15411614336363097\n",
      "  batch 200 loss: 0.1293541508209695\n",
      "  batch 300 loss: 0.1426442351249573\n",
      "  batch 400 loss: 0.11083714669937753\n",
      "  batch 500 loss: 0.19102437103895714\n",
      "  batch 600 loss: 0.18857565314739014\n",
      "  batch 700 loss: 0.2469615424638915\n",
      "  batch 800 loss: 0.15089839659044144\n",
      "  batch 900 loss: 0.18647499977181878\n",
      "  batch 1000 loss: 0.18225521642024045\n",
      "  batch 1100 loss: 0.21724382308796447\n",
      "  batch 1200 loss: 0.20166432116306252\n",
      "  batch 1300 loss: 0.14518359977078535\n",
      "  batch 1400 loss: 0.12480834729005932\n",
      "  batch 1500 loss: 0.09720710692159176\n",
      "  batch 1600 loss: 0.12243006318227173\n",
      "  batch 1700 loss: 0.24670504805288795\n",
      "  batch 1800 loss: 0.17620041898729843\n",
      "  batch 1900 loss: 0.18626169399797893\n",
      "  batch 2000 loss: 0.12327087909708495\n",
      "  batch 2100 loss: 0.1133095516815346\n",
      "  batch 2200 loss: 0.10902044499497622\n",
      "  batch 2300 loss: 0.12849192827443315\n",
      "  batch 2400 loss: 0.16078374729030245\n",
      "  batch 2500 loss: 0.11776006653155699\n",
      "LOSS train:  0.11776006653155699\n"
     ]
    }
   ],
   "source": [
    "n = 10000\n",
    "dataset = MyDataset(gen_dataset(X[0:n]))\n",
    "train_dataloader = DataLoader(dataset, batch_size=4, shuffle=False)\n",
    "\n",
    "\n",
    "timestamp = datetime.now().strftime('%Y%m%d_%H%M%S')\n",
    "writer = SummaryWriter('runs/fashion_trainer{}'.format(timestamp))\n",
    "epoch_number = 0\n",
    "\n",
    "EPOCHS = 5\n",
    "\n",
    "\n",
    "for epoch in range(EPOCHS):\n",
    "    print('EPOCH {}:'.format(epoch_number + 1))\n",
    "\n",
    "    # Make sure gradient tracking is on, and do a pass over the data\n",
    "    model.train(True)\n",
    "    avg_loss = train_one_epoch(epoch_number, writer)\n",
    "\n",
    "    # We don't need gradients on to do reporting\n",
    "    model.train(False)\n",
    "\n",
    "    \n",
    "    print('LOSS train: ', avg_loss)\n",
    "\n",
    "    # Log the running loss averaged per batch\n",
    "    # for both training and validation\n",
    "    writer.add_scalars('Training',{ 'Training' : avg_loss}, epoch_number + 1)\n",
    "    writer.flush()\n",
    "\n",
    "    # Track best performance, and save the model's state\n",
    "\n",
    "    epoch_number += 1"
   ]
  },
  {
   "cell_type": "code",
   "execution_count": 48,
   "metadata": {},
   "outputs": [
    {
     "data": {
      "text/html": [
       "\n",
       "      <iframe id=\"tensorboard-frame-f260b9565dce7a08\" width=\"100%\" height=\"800\" frameborder=\"0\">\n",
       "      </iframe>\n",
       "      <script>\n",
       "        (function() {\n",
       "          const frame = document.getElementById(\"tensorboard-frame-f260b9565dce7a08\");\n",
       "          const url = new URL(\"http://localhost\");\n",
       "          const port = 6006;\n",
       "          if (port) {\n",
       "            url.port = port;\n",
       "          }\n",
       "          frame.src = url;\n",
       "        })();\n",
       "      </script>\n",
       "    "
      ],
      "text/plain": [
       "<IPython.core.display.HTML object>"
      ]
     },
     "metadata": {},
     "output_type": "display_data"
    }
   ],
   "source": [
    "%load_ext tensorboard\n",
    "%tensorboard --logdir /logs"
   ]
  },
  {
   "attachments": {},
   "cell_type": "markdown",
   "metadata": {},
   "source": [
    "Print output of model"
   ]
  },
  {
   "cell_type": "code",
   "execution_count": 40,
   "metadata": {},
   "outputs": [
    {
     "name": "stdout",
     "output_type": "stream",
     "text": [
      "tensor([[[18.4762, 18.2969, 17.6027, 18.2182, 18.0168, 18.2869, 52.2608,\n",
      "          18.2863, 17.4648, 18.6569, 18.1940, 17.9980, 18.1661, 18.4918,\n",
      "          18.4564, 18.8269, 19.4254, 18.8958, 18.9927, 19.3013, 18.9911,\n",
      "          19.1089, 19.5001, 19.2909, 19.0596, 53.0577, 20.7767, 18.9577,\n",
      "          19.8323, 19.6662, 20.8387, 20.9482, 21.8256, 20.6607, 21.3202,\n",
      "          22.3967, 22.0952]]], dtype=torch.float64)\n",
      "tensor([[[20.1765, 19.9809, 19.9712, 20.0456, 20.0901, 20.1792, 58.9000,\n",
      "          20.3177, 20.3573, 20.3877, 20.4435, 20.4828, 20.7045, 20.8424,\n",
      "          20.9489, 21.0888, 21.0694, 21.1236, 21.2083, 21.2709, 21.4572,\n",
      "          21.4795, 21.5112, 21.5915, 21.6248, 58.9000, 21.7732, 21.7723,\n",
      "          21.9886, 22.4178, 22.6961, 22.8381, 23.3870, 23.8093, 24.2429,\n",
      "          24.4678, 25.1684]]])\n"
     ]
    },
    {
     "data": {
      "image/png": "[encoded data removed]",
      "text/plain": [
       "<Figure size 720x576 with 3 Axes>"
      ]
     },
     "metadata": {
      "needs_background": "light"
     },
     "output_type": "display_data"
    }
   ],
   "source": [
    "p = 200\n",
    "input = torch.tensor(add_noise(X[p])).unsqueeze(0).unsqueeze(0)\n",
    "label = torch.tensor(X[p]).unsqueeze(0).unsqueeze(0)\n",
    "print(input)\n",
    "print(label)\n",
    "\n",
    "\n",
    "plt.figure(figsize= (10, 8))\n",
    "\n",
    "plt.subplot(1, 3, 1)\n",
    "plt.scatter(filter_wls, label, label = \"z= \"+str(z[p,0]))\n",
    "plt.ylabel(\"magnitude\")\n",
    "#plt.ylim(30,10)\n",
    "plt.xlabel(\"wavelength\")\n",
    "plt.legend()\n",
    "\n",
    "plt.subplot(1, 3, 2)\n",
    "plt.scatter(filter_wls, input, label = \"z= \"+str(z[p,0]))\n",
    "plt.ylabel(\"magnitude\")\n",
    "#plt.ylim(30,10)\n",
    "plt.xlabel(\"wavelength\")\n",
    "plt.legend()\n",
    "\n",
    "plt.subplot(1, 3, 3)\n",
    "plt.scatter(filter_wls, model(input.to(device)).cpu().detach().numpy(), label = \"z= \"+str(z[p,0]))\n",
    "plt.ylabel(\"magnitude\")\n",
    "#plt.ylim(30,10)\n",
    "plt.xlabel(\"wavelength\")\n",
    "plt.legend()\n",
    "\n",
    "\n",
    "\n",
    "plt.tight_layout()\n",
    "plt.show()\n"
   ]
  },
  {
   "cell_type": "code",
   "execution_count": 46,
   "metadata": {},
   "outputs": [
    {
     "name": "stdout",
     "output_type": "stream",
     "text": [
      "tensor([[[14.8719, 14.2900, 15.1663, 14.2712, 15.1106, 14.5512, 53.1612,\n",
      "          15.2791, 15.0594, 15.5357, 14.1048, 14.5625, 16.0955, 15.1472,\n",
      "          16.0244, 15.3857, 52.3031, 15.6043, 15.7074, 15.7958, 15.5254,\n",
      "          15.5141, 15.2844, 16.4446, 16.0062, 15.7504, 16.3811, 17.3212,\n",
      "          16.1662, 17.3841, 17.4298, 18.3424, 17.1773, 17.2632, 18.2433,\n",
      "          18.0399, 18.8984]]], dtype=torch.float64)\n",
      "tensor([[[16.4515, 16.2666, 16.2695, 16.3916, 16.4301, 16.5009, 58.9000,\n",
      "          16.6480, 16.6511, 16.7001, 16.7327, 16.7385, 16.9885, 17.1548,\n",
      "          17.2766, 17.4358, 58.9000, 17.5031, 17.5670, 17.6188, 17.7205,\n",
      "          17.8120, 17.9015, 17.9752, 18.1516, 18.1563, 18.1563, 18.1852,\n",
      "          18.3857, 18.9825, 19.5088, 19.9365, 19.7598, 20.1618, 20.7605,\n",
      "          20.5404, 20.9360]]])\n"
     ]
    },
    {
     "data": {
      "image/png": "[encoded data removed]",
      "text/plain": [
       "<Figure size 720x576 with 3 Axes>"
      ]
     },
     "metadata": {
      "needs_background": "light"
     },
     "output_type": "display_data"
    }
   ],
   "source": [
    "p = 201\n",
    "input = torch.tensor(add_noise(X[p])).unsqueeze(0).unsqueeze(0)\n",
    "label = torch.tensor(X[p]).unsqueeze(0).unsqueeze(0)\n",
    "print(input)\n",
    "print(label)\n",
    "\n",
    "\n",
    "plt.figure(figsize= (10, 8))\n",
    "\n",
    "plt.subplot(1, 3, 1)\n",
    "plt.scatter(filter_wls, label, label = \"z= \"+str(z[p,0]))\n",
    "plt.ylabel(\"magnitude\")\n",
    "#plt.ylim(30,10)\n",
    "plt.xlabel(\"wavelength\")\n",
    "plt.legend()\n",
    "\n",
    "plt.subplot(1, 3, 2)\n",
    "plt.scatter(filter_wls, input, label = \"z= \"+str(z[p,0]))\n",
    "plt.ylabel(\"magnitude\")\n",
    "#plt.ylim(30,10)\n",
    "plt.xlabel(\"wavelength\")\n",
    "plt.legend()\n",
    "\n",
    "plt.subplot(1, 3, 3)\n",
    "plt.scatter(filter_wls, model(input.to(device)).cpu().detach().numpy(), label = \"z= \"+str(z[p,0]))\n",
    "plt.ylabel(\"magnitude\")\n",
    "#plt.ylim(30,10)\n",
    "plt.xlabel(\"wavelength\")\n",
    "plt.legend()\n",
    "\n",
    "\n",
    "\n",
    "plt.tight_layout()\n",
    "plt.show()"
   ]
  },
  {
   "cell_type": "code",
   "execution_count": null,
   "metadata": {},
   "outputs": [],
   "source": []
  },
  {
   "cell_type": "code",
   "execution_count": null,
   "metadata": {},
   "outputs": [],
   "source": []
  },
  {
   "cell_type": "code",
   "execution_count": null,
   "metadata": {},
   "outputs": [],
   "source": []
  },
  {
   "cell_type": "code",
   "execution_count": null,
   "metadata": {},
   "outputs": [],
   "source": []
  },
  {
   "cell_type": "code",
   "execution_count": null,
   "metadata": {},
   "outputs": [],
   "source": []
  },
  {
   "cell_type": "code",
   "execution_count": null,
   "metadata": {},
   "outputs": [],
   "source": []
  },
  {
   "cell_type": "code",
   "execution_count": null,
   "metadata": {},
   "outputs": [],
   "source": []
  },
  {
   "cell_type": "code",
   "execution_count": null,
   "metadata": {},
   "outputs": [],
   "source": []
  },
  {
   "cell_type": "code",
   "execution_count": null,
   "metadata": {},
   "outputs": [],
   "source": []
  },
  {
   "cell_type": "code",
   "execution_count": null,
   "metadata": {},
   "outputs": [],
   "source": []
  },
  {
   "cell_type": "code",
   "execution_count": null,
   "metadata": {},
   "outputs": [],
   "source": []
  },
  {
   "cell_type": "code",
   "execution_count": null,
   "metadata": {},
   "outputs": [],
   "source": []
  },
  {
   "cell_type": "code",
   "execution_count": null,
   "metadata": {},
   "outputs": [],
   "source": []
  },
  {
   "cell_type": "code",
   "execution_count": 69,
   "metadata": {},
   "outputs": [
    {
     "data": {
      "image/png": "[encoded data removed]",
      "text/plain": [
       "<Figure size 720x576 with 2 Axes>"
      ]
     },
     "metadata": {
      "needs_background": "light"
     },
     "output_type": "display_data"
    }
   ],
   "source": [
    "plt.figure(figsize= (10, 8))\n",
    "\n",
    "plt.subplot(1, 2, 2)\n",
    "plt.scatter(filter_wls, X[0], label = \"z= \"+str(z[i,0]))\n",
    "plt.ylabel(\"magnitude\")\n",
    "#plt.ylim(30,10)\n",
    "plt.xlabel(\"wavelength\")\n",
    "plt.legend()\n",
    "\n",
    "plt.subplot(1, 2, 1)\n",
    "plt.scatter(filter_wls, X0, label = \"z= \"+str(z[0,0]))\n",
    "plt.ylabel(\"magnitude\")\n",
    "#plt.ylim(30,10)\n",
    "plt.xlabel(\"wavelength\")\n",
    "plt.legend()\n",
    "\n",
    "\n",
    "\n",
    "plt.tight_layout()\n",
    "plt.show()\n"
   ]
  },
  {
   "cell_type": "code",
   "execution_count": 49,
   "metadata": {},
   "outputs": [
    {
     "data": {
      "text/plain": [
       "array([20.786884, 20.960768, 21.265028, 21.509062, 21.601727, 21.808668,\n",
       "       58.9     , 21.899237, 21.870485, 22.042837, 22.1664  , 22.201782,\n",
       "       22.337282, 22.382853, 22.393621, 22.491522, 22.391426, 22.527351,\n",
       "       22.557444, 22.61449 , 22.445515, 22.539598, 22.658358, 22.670202,\n",
       "       22.752363, 58.9     , 58.9     , 22.814674, 22.803913, 23.091652,\n",
       "       23.25525 , 23.325388, 23.654198, 24.586325, 24.331484, 25.391253,\n",
       "       25.81203 ], dtype=float32)"
      ]
     },
     "execution_count": 49,
     "metadata": {},
     "output_type": "execute_result"
    }
   ],
   "source": [
    "X[0]"
   ]
  },
  {
   "cell_type": "code",
   "execution_count": 50,
   "metadata": {},
   "outputs": [
    {
     "data": {
      "text/plain": [
       "array([18.18387858, 19.11158712, 18.77033567, 18.73173945, 19.83147745,\n",
       "       19.76799058, 52.53073971, 19.24033204, 19.82485043, 19.58854701,\n",
       "       19.18816197, 20.34733135, 19.80594306, 20.61285027, 20.00532452,\n",
       "       19.72817818, 20.04521396, 20.65350765, 20.20638097, 19.88978372,\n",
       "       20.32575284, 19.93396853, 20.56848211, 20.20734979, 20.52066788,\n",
       "       52.92152031, 52.14634073, 20.77923495, 20.89681471, 21.11384064,\n",
       "       21.1684129 , 21.25573751, 21.35002085, 21.63235812, 22.5197138 ,\n",
       "       22.67553267, 23.9491519 ])"
      ]
     },
     "execution_count": 50,
     "metadata": {},
     "output_type": "execute_result"
    }
   ],
   "source": [
    "X0"
   ]
  },
  {
   "cell_type": "code",
   "execution_count": null,
   "metadata": {},
   "outputs": [],
   "source": []
  },
  {
   "cell_type": "code",
   "execution_count": null,
   "metadata": {},
   "outputs": [],
   "source": []
  }
 ],
 "metadata": {
  "kernelspec": {
   "display_name": "Python 3",
   "language": "python",
   "name": "python3"
  },
  "language_info": {
   "codemirror_mode": {
    "name": "ipython",
    "version": 3
   },
   "file_extension": ".py",
   "mimetype": "text/x-python",
   "name": "python",
   "nbconvert_exporter": "python",
   "pygments_lexer": "ipython3",
   "version": "3.10.2"
  },
  "orig_nbformat": 4,
  "vscode": {
   "interpreter": {
    "hash": "7101ca937a6cefa303d920fd1335fe82956cc294edbf5f7bc268a5a56c54bb64"
   }
  }
 },
 "nbformat": 4,
 "nbformat_minor": 2
}
