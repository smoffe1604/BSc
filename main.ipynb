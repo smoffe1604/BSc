{
 "cells": [
  {
   "cell_type": "code",
   "execution_count": 8,
   "metadata": {},
   "outputs": [
    {
     "name": "stdout",
     "output_type": "stream",
     "text": [
      "^C\n",
      "Requirement already satisfied: torch in d:\\simon\\anaconda\\lib\\site-packages (1.11.0)"
     ]
    },
    {
     "name": "stderr",
     "output_type": "stream",
     "text": [
      "WARNING: Error parsing requirements for joblib: [Errno 2] No such file or directory: 'd:\\\\simon\\\\anaconda\\\\lib\\\\site-packages\\\\joblib-1.1.0.dist-info\\\\METADATA'\n"
     ]
    },
    {
     "name": "stdout",
     "output_type": "stream",
     "text": [
      "\n",
      "Requirement already satisfied: torchvision in d:\\simon\\anaconda\\lib\\site-packages (0.12.0)\n",
      "Requirement already satisfied: torchaudio in d:\\simon\\anaconda\\lib\\site-packages (0.11.0)\n",
      "Requirement already satisfied: typing_extensions in d:\\simon\\anaconda\\lib\\site-packages (from torch) (3.10.0.2)\n",
      "Requirement already satisfied: numpy in d:\\simon\\anaconda\\lib\\site-packages (from torchvision) (1.20.3)\n",
      "Requirement already satisfied: requests in d:\\simon\\anaconda\\lib\\site-packages (from torchvision) (2.26.0)\n",
      "Requirement already satisfied: pillow!=8.3.*,>=5.3.0 in d:\\simon\\anaconda\\lib\\site-packages (from torchvision) (8.4.0)\n",
      "Requirement already satisfied: urllib3<1.27,>=1.21.1 in d:\\simon\\anaconda\\lib\\site-packages (from requests->torchvision) (1.26.7)\n",
      "Requirement already satisfied: idna<4,>=2.5 in d:\\simon\\anaconda\\lib\\site-packages (from requests->torchvision) (3.2)\n",
      "Requirement already satisfied: charset-normalizer~=2.0.0 in d:\\simon\\anaconda\\lib\\site-packages (from requests->torchvision) (2.0.4)\n",
      "Requirement already satisfied: certifi>=2017.4.17 in d:\\simon\\anaconda\\lib\\site-packages (from requests->torchvision) (2021.10.8)\n"
     ]
    },
    {
     "name": "stderr",
     "output_type": "stream",
     "text": [
      "ERROR: Could not find a version that satisfies the requirement pickle (from versions: none)\n",
      "ERROR: No matching distribution found for pickle\n"
     ]
    },
    {
     "name": "stdout",
     "output_type": "stream",
     "text": [
      "Collecting varname\n",
      "  Using cached varname-0.11.0-py3-none-any.whl (23 kB)\n",
      "Collecting executing<2.0,>=1.2\n",
      "  Using cached executing-1.2.0-py2.py3-none-any.whl (24 kB)\n",
      "Installing collected packages: executing, varname\n",
      "Successfully installed executing-1.2.0 varname-0.11.0\n",
      "['d:\\\\mycode\\\\BSc\\\\python', 'd:\\\\simon\\\\Anaconda\\\\python39.zip', 'd:\\\\simon\\\\Anaconda\\\\DLLs', 'd:\\\\simon\\\\Anaconda\\\\lib', 'd:\\\\simon\\\\Anaconda', '', 'd:\\\\simon\\\\Anaconda\\\\lib\\\\site-packages', 'd:\\\\simon\\\\Anaconda\\\\lib\\\\site-packages\\\\locket-0.2.1-py3.9.egg', 'd:\\\\simon\\\\Anaconda\\\\lib\\\\site-packages\\\\win32', 'd:\\\\simon\\\\Anaconda\\\\lib\\\\site-packages\\\\win32\\\\lib', 'd:\\\\simon\\\\Anaconda\\\\lib\\\\site-packages\\\\Pythonwin', 'd:\\\\simon\\\\Anaconda\\\\lib\\\\site-packages\\\\IPython\\\\extensions', 'C:\\\\Users\\\\simon\\\\.ipython', 'C:\\\\Python311\\\\Lib\\\\site-packages', 'C:\\\\Python311\\\\Lib\\\\site-packages']\n"
     ]
    },
    {
     "name": "stderr",
     "output_type": "stream",
     "text": [
      "WARNING: Ignoring invalid distribution -cikit-learn (d:\\simon\\anaconda\\lib\\site-packages)\n",
      "WARNING: Ignoring invalid distribution -cikit-learn (d:\\simon\\anaconda\\lib\\site-packages)\n",
      "WARNING: Ignoring invalid distribution -cikit-learn (d:\\simon\\anaconda\\lib\\site-packages)\n",
      "WARNING: Ignoring invalid distribution -cikit-learn (d:\\simon\\anaconda\\lib\\site-packages)\n",
      "WARNING: Ignoring invalid distribution -cikit-learn (d:\\simon\\anaconda\\lib\\site-packages)\n",
      "WARNING: Ignoring invalid distribution -cikit-learn (d:\\simon\\anaconda\\lib\\site-packages)\n",
      "WARNING: Ignoring invalid distribution -cikit-learn (d:\\simon\\anaconda\\lib\\site-packages)\n",
      "WARNING: Ignoring invalid distribution -cikit-learn (d:\\simon\\anaconda\\lib\\site-packages)\n"
     ]
    }
   ],
   "source": [
    "!pip3 install -U scikit-learn\n",
    "!pip3 install torch torchvision torchaudio\n",
    "!pip3 install pickle\n",
    "!pip3 install -U varname"
   ]
  },
  {
   "cell_type": "code",
   "execution_count": 1,
   "metadata": {},
   "outputs": [],
   "source": [
    "import pandas as pd \n",
    "import numpy as np\n",
    "import math \n",
    "import matplotlib.pyplot as plt \n",
    "from sklearn.model_selection import train_test_split\n",
    "from sklearn.preprocessing import StandardScaler\n",
    "import random\n",
    "\n",
    "import torch\n",
    "from torch import nn\n",
    "from torch.nn import functional as F\n",
    "from torch.utils.data import DataLoader\n",
    "from torch.utils.data import Dataset\n",
    "import torch.optim as optim\n",
    "\n",
    "import pickle "
   ]
  },
  {
   "attachments": {},
   "cell_type": "markdown",
   "metadata": {},
   "source": [
    "Unpacking the data"
   ]
  },
  {
   "cell_type": "code",
   "execution_count": 2,
   "metadata": {},
   "outputs": [],
   "source": [
    "with open('data/sampled_filters_train.pkl', 'rb') as f:\n",
    "    data = pickle.load(f)"
   ]
  },
  {
   "cell_type": "code",
   "execution_count": 3,
   "metadata": {},
   "outputs": [],
   "source": [
    "def get_data(data):\n",
    "    #in data\n",
    "    #wavelength (4000000, 149)\n",
    "    #spectra (4000000, 149)\n",
    "    #X (4000000, 37)\n",
    "    #y (4000000, 4)\n",
    "    #z (4000000, 1)\n",
    "    #zmin (float)\n",
    "    #zmax (float)\n",
    "    #filter_names (string list), len = 37\n",
    "    df_X = pd.DataFrame(data['X'])\n",
    "    outlier_columns = df_X.columns[df_X.gt(58.8).any(axis = 0)]\n",
    "    df_X = df_X.drop(outlier_columns, axis = 1)\n",
    "    X = df_X.to_numpy()\n",
    "    y = pd.DataFrame(data['y'])\n",
    "    z = pd.DataFrame(data['z'])\n",
    "    wavelengths = data['wavelengths']\n",
    "    spectra = data['spectra']\n",
    "    \n",
    "    scaler = StandardScaler()\n",
    "    X_normalized = scaler.fit_transform(df_X)\n",
    "\n",
    "    names=data['filter_names']\n",
    "    filter_wls = [int(name[1:-1].rstrip('W')) for name in names]\n",
    "    filter_wls = [element for i, element in enumerate(filter_wls) if i not in outlier_columns]\n",
    "    indices=[0,10,30,500,15000,800000]\n",
    "    return filter_wls, wavelengths, spectra, X, X_normalized, y, z\n",
    "filter_wls, wavelengths, spectra, X, X_normalized, y, z = get_data(data)\n"
   ]
  },
  {
   "cell_type": "code",
   "execution_count": 5,
   "metadata": {},
   "outputs": [
    {
     "data": {
      "text/plain": [
       "array([  70,   90,  115,  140,  150,  162,  182,  187,  200,  210,  212,\n",
       "        250,  277,  300,  322,  335,  356,  360,  405,  410,  430,  444,\n",
       "        460,  480,  560,  770, 1000, 1130, 1280, 1500, 1800])"
      ]
     },
     "execution_count": 5,
     "metadata": {},
     "output_type": "execute_result"
    }
   ],
   "source": [
    "np.array(filter_wls)"
   ]
  },
  {
   "cell_type": "code",
   "execution_count": 6,
   "metadata": {},
   "outputs": [
    {
     "name": "stdout",
     "output_type": "stream",
     "text": [
      "Using cuda device\n"
     ]
    }
   ],
   "source": [
    "device = \"cuda\" if torch.cuda.is_available() else \"cpu\"\n",
    "print(f\"Using {device} device\")"
   ]
  },
  {
   "attachments": {},
   "cell_type": "markdown",
   "metadata": {},
   "source": [
    "define network"
   ]
  },
  {
   "cell_type": "code",
   "execution_count": 7,
   "metadata": {},
   "outputs": [],
   "source": [
    "class DoubleConv(nn.Module):\n",
    "    def __init__(self, in_channels, out_channels):\n",
    "        super(DoubleConv, self).__init__()\n",
    "        self.conv1 = nn.Conv1d(in_channels, out_channels, kernel_size=3, padding=1)\n",
    "        self.bn1 = nn.BatchNorm1d(out_channels)\n",
    "        self.relu1 = nn.ReLU(inplace=True)\n",
    "        self.conv2 = nn.Conv1d(out_channels, out_channels, kernel_size=3, padding=1)\n",
    "        self.bn2 = nn.BatchNorm1d(out_channels)\n",
    "        self.relu2 = nn.ReLU(inplace=True)\n",
    "        \n",
    "    def forward(self, x):\n",
    "        x = self.conv1(x)\n",
    "        x = self.bn1(x)\n",
    "        x = self.relu1(x)\n",
    "        x = self.conv2(x)\n",
    "        x = self.bn2(x)\n",
    "        x = self.relu2(x)\n",
    "        return x\n",
    "\n",
    "class SingleConv(nn.Module):\n",
    "    def __init__(self, in_channels, out_channels):\n",
    "        super(SingleConv, self).__init__()\n",
    "        self.conv = nn.Conv1d(in_channels, out_channels, kernel_size=3, padding=1)\n",
    "        self.bn = nn.BatchNorm1d(out_channels)\n",
    "        self.relu = nn.ReLU(inplace=True)\n",
    "        \n",
    "    def forward(self, x):\n",
    "        x = self.conv(x)\n",
    "        x = self.bn(x)\n",
    "        x = self.relu(x)\n",
    "        return x\n",
    "\n",
    "class Down(nn.Module):\n",
    "    def __init__(self, in_channels, out_channels):\n",
    "        super(Down, self).__init__()\n",
    "        self.conv = DoubleConv(in_channels, out_channels)\n",
    "        self.pool = nn.MaxPool1d(kernel_size=2, stride=2)\n",
    "        \n",
    "    def forward(self, x):\n",
    "        x = self.pool(x)\n",
    "        x = self.conv(x)\n",
    "        return x\n",
    "\n",
    "class Up(nn.Module):\n",
    "    def __init__(self, in_channels, out_channels):\n",
    "        super(Up, self).__init__()\n",
    "        self.up = nn.ConvTranspose1d(in_channels, in_channels//2, kernel_size=2, stride=2)\n",
    "        self.conv = DoubleConv(in_channels, out_channels)\n",
    "        \n",
    "    def forward(self, x1, x2):\n",
    "        x1 = self.up(x1)\n",
    "        diff = x2.size()[2] - x1.size()[2]\n",
    "        x1 = F.pad(x1, (diff // 2, (diff + 1) // 2))\n",
    "        x = torch.cat([x2, x1], dim=1)\n",
    "\n",
    "        x = self.conv(x)\n",
    "        return x\n",
    "\n",
    "class BigUNet(nn.Module):\n",
    "    def __init__(self):\n",
    "        super(BigUNet, self).__init__()\n",
    "        self.conv = DoubleConv(1, 64)\n",
    "        self.down1 = Down(64, 128)\n",
    "        self.down2 = Down(128, 256)\n",
    "        self.down3 = Down(256, 512)\n",
    "        self.up2 = Up(512, 256)\n",
    "        self.up3 = Up(256, 128)\n",
    "        self.up4 = Up(128, 64)\n",
    "        self.convOut = nn.Conv1d(64, 1, kernel_size = 1)\n",
    "\n",
    "    def forward(self, x):\n",
    "        x1 = self.conv(x)\n",
    "        x2 = self.down1(x1)\n",
    "        x3 = self.down2(x2)\n",
    "        x4 = self.down3(x3)\n",
    "        x3 = self.up2(x4, x3)\n",
    "        x2 = self.up3(x3, x2)\n",
    "        x1 = self.up4(x2, x1)\n",
    "        x = self.convOut(x1)\n",
    "        return x\n",
    "    \n",
    "class MedBigUNet(nn.Module):\n",
    "    def __init__(self):\n",
    "        super(MedBigUNet, self).__init__()\n",
    "        self.conv = DoubleConv(1, 32)\n",
    "        self.down1 = Down(32, 64)\n",
    "        self.down2 = Down(64, 128)\n",
    "        self.down3 = Down(128, 256)\n",
    "        self.up2 = Up(256, 128)\n",
    "        self.up3 = Up(128, 64)\n",
    "        self.up4 = Up(64, 32)\n",
    "        self.convOut = nn.Conv1d(32, 1, kernel_size = 1)\n",
    "\n",
    "    def forward(self, x):\n",
    "        x1 = self.conv(x)\n",
    "        x2 = self.down1(x1)\n",
    "        x3 = self.down2(x2)\n",
    "        x4 = self.down3(x3)\n",
    "        x3 = self.up2(x4, x3)\n",
    "        x2 = self.up3(x3, x2)\n",
    "        x1 = self.up4(x2, x1)\n",
    "        x = self.convOut(x1)\n",
    "        return x\n",
    "\n",
    "class MediumUNet(nn.Module):\n",
    "    def __init__(self):\n",
    "        super(MediumUNet, self).__init__()\n",
    "        self.conv = DoubleConv(1, 64)\n",
    "        self.down1 = Down(64, 128)\n",
    "        self.down2 = Down(128, 256)\n",
    "        self.up1 = Up(256, 128)\n",
    "        self.up2 = Up(128, 64)\n",
    "        self.convOut = nn.Conv1d(64, 1, kernel_size = 1)\n",
    "        \n",
    "    def forward(self, x):\n",
    "        x1 = self.conv(x)\n",
    "        x2 = self.down1(x1)\n",
    "        x3 = self.down2(x2)\n",
    "        x2 = self.up1(x3, x2)\n",
    "        x1 = self.up2(x2, x1)\n",
    "        x = self.convOut(x1)\n",
    "        return x\n",
    "\n",
    "class SmallUNet(nn.Module):\n",
    "    def __init__(self):\n",
    "        super(SmallUNet, self).__init__()\n",
    "        self.conv = DoubleConv(1, 32)\n",
    "        self.down1 = DoubleConv(32, 64)\n",
    "        self.down2 = DoubleConv(64, 128)\n",
    "        self.up1 = Up(128, 64)\n",
    "        self.up2 = Up(64, 32)\n",
    "        self.convOut = nn.Conv1d(32, 1, kernel_size = 1)\n",
    "        \n",
    "    def forward(self, x):\n",
    "        x1 = self.conv(x)\n",
    "        x2 = self.down1(x1)\n",
    "        x3 = self.down2(x2)\n",
    "        x2 = self.up1(x3, x2)\n",
    "        x1 = self.up2(x2, x1)\n",
    "        x = self.convOut(x1)\n",
    "        return x\n"
   ]
  },
  {
   "attachments": {},
   "cell_type": "markdown",
   "metadata": {},
   "source": [
    "Add Noise"
   ]
  },
  {
   "cell_type": "code",
   "execution_count": 81,
   "metadata": {},
   "outputs": [],
   "source": [
    "def cos_betaAlpha_schedule(T = 300, s=0.005):\n",
    "    x = torch.linspace(0, T, T+1)\n",
    "    alphas_cumprod = torch.cos(((x / T) + s) / (1 + s) * torch.pi * 0.5) ** 2\n",
    "    alphas_cumprod = alphas_cumprod / alphas_cumprod[0]\n",
    "    betas = 1 - (alphas_cumprod[1:] / alphas_cumprod[:-1])\n",
    "    betas = torch.clip(betas, 0.0001, 0.9999)\n",
    "    alpha_bar = np.cumprod(np.array([1-betas[i] for i in range(len(betas))]))\n",
    "    return betas, alpha_bar\n",
    "\n",
    "def add_noise(X, t, beta_t, alpha_bar):\n",
    "    if t == 0:\n",
    "        X_tm1 = X.numpy()\n",
    "    else:\n",
    "        mu, sigma = math.sqrt(alpha_bar[t - 1]) * X, (1 - alpha_bar[t - 1]) * np.identity(len(X))\n",
    "        X_tm1 = np.random.multivariate_normal(mu, sigma)\n",
    "    mu, sigma = math.sqrt(1 - beta_t[t]) * X_tm1, (beta_t[t]) * np.identity(len(X_tm1))\n",
    "    X_t = np.random.multivariate_normal(mu, sigma)\n",
    "    pred_noise =  X_t - X_tm1\n",
    "    return X_t, pred_noise\n",
    "\n",
    "def denoise(model, X, T = 300):\n",
    "    X = torch.tensor(X).unsqueeze(0).unsqueeze(0).to(device)\n",
    "    for _ in range(T):\n",
    "        X_noise = model(X)\n",
    "        X = X - X_noise\n",
    "    return X\n",
    "\n",
    "def gen_dataset(data, T = 300):\n",
    "\n",
    "    X_t_arr = []\n",
    "    X_noise_arr = []\n",
    "\n",
    "    beta_t, alpha_bar = cos_betaAlpha_schedule(T = T)\n",
    "\n",
    "    for d in data:\n",
    "        t = np.random.randint(0, T)\n",
    "        X_t, X_noise = add_noise(d, t, beta_t, alpha_bar)\n",
    "        X_t_arr.append(X_t)\n",
    "        X_noise_arr.append(X_noise)\n",
    "\n",
    "    return X_t_arr, X_noise_arr\n",
    "\n",
    "class MyDataset(Dataset):\n",
    "    def __init__(self, data_dict):\n",
    "        self.data_dict = data_dict\n",
    "        self.keys = list(data_dict.keys())\n",
    "        self.length = len(data_dict[self.keys[0]])\n",
    "    \n",
    "    def __len__(self):\n",
    "        return self.length\n",
    "    \n",
    "    def __getitem__(self, index):\n",
    "        data = {key: self.data_dict[key][index] for key in self.keys}\n",
    "        return data\n"
   ]
  },
  {
   "attachments": {},
   "cell_type": "markdown",
   "metadata": {},
   "source": [
    "Training"
   ]
  },
  {
   "cell_type": "code",
   "execution_count": 9,
   "metadata": {},
   "outputs": [],
   "source": [
    "def train_model(model, n = len(X_normalized), batch_size = 256, EPOCHS = 50):\n",
    "    #loss\n",
    "    loss_fn = nn.MSELoss()\n",
    "    #optimizer\n",
    "    optimizer = optim.Adam(model.parameters(), lr=0.001)\n",
    "    scheduler = optim.lr_scheduler.ExponentialLR(optimizer, gamma=0.9)\n",
    "\n",
    "    #loss data\n",
    "    running_loss_arr = []\n",
    "\n",
    "    #training\n",
    "    model.train(True)\n",
    "    with open(\"foo.txt\", \"w\") as f:\n",
    "        f.write(\"start \\n\")\n",
    "    for epoch in range(EPOCHS):\n",
    "        with open(\"foo.txt\", \"a\") as f:\n",
    "            f.write(\"epoch: \" + str(epoch) + \"\\n\")\n",
    "        # generate data_loader\n",
    "        train_dataloader = DataLoader(MyDataset({\"X\": X_normalized[:n]}), batch_size=batch_size, shuffle=False)\n",
    "        \n",
    "        print()\n",
    "        \n",
    "        \n",
    "        print('EPOCH ', epoch, \":\")\n",
    "        \n",
    "        running_loss = 0\n",
    "        last_loss = 0\n",
    "\n",
    "        for i, data in enumerate(train_dataloader):\n",
    "            # Every data instance is an input + label pair\n",
    "            X_t, X_tm1 = gen_dataset(data['X'])\n",
    "            X_t = torch.tensor(X_t).unsqueeze(1).double().to(device)\n",
    "            X_tm1 = torch.tensor(X_tm1).unsqueeze(1).double().to(device)\n",
    "            # Zero gradients for every batch\n",
    "            optimizer.zero_grad()\n",
    "\n",
    "            # Make predictions for this batch\n",
    "            outputs = model(X_t)\n",
    "            \n",
    "            # Compute the loss and its gradients\n",
    "            loss = loss_fn(outputs, X_tm1)\n",
    "\n",
    "            loss.backward()\n",
    "\n",
    "            # Adjust learning weights\n",
    "            optimizer.step()\n",
    "\n",
    "            # Gather data\n",
    "            running_loss += loss.item()\n",
    "            if (i+1) % 100 == 0:\n",
    "                last_loss = running_loss / 100 # loss per batch\n",
    "                tb_x = epoch * len(train_dataloader) + i + 1\n",
    "                running_loss_arr.append([tb_x, last_loss])\n",
    "                running_loss = 0.\n",
    "                with open(\"foo.txt\", \"a\") as f:\n",
    "                    f.write(str(last_loss) + \"\\n\")\n",
    "        scheduler.step()\n",
    "\n",
    "        print('LOSS train: ', running_loss_arr[-1])\n",
    "\n",
    "    model.train(False)\n",
    "    return np.array(running_loss_arr)\n"
   ]
  },
  {
   "attachments": {},
   "cell_type": "markdown",
   "metadata": {},
   "source": [
    "Def models and train"
   ]
  },
  {
   "cell_type": "code",
   "execution_count": 49,
   "metadata": {},
   "outputs": [],
   "source": [
    "model_big = BigUNet().double().to(device)\n",
    "model_medBig = MedBigUNet().double().to(device)\n",
    "model_medium = MediumUNet().double().to(device)\n",
    "model_small = SmallUNet().double().to(device)\n",
    "modelList = [model_big, model_medBig, model_medium, model_small]\n",
    "modelNames = [\"model_big\", \"model_medBig\", \"model_medium\", \"model_small\"]\n",
    "#modelList = [model_big]\n",
    "#modelNames = [\"model_big\"]"
   ]
  },
  {
   "cell_type": "code",
   "execution_count": 50,
   "metadata": {},
   "outputs": [
    {
     "name": "stdout",
     "output_type": "stream",
     "text": [
      "#####################################\n",
      "n:  512000\n",
      "batch_size:  64\n",
      "Epochs:  1\n",
      "model:  BigUNet(\n",
      "  (conv): DoubleConv(\n",
      "    (conv1): Conv1d(1, 64, kernel_size=(3,), stride=(1,), padding=(1,))\n",
      "    (bn1): BatchNorm1d(64, eps=1e-05, momentum=0.1, affine=True, track_running_stats=True)\n",
      "    (relu1): ReLU(inplace=True)\n",
      "    (conv2): Conv1d(64, 64, kernel_size=(3,), stride=(1,), padding=(1,))\n",
      "    (bn2): BatchNorm1d(64, eps=1e-05, momentum=0.1, affine=True, track_running_stats=True)\n",
      "    (relu2): ReLU(inplace=True)\n",
      "  )\n",
      "  (down1): Down(\n",
      "    (conv): DoubleConv(\n",
      "      (conv1): Conv1d(64, 128, kernel_size=(3,), stride=(1,), padding=(1,))\n",
      "      (bn1): BatchNorm1d(128, eps=1e-05, momentum=0.1, affine=True, track_running_stats=True)\n",
      "      (relu1): ReLU(inplace=True)\n",
      "      (conv2): Conv1d(128, 128, kernel_size=(3,), stride=(1,), padding=(1,))\n",
      "      (bn2): BatchNorm1d(128, eps=1e-05, momentum=0.1, affine=True, track_running_stats=True)\n",
      "      (relu2): ReLU(inplace=True)\n",
      "    )\n",
      "    (pool): MaxPool1d(kernel_size=2, stride=2, padding=0, dilation=1, ceil_mode=False)\n",
      "  )\n",
      "  (down2): Down(\n",
      "    (conv): DoubleConv(\n",
      "      (conv1): Conv1d(128, 256, kernel_size=(3,), stride=(1,), padding=(1,))\n",
      "      (bn1): BatchNorm1d(256, eps=1e-05, momentum=0.1, affine=True, track_running_stats=True)\n",
      "      (relu1): ReLU(inplace=True)\n",
      "      (conv2): Conv1d(256, 256, kernel_size=(3,), stride=(1,), padding=(1,))\n",
      "      (bn2): BatchNorm1d(256, eps=1e-05, momentum=0.1, affine=True, track_running_stats=True)\n",
      "      (relu2): ReLU(inplace=True)\n",
      "    )\n",
      "    (pool): MaxPool1d(kernel_size=2, stride=2, padding=0, dilation=1, ceil_mode=False)\n",
      "  )\n",
      "  (down3): Down(\n",
      "    (conv): DoubleConv(\n",
      "      (conv1): Conv1d(256, 512, kernel_size=(3,), stride=(1,), padding=(1,))\n",
      "      (bn1): BatchNorm1d(512, eps=1e-05, momentum=0.1, affine=True, track_running_stats=True)\n",
      "      (relu1): ReLU(inplace=True)\n",
      "      (conv2): Conv1d(512, 512, kernel_size=(3,), stride=(1,), padding=(1,))\n",
      "      (bn2): BatchNorm1d(512, eps=1e-05, momentum=0.1, affine=True, track_running_stats=True)\n",
      "      (relu2): ReLU(inplace=True)\n",
      "    )\n",
      "    (pool): MaxPool1d(kernel_size=2, stride=2, padding=0, dilation=1, ceil_mode=False)\n",
      "  )\n",
      "  (up2): Up(\n",
      "    (up): ConvTranspose1d(512, 256, kernel_size=(2,), stride=(2,))\n",
      "    (conv): DoubleConv(\n",
      "      (conv1): Conv1d(512, 256, kernel_size=(3,), stride=(1,), padding=(1,))\n",
      "      (bn1): BatchNorm1d(256, eps=1e-05, momentum=0.1, affine=True, track_running_stats=True)\n",
      "      (relu1): ReLU(inplace=True)\n",
      "      (conv2): Conv1d(256, 256, kernel_size=(3,), stride=(1,), padding=(1,))\n",
      "      (bn2): BatchNorm1d(256, eps=1e-05, momentum=0.1, affine=True, track_running_stats=True)\n",
      "      (relu2): ReLU(inplace=True)\n",
      "    )\n",
      "  )\n",
      "  (up3): Up(\n",
      "    (up): ConvTranspose1d(256, 128, kernel_size=(2,), stride=(2,))\n",
      "    (conv): DoubleConv(\n",
      "      (conv1): Conv1d(256, 128, kernel_size=(3,), stride=(1,), padding=(1,))\n",
      "      (bn1): BatchNorm1d(128, eps=1e-05, momentum=0.1, affine=True, track_running_stats=True)\n",
      "      (relu1): ReLU(inplace=True)\n",
      "      (conv2): Conv1d(128, 128, kernel_size=(3,), stride=(1,), padding=(1,))\n",
      "      (bn2): BatchNorm1d(128, eps=1e-05, momentum=0.1, affine=True, track_running_stats=True)\n",
      "      (relu2): ReLU(inplace=True)\n",
      "    )\n",
      "  )\n",
      "  (up4): Up(\n",
      "    (up): ConvTranspose1d(128, 64, kernel_size=(2,), stride=(2,))\n",
      "    (conv): DoubleConv(\n",
      "      (conv1): Conv1d(128, 64, kernel_size=(3,), stride=(1,), padding=(1,))\n",
      "      (bn1): BatchNorm1d(64, eps=1e-05, momentum=0.1, affine=True, track_running_stats=True)\n",
      "      (relu1): ReLU(inplace=True)\n",
      "      (conv2): Conv1d(64, 64, kernel_size=(3,), stride=(1,), padding=(1,))\n",
      "      (bn2): BatchNorm1d(64, eps=1e-05, momentum=0.1, affine=True, track_running_stats=True)\n",
      "      (relu2): ReLU(inplace=True)\n",
      "    )\n",
      "  )\n",
      "  (convOut): Conv1d(64, 1, kernel_size=(1,), stride=(1,))\n",
      ")\n",
      "\n",
      "EPOCH  0 :\n",
      "LOSS train:  [8000, 0.03727647640845384]\n",
      "#####################################\n",
      "#####################################\n",
      "n:  512000\n",
      "batch_size:  64\n",
      "Epochs:  1\n",
      "model:  MedBigUNet(\n",
      "  (conv): DoubleConv(\n",
      "    (conv1): Conv1d(1, 32, kernel_size=(3,), stride=(1,), padding=(1,))\n",
      "    (bn1): BatchNorm1d(32, eps=1e-05, momentum=0.1, affine=True, track_running_stats=True)\n",
      "    (relu1): ReLU(inplace=True)\n",
      "    (conv2): Conv1d(32, 32, kernel_size=(3,), stride=(1,), padding=(1,))\n",
      "    (bn2): BatchNorm1d(32, eps=1e-05, momentum=0.1, affine=True, track_running_stats=True)\n",
      "    (relu2): ReLU(inplace=True)\n",
      "  )\n",
      "  (down1): Down(\n",
      "    (conv): DoubleConv(\n",
      "      (conv1): Conv1d(32, 64, kernel_size=(3,), stride=(1,), padding=(1,))\n",
      "      (bn1): BatchNorm1d(64, eps=1e-05, momentum=0.1, affine=True, track_running_stats=True)\n",
      "      (relu1): ReLU(inplace=True)\n",
      "      (conv2): Conv1d(64, 64, kernel_size=(3,), stride=(1,), padding=(1,))\n",
      "      (bn2): BatchNorm1d(64, eps=1e-05, momentum=0.1, affine=True, track_running_stats=True)\n",
      "      (relu2): ReLU(inplace=True)\n",
      "    )\n",
      "    (pool): MaxPool1d(kernel_size=2, stride=2, padding=0, dilation=1, ceil_mode=False)\n",
      "  )\n",
      "  (down2): Down(\n",
      "    (conv): DoubleConv(\n",
      "      (conv1): Conv1d(64, 128, kernel_size=(3,), stride=(1,), padding=(1,))\n",
      "      (bn1): BatchNorm1d(128, eps=1e-05, momentum=0.1, affine=True, track_running_stats=True)\n",
      "      (relu1): ReLU(inplace=True)\n",
      "      (conv2): Conv1d(128, 128, kernel_size=(3,), stride=(1,), padding=(1,))\n",
      "      (bn2): BatchNorm1d(128, eps=1e-05, momentum=0.1, affine=True, track_running_stats=True)\n",
      "      (relu2): ReLU(inplace=True)\n",
      "    )\n",
      "    (pool): MaxPool1d(kernel_size=2, stride=2, padding=0, dilation=1, ceil_mode=False)\n",
      "  )\n",
      "  (down3): Down(\n",
      "    (conv): DoubleConv(\n",
      "      (conv1): Conv1d(128, 256, kernel_size=(3,), stride=(1,), padding=(1,))\n",
      "      (bn1): BatchNorm1d(256, eps=1e-05, momentum=0.1, affine=True, track_running_stats=True)\n",
      "      (relu1): ReLU(inplace=True)\n",
      "      (conv2): Conv1d(256, 256, kernel_size=(3,), stride=(1,), padding=(1,))\n",
      "      (bn2): BatchNorm1d(256, eps=1e-05, momentum=0.1, affine=True, track_running_stats=True)\n",
      "      (relu2): ReLU(inplace=True)\n",
      "    )\n",
      "    (pool): MaxPool1d(kernel_size=2, stride=2, padding=0, dilation=1, ceil_mode=False)\n",
      "  )\n",
      "  (up2): Up(\n",
      "    (up): ConvTranspose1d(256, 128, kernel_size=(2,), stride=(2,))\n",
      "    (conv): DoubleConv(\n",
      "      (conv1): Conv1d(256, 128, kernel_size=(3,), stride=(1,), padding=(1,))\n",
      "      (bn1): BatchNorm1d(128, eps=1e-05, momentum=0.1, affine=True, track_running_stats=True)\n",
      "      (relu1): ReLU(inplace=True)\n",
      "      (conv2): Conv1d(128, 128, kernel_size=(3,), stride=(1,), padding=(1,))\n",
      "      (bn2): BatchNorm1d(128, eps=1e-05, momentum=0.1, affine=True, track_running_stats=True)\n",
      "      (relu2): ReLU(inplace=True)\n",
      "    )\n",
      "  )\n",
      "  (up3): Up(\n",
      "    (up): ConvTranspose1d(128, 64, kernel_size=(2,), stride=(2,))\n",
      "    (conv): DoubleConv(\n",
      "      (conv1): Conv1d(128, 64, kernel_size=(3,), stride=(1,), padding=(1,))\n",
      "      (bn1): BatchNorm1d(64, eps=1e-05, momentum=0.1, affine=True, track_running_stats=True)\n",
      "      (relu1): ReLU(inplace=True)\n",
      "      (conv2): Conv1d(64, 64, kernel_size=(3,), stride=(1,), padding=(1,))\n",
      "      (bn2): BatchNorm1d(64, eps=1e-05, momentum=0.1, affine=True, track_running_stats=True)\n",
      "      (relu2): ReLU(inplace=True)\n",
      "    )\n",
      "  )\n",
      "  (up4): Up(\n",
      "    (up): ConvTranspose1d(64, 32, kernel_size=(2,), stride=(2,))\n",
      "    (conv): DoubleConv(\n",
      "      (conv1): Conv1d(64, 32, kernel_size=(3,), stride=(1,), padding=(1,))\n",
      "      (bn1): BatchNorm1d(32, eps=1e-05, momentum=0.1, affine=True, track_running_stats=True)\n",
      "      (relu1): ReLU(inplace=True)\n",
      "      (conv2): Conv1d(32, 32, kernel_size=(3,), stride=(1,), padding=(1,))\n",
      "      (bn2): BatchNorm1d(32, eps=1e-05, momentum=0.1, affine=True, track_running_stats=True)\n",
      "      (relu2): ReLU(inplace=True)\n",
      "    )\n",
      "  )\n",
      "  (convOut): Conv1d(32, 1, kernel_size=(1,), stride=(1,))\n",
      ")\n",
      "\n",
      "EPOCH  0 :\n",
      "LOSS train:  [8000, 0.039832338050618844]\n",
      "#####################################\n",
      "#####################################\n",
      "n:  512000\n",
      "batch_size:  64\n",
      "Epochs:  1\n",
      "model:  MediumUNet(\n",
      "  (conv): DoubleConv(\n",
      "    (conv1): Conv1d(1, 64, kernel_size=(3,), stride=(1,), padding=(1,))\n",
      "    (bn1): BatchNorm1d(64, eps=1e-05, momentum=0.1, affine=True, track_running_stats=True)\n",
      "    (relu1): ReLU(inplace=True)\n",
      "    (conv2): Conv1d(64, 64, kernel_size=(3,), stride=(1,), padding=(1,))\n",
      "    (bn2): BatchNorm1d(64, eps=1e-05, momentum=0.1, affine=True, track_running_stats=True)\n",
      "    (relu2): ReLU(inplace=True)\n",
      "  )\n",
      "  (down1): Down(\n",
      "    (conv): DoubleConv(\n",
      "      (conv1): Conv1d(64, 128, kernel_size=(3,), stride=(1,), padding=(1,))\n",
      "      (bn1): BatchNorm1d(128, eps=1e-05, momentum=0.1, affine=True, track_running_stats=True)\n",
      "      (relu1): ReLU(inplace=True)\n",
      "      (conv2): Conv1d(128, 128, kernel_size=(3,), stride=(1,), padding=(1,))\n",
      "      (bn2): BatchNorm1d(128, eps=1e-05, momentum=0.1, affine=True, track_running_stats=True)\n",
      "      (relu2): ReLU(inplace=True)\n",
      "    )\n",
      "    (pool): MaxPool1d(kernel_size=2, stride=2, padding=0, dilation=1, ceil_mode=False)\n",
      "  )\n",
      "  (down2): Down(\n",
      "    (conv): DoubleConv(\n",
      "      (conv1): Conv1d(128, 256, kernel_size=(3,), stride=(1,), padding=(1,))\n",
      "      (bn1): BatchNorm1d(256, eps=1e-05, momentum=0.1, affine=True, track_running_stats=True)\n",
      "      (relu1): ReLU(inplace=True)\n",
      "      (conv2): Conv1d(256, 256, kernel_size=(3,), stride=(1,), padding=(1,))\n",
      "      (bn2): BatchNorm1d(256, eps=1e-05, momentum=0.1, affine=True, track_running_stats=True)\n",
      "      (relu2): ReLU(inplace=True)\n",
      "    )\n",
      "    (pool): MaxPool1d(kernel_size=2, stride=2, padding=0, dilation=1, ceil_mode=False)\n",
      "  )\n",
      "  (up1): Up(\n",
      "    (up): ConvTranspose1d(256, 128, kernel_size=(2,), stride=(2,))\n",
      "    (conv): DoubleConv(\n",
      "      (conv1): Conv1d(256, 128, kernel_size=(3,), stride=(1,), padding=(1,))\n",
      "      (bn1): BatchNorm1d(128, eps=1e-05, momentum=0.1, affine=True, track_running_stats=True)\n",
      "      (relu1): ReLU(inplace=True)\n",
      "      (conv2): Conv1d(128, 128, kernel_size=(3,), stride=(1,), padding=(1,))\n",
      "      (bn2): BatchNorm1d(128, eps=1e-05, momentum=0.1, affine=True, track_running_stats=True)\n",
      "      (relu2): ReLU(inplace=True)\n",
      "    )\n",
      "  )\n",
      "  (up2): Up(\n",
      "    (up): ConvTranspose1d(128, 64, kernel_size=(2,), stride=(2,))\n",
      "    (conv): DoubleConv(\n",
      "      (conv1): Conv1d(128, 64, kernel_size=(3,), stride=(1,), padding=(1,))\n",
      "      (bn1): BatchNorm1d(64, eps=1e-05, momentum=0.1, affine=True, track_running_stats=True)\n",
      "      (relu1): ReLU(inplace=True)\n",
      "      (conv2): Conv1d(64, 64, kernel_size=(3,), stride=(1,), padding=(1,))\n",
      "      (bn2): BatchNorm1d(64, eps=1e-05, momentum=0.1, affine=True, track_running_stats=True)\n",
      "      (relu2): ReLU(inplace=True)\n",
      "    )\n",
      "  )\n",
      "  (convOut): Conv1d(64, 1, kernel_size=(1,), stride=(1,))\n",
      ")\n",
      "\n",
      "EPOCH  0 :\n",
      "LOSS train:  [8000, 0.0367976759935559]\n",
      "#####################################\n",
      "#####################################\n",
      "n:  512000\n",
      "batch_size:  64\n",
      "Epochs:  1\n",
      "model:  SmallUNet(\n",
      "  (conv): DoubleConv(\n",
      "    (conv1): Conv1d(1, 32, kernel_size=(3,), stride=(1,), padding=(1,))\n",
      "    (bn1): BatchNorm1d(32, eps=1e-05, momentum=0.1, affine=True, track_running_stats=True)\n",
      "    (relu1): ReLU(inplace=True)\n",
      "    (conv2): Conv1d(32, 32, kernel_size=(3,), stride=(1,), padding=(1,))\n",
      "    (bn2): BatchNorm1d(32, eps=1e-05, momentum=0.1, affine=True, track_running_stats=True)\n",
      "    (relu2): ReLU(inplace=True)\n",
      "  )\n",
      "  (down1): DoubleConv(\n",
      "    (conv1): Conv1d(32, 64, kernel_size=(3,), stride=(1,), padding=(1,))\n",
      "    (bn1): BatchNorm1d(64, eps=1e-05, momentum=0.1, affine=True, track_running_stats=True)\n",
      "    (relu1): ReLU(inplace=True)\n",
      "    (conv2): Conv1d(64, 64, kernel_size=(3,), stride=(1,), padding=(1,))\n",
      "    (bn2): BatchNorm1d(64, eps=1e-05, momentum=0.1, affine=True, track_running_stats=True)\n",
      "    (relu2): ReLU(inplace=True)\n",
      "  )\n",
      "  (down2): DoubleConv(\n",
      "    (conv1): Conv1d(64, 128, kernel_size=(3,), stride=(1,), padding=(1,))\n",
      "    (bn1): BatchNorm1d(128, eps=1e-05, momentum=0.1, affine=True, track_running_stats=True)\n",
      "    (relu1): ReLU(inplace=True)\n",
      "    (conv2): Conv1d(128, 128, kernel_size=(3,), stride=(1,), padding=(1,))\n",
      "    (bn2): BatchNorm1d(128, eps=1e-05, momentum=0.1, affine=True, track_running_stats=True)\n",
      "    (relu2): ReLU(inplace=True)\n",
      "  )\n",
      "  (up1): Up(\n",
      "    (up): ConvTranspose1d(128, 64, kernel_size=(2,), stride=(2,))\n",
      "    (conv): DoubleConv(\n",
      "      (conv1): Conv1d(128, 64, kernel_size=(3,), stride=(1,), padding=(1,))\n",
      "      (bn1): BatchNorm1d(64, eps=1e-05, momentum=0.1, affine=True, track_running_stats=True)\n",
      "      (relu1): ReLU(inplace=True)\n",
      "      (conv2): Conv1d(64, 64, kernel_size=(3,), stride=(1,), padding=(1,))\n",
      "      (bn2): BatchNorm1d(64, eps=1e-05, momentum=0.1, affine=True, track_running_stats=True)\n",
      "      (relu2): ReLU(inplace=True)\n",
      "    )\n",
      "  )\n",
      "  (up2): Up(\n",
      "    (up): ConvTranspose1d(64, 32, kernel_size=(2,), stride=(2,))\n",
      "    (conv): DoubleConv(\n",
      "      (conv1): Conv1d(64, 32, kernel_size=(3,), stride=(1,), padding=(1,))\n",
      "      (bn1): BatchNorm1d(32, eps=1e-05, momentum=0.1, affine=True, track_running_stats=True)\n",
      "      (relu1): ReLU(inplace=True)\n",
      "      (conv2): Conv1d(32, 32, kernel_size=(3,), stride=(1,), padding=(1,))\n",
      "      (bn2): BatchNorm1d(32, eps=1e-05, momentum=0.1, affine=True, track_running_stats=True)\n",
      "      (relu2): ReLU(inplace=True)\n",
      "    )\n",
      "  )\n",
      "  (convOut): Conv1d(32, 1, kernel_size=(1,), stride=(1,))\n",
      ")\n",
      "\n",
      "EPOCH  0 :\n",
      "LOSS train:  [8000, 0.0392169140436574]\n",
      "#####################################\n"
     ]
    }
   ],
   "source": [
    "# train all models\n",
    "n = 512000\n",
    "batch_size = 64\n",
    "epochs = 1\n",
    "for name, model in zip(modelNames, modelList):\n",
    "    print(\"#####################################\")\n",
    "    print(\"n: \", n)\n",
    "    print(\"batch_size: \", batch_size)\n",
    "    print(\"Epochs: \", epochs)\n",
    "    print(\"model: \", model)\n",
    "    \n",
    "    running_loss_arr = train_model(model, n = n, batch_size = batch_size, EPOCHS = epochs)\n",
    "\n",
    "    torch.save(model.state_dict(), 'runs/model_param_' + name + '.pt')\n",
    "    df_loss = pd.DataFrame({\"time\": running_loss_arr.reshape(-1, 2).transpose()[0], \"loss\": running_loss_arr.reshape(-1, 2).transpose()[1]})\n",
    "    df_loss.to_csv('output/losses' + name + '.csv', index = False)\n",
    "    print(\"#####################################\")\n"
   ]
  },
  {
<<<<<<< HEAD
   "attachments": {},
   "cell_type": "markdown",
   "metadata": {},
   "source": [
    "Import model "
   ]
  },
  {
   "cell_type": "code",
   "execution_count": 104,
=======
   "cell_type": "code",
   "execution_count": 1,
>>>>>>> 6de2b3d50ecadc31d9a7ba9bb3f84f87851354af
   "metadata": {},
   "outputs": [],
   "source": [
    "def denoise(model, X, T = 300):\n",
    "    X = torch.tensor(X).unsqueeze(0).unsqueeze(0).to(device)\n",
    "    mean_arr = []\n",
    "    var_arr = []\n",
    "    for _ in range(T):\n",
    "        X_noise = model(X)\n",
    "        X = X - X_noise\n",
<<<<<<< HEAD
    "        mean_arr.append(np.mean(X_noise.cpu().detach().squeeze().numpy()))\n",
    "        var_arr.append(np.std(X_noise.cpu().detach().squeeze().numpy()))\n",
    "    return X"
   ]
  },
  {
   "cell_type": "code",
   "execution_count": 105,
   "metadata": {},
   "outputs": [
    {
     "data": {
      "text/plain": [
       "<All keys matched successfully>"
      ]
     },
     "execution_count": 105,
     "metadata": {},
     "output_type": "execute_result"
    }
   ],
   "source": [
    "model_bigEpoch = BigUNet().double()\n",
    "model_bigEpoch.load_state_dict(torch.load('../runs/model_param_model_big30epochs.pt', map_location = torch.device('cpu')))\n",
    "\n",
    "\n"
   ]
  },
  {
   "cell_type": "code",
   "execution_count": 103,
   "metadata": {},
   "outputs": [
    {
     "data": {
      "image/png": "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",
      "text/plain": [
       "<Figure size 1440x576 with 2 Axes>"
      ]
     },
     "metadata": {
      "needs_background": "light"
     },
     "output_type": "display_data"
    }
   ],
   "source": [
    "X_T = np.random.multivariate_normal(np.zeros(31), np.identity(31))\n",
    "a, b = denoise(model_bigEpoch, X_T)\n",
    "\n",
    "plt.figure(figsize= (20, 8))\n",
    "   \n",
    "plt.subplot(1, 2, 1)\n",
    "plt.title(\"mean\")\n",
    "plt.scatter(np.arange(300), a)\n",
    "\n",
    "plt.subplot(1, 2, 2)\n",
    "plt.title(\"std\")\n",
    "plt.scatter(np.arange(300), b)\n",
    "plt.tight_layout()\n",
    "plt.show()"
   ]
  },
  {
   "cell_type": "code",
   "execution_count": null,
   "metadata": {},
   "outputs": [],
   "source": []
  },
  {
   "cell_type": "code",
   "execution_count": null,
   "metadata": {},
   "outputs": [],
   "source": []
  },
  {
   "cell_type": "code",
   "execution_count": null,
   "metadata": {},
   "outputs": [],
   "source": []
  },
  {
   "cell_type": "code",
   "execution_count": null,
   "metadata": {},
   "outputs": [],
   "source": []
  },
  {
   "cell_type": "code",
   "execution_count": null,
   "metadata": {},
   "outputs": [],
   "source": []
  },
  {
   "cell_type": "code",
   "execution_count": null,
   "metadata": {},
   "outputs": [],
   "source": []
  },
  {
   "cell_type": "code",
   "execution_count": null,
   "metadata": {},
   "outputs": [],
   "source": []
  },
  {
   "cell_type": "markdown",
   "metadata": {
    "tags": []
   },
   "source": [
    "Plots"
=======
    "    return X\n",
    "\n"
>>>>>>> 6de2b3d50ecadc31d9a7ba9bb3f84f87851354af
   ]
  },
  {
   "cell_type": "code",
   "execution_count": 106,
   "metadata": {},
   "outputs": [
    {
     "data": {
      "text/plain": [
       "<matplotlib.legend.Legend at 0x1eeee8a8fa0>"
      ]
     },
     "execution_count": 106,
     "metadata": {},
     "output_type": "execute_result"
    },
    {
     "data": {
      "image/png": "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",
      "text/plain": [
       "<Figure size 1440x864 with 2 Axes>"
      ]
     },
     "metadata": {
      "needs_background": "light"
     },
     "output_type": "display_data"
    }
   ],
   "source": [
    "device = \"cpu\"\n",
    "X_T = [np.random.multivariate_normal(np.zeros(31), np.identity(31)) for _ in range(4)]\n",
    "\n",
    "plt.figure(figsize= (20, 12))\n",
    "\n",
    "for i in range(4):\n",
    "    plt.subplot(2, 1, 1)\n",
    "    plt.title('model outputs')\n",
    "    plt.scatter(filter_wls, denoise(model_bigEpoch, X_T[i]).cpu().detach(), label = \"model_big\")\n",
    "    plt.plot(filter_wls, (denoise(model_bigEpoch, X_T[i]).cpu().detach()).squeeze())\n",
    "    plt.subplot(2, 1, 2)\n",
    "    plt.title('true outputs')\n",
    "    r = np.random.randint(0, 100)\n",
    "    plt.scatter(filter_wls, X_normalized[r], label = \"model_big\")\n",
    "    plt.plot(filter_wls, X_normalized[r])\n",
    "\n",
    "plt.ylabel(\"normalized magnitude\")\n",
    "#plt.ylim(-2, 2)\n",
    "plt.xlabel(\"wavelength\")\n",
    "plt.legend()"
   ]
  },
  {
   "cell_type": "code",
   "execution_count": 11,
   "metadata": {},
   "outputs": [],
   "source": [
    "model_big = BigUNet().double().to(device)\n",
    "model_big.load_state_dict(torch.load('../runs/model_param_model_big.pt'))\n",
    "\n",
    "model_medBig = MedBigUNet().double().to(device)\n",
    "model_medBig.load_state_dict(torch.load('../runs/model_param_model_medBig.pt'))\n",
    "\n",
    "model_medium = MediumUNet().double().to(device)\n",
    "model_medium.load_state_dict(torch.load('../runs/model_param_model_medium.pt'))\n",
    "\n",
    "model_small = SmallUNet().double().to(device)\n",
    "model_small.load_state_dict(torch.load('../runs/model_param_model_small.pt'))\n",
    "\n",
    "modelList = [model_big, model_medBig, model_medium, model_small]\n",
    "modelNames = [\"model_big\", \"model_medBig\", \"model_medium\", \"model_small\"]"
   ]
  },
  {
   "cell_type": "code",
   "execution_count": 13,
   "metadata": {},
   "outputs": [
    {
     "data": {
      "text/plain": [
       "<matplotlib.legend.Legend at 0x24515c5fe20>"
      ]
     },
     "execution_count": 13,
     "metadata": {},
     "output_type": "execute_result"
    },
    {
     "data": {
      "image/png": "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",
      "text/plain": [
       "<Figure size 1440x432 with 1 Axes>"
      ]
     },
     "metadata": {
      "needs_background": "light"
     },
     "output_type": "display_data"
    }
   ],
   "source": [
    "X_T = [np.random.multivariate_normal(np.zeros(31), np.identity(31)) for _ in range(2)]\n",
    "\n",
    "\n",
    "plt.figure(figsize= (20, 6))\n",
    "color = [\"red\", \"green\", \"blue\", \"purple\"]\n",
    "for i in range(4):\n",
    "    plt.subplot(1, 1, 1)\n",
    "    plt.title('model outputs ')\n",
    "    for j in range(1):\n",
    "        plt.scatter(filter_wls, denoise(modelList[i], X_T[j], T = 100).cpu().detach(), label = modelNames[i], color = color[i])\n",
    "        plt.plot(filter_wls, denoise(modelList[i], X_T[j], T = 100).cpu().detach().squeeze(), color = color[i])\n",
    "plt.ylabel(\"normalized magnitude\")\n",
    "#plt.ylim(-2, 2)\n",
    "plt.xlabel(\"wavelength\")\n",
    "plt.legend()\n",
    "\n",
    "#plt.savefig('data/foo.png')"
   ]
  },
  {
   "cell_type": "code",
   "execution_count": 61,
   "metadata": {},
   "outputs": [
    {
     "data": {
      "text/plain": [
       "tensor([[[0.2627, 0.3423, 0.5273, 0.0132, 0.6225, 0.1469, 0.3152, 0.8331,\n",
       "          0.9281, 0.9977, 0.1056, 0.8544, 0.8214, 0.6479, 0.0035, 0.4529,\n",
       "          0.1141, 0.2200, 0.9370, 0.9805, 0.2026, 0.9675, 0.0452, 0.7937,\n",
       "          0.8839, 0.8853, 0.7643, 0.1215, 0.6077, 0.0728, 0.9927, 0.2989,\n",
       "          0.0200, 0.8774, 0.2481, 0.0949, 0.8746, 0.3038, 0.8514, 0.7330,\n",
       "          0.4749, 0.6460, 0.8380, 0.3986, 0.7926, 0.8653, 0.7218, 0.9125,\n",
       "          0.9866, 0.6227, 0.0565, 0.9312, 0.3466, 0.1134, 0.1091, 0.2718,\n",
       "          0.5052, 0.2798, 0.4689, 0.2172, 0.3623, 0.5519]]])"
      ]
     },
     "execution_count": 61,
     "metadata": {},
     "output_type": "execute_result"
    }
   ],
   "source": [
    "torch.cat([a, b], dim =2)"
   ]
  },
  {
   "cell_type": "code",
   "execution_count": 63,
   "metadata": {},
   "outputs": [],
   "source": [
    "class TimeEmbedding(nn.Module):\n",
    "    def __init__(self, n_channels: int):\n",
    "        super().__init__()\n",
    "        self.n_channels = n_channels\n",
    "        self.lin1 = nn.Linear(self.n_channels // 4, self.n_channels)\n",
    "        self.relu = nn.ReLU()\n",
    "        self.lin2 = nn.Linear(self.n_channels, self.n_channels)\n",
    "\n",
    "    def forward(self, t: torch.Tensor):\n",
    "        half_dim = self.n_channels // 8\n",
    "        emb = math.log(10000) / (half_dim - 1)\n",
    "        emb = torch.exp(torch.arange(half_dim, device=t.device) * -emb)\n",
    "        emb = t[:, None] * emb[None, :]\n",
    "        emb = torch.cat((emb.sin(), emb.cos()), dim=1)\n",
    "        emb = self.relu(self.lin1(emb))\n",
    "        emb = self.lin2(emb)\n",
    "\n",
    "        return emb\n"
   ]
  },
  {
   "cell_type": "code",
   "execution_count": 64,
   "metadata": {},
   "outputs": [],
   "source": [
    "tEmb = TimeEmbedding(10)"
   ]
  },
  {
   "cell_type": "code",
   "execution_count": 65,
   "metadata": {},
   "outputs": [
    {
     "data": {
      "text/plain": [
       "TimeEmbedding(\n",
       "  (lin1): Linear(in_features=2, out_features=10, bias=True)\n",
       "  (relu): ReLU()\n",
       "  (lin2): Linear(in_features=10, out_features=10, bias=True)\n",
       ")"
      ]
     },
     "execution_count": 65,
     "metadata": {},
     "output_type": "execute_result"
    }
   ],
   "source": [
    "tEmb"
   ]
  },
  {
   "cell_type": "code",
   "execution_count": null,
   "metadata": {},
   "outputs": [],
   "source": []
  },
  {
   "cell_type": "code",
   "execution_count": null,
   "metadata": {},
   "outputs": [],
   "source": []
  },
  {
   "cell_type": "code",
   "execution_count": null,
   "metadata": {},
   "outputs": [],
   "source": []
  },
  {
   "cell_type": "code",
   "execution_count": null,
   "metadata": {},
   "outputs": [],
   "source": []
  },
  {
   "cell_type": "code",
   "execution_count": null,
   "metadata": {},
   "outputs": [],
   "source": []
  },
  {
   "cell_type": "code",
   "execution_count": null,
   "metadata": {},
   "outputs": [],
   "source": []
  },
  {
   "cell_type": "code",
   "execution_count": null,
   "metadata": {},
   "outputs": [],
   "source": []
  },
  {
   "cell_type": "code",
   "execution_count": null,
   "metadata": {},
   "outputs": [],
   "source": []
  },
  {
   "cell_type": "code",
   "execution_count": null,
   "metadata": {},
   "outputs": [],
   "source": []
  },
  {
   "cell_type": "code",
   "execution_count": null,
   "metadata": {},
   "outputs": [],
   "source": []
  },
  {
   "cell_type": "code",
   "execution_count": null,
   "metadata": {},
   "outputs": [],
   "source": []
  },
  {
   "cell_type": "code",
   "execution_count": null,
   "metadata": {},
   "outputs": [],
   "source": []
  },
  {
   "cell_type": "code",
   "execution_count": null,
   "metadata": {},
   "outputs": [],
   "source": []
  },
  {
   "cell_type": "code",
   "execution_count": null,
   "metadata": {},
   "outputs": [],
   "source": []
  },
  {
   "cell_type": "code",
   "execution_count": null,
   "metadata": {},
   "outputs": [],
   "source": []
  },
  {
   "cell_type": "code",
   "execution_count": null,
   "metadata": {},
   "outputs": [],
   "source": []
  },
  {
   "cell_type": "code",
   "execution_count": null,
   "metadata": {},
   "outputs": [],
   "source": []
  },
  {
   "cell_type": "code",
   "execution_count": null,
   "metadata": {},
   "outputs": [],
   "source": []
  },
  {
   "cell_type": "code",
   "execution_count": null,
   "metadata": {},
   "outputs": [],
   "source": []
  },
  {
   "cell_type": "code",
   "execution_count": null,
   "metadata": {},
   "outputs": [],
   "source": []
  },
  {
   "cell_type": "code",
   "execution_count": null,
   "metadata": {},
   "outputs": [],
   "source": []
  },
  {
   "cell_type": "code",
   "execution_count": null,
   "metadata": {},
   "outputs": [],
   "source": []
  },
  {
   "cell_type": "code",
   "execution_count": null,
   "metadata": {},
   "outputs": [],
   "source": []
  },
  {
   "cell_type": "code",
   "execution_count": null,
   "metadata": {},
   "outputs": [],
   "source": []
  },
  {
   "cell_type": "code",
   "execution_count": null,
   "metadata": {},
   "outputs": [],
   "source": []
  },
  {
   "cell_type": "code",
   "execution_count": null,
   "metadata": {},
   "outputs": [],
   "source": []
  },
  {
   "cell_type": "code",
   "execution_count": null,
   "metadata": {},
   "outputs": [],
   "source": []
  },
  {
   "cell_type": "code",
   "execution_count": null,
   "metadata": {},
   "outputs": [],
   "source": []
  },
  {
   "cell_type": "code",
   "execution_count": null,
   "metadata": {},
   "outputs": [],
   "source": []
  },
  {
   "cell_type": "code",
   "execution_count": null,
   "metadata": {},
   "outputs": [],
   "source": []
  },
  {
   "cell_type": "code",
   "execution_count": null,
   "metadata": {},
   "outputs": [],
   "source": []
  },
  {
   "cell_type": "code",
   "execution_count": null,
   "metadata": {},
   "outputs": [],
   "source": []
  },
  {
   "cell_type": "code",
   "execution_count": null,
   "metadata": {},
   "outputs": [],
   "source": []
  }
 ],
 "metadata": {
  "kernelspec": {
   "display_name": "Python 3",
   "language": "python",
   "name": "python3"
  },
  "language_info": {
   "codemirror_mode": {
    "name": "ipython",
    "version": 3
   },
   "file_extension": ".py",
   "mimetype": "text/x-python",
   "name": "python",
   "nbconvert_exporter": "python",
   "pygments_lexer": "ipython3",
   "version": "3.9.1"
  },
  "orig_nbformat": 4,
  "vscode": {
   "interpreter": {
    "hash": "7101ca937a6cefa303d920fd1335fe82956cc294edbf5f7bc268a5a56c54bb64"
   }
  }
 },
 "nbformat": 4,
 "nbformat_minor": 2
}
