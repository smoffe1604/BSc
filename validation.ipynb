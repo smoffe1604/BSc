{
 "cells": [
  {
   "cell_type": "code",
   "execution_count": 1,
   "metadata": {},
   "outputs": [
    {
     "name": "stdout",
     "output_type": "stream",
     "text": [
      "Using cuda device\n"
     ]
    }
   ],
   "source": [
    "import pandas as pd \n",
    "import numpy as np\n",
    "import math \n",
    "import matplotlib.pyplot as plt \n",
    "import random\n",
    "\n",
    "import torch\n",
    "from torch import nn\n",
    "from torch.nn import functional as F\n",
    "from torch.utils.data import DataLoader\n",
    "import torch.optim as optim\n",
    "\n",
    "import pickle \n",
    "import main\n",
    "from main import add_noise\n",
    "from main import denoise\n",
<<<<<<< HEAD
    "from main import get_data\n",
    "from main import MyDataset\n",
    "import scipy"
=======
    "from main import get_data"
>>>>>>> 6de2b3d50ecadc31d9a7ba9bb3f84f87851354af
   ]
  },
  {
   "cell_type": "code",
   "execution_count": 2,
   "metadata": {},
<<<<<<< HEAD
=======
   "outputs": [],
   "source": [
    "with open('data/sampled_filters_train.pkl', 'rb') as f:\n",
    "    data = pickle.load(f)\n",
    "\n",
    "filter_wls, wavelengths, spectra, X, X_normalized, y, z = get_data(data)\n",
    "\n",
    "device = \"cuda\" if torch.cuda.is_available() else \"cpu\"\n",
    "print(f\"Using {device} device\")"
   ]
  },
  {
   "cell_type": "code",
   "execution_count": 4,
   "metadata": {},
>>>>>>> 6de2b3d50ecadc31d9a7ba9bb3f84f87851354af
   "outputs": [
    {
     "name": "stdout",
     "output_type": "stream",
     "text": [
      "Using cuda device\n"
     ]
    }
   ],
   "source": [
    "with open('data/sampled_filters_train.pkl', 'rb') as f:\n",
    "    data = pickle.load(f)\n",
    "\n",
    "filter_wls, wavelengths, spectra, X, X_normalized, y, z = get_data(data)\n",
    "\n",
    "device = \"cuda\" if torch.cuda.is_available() else \"cpu\"\n",
    "print(f\"Using {device} device\")"
   ]
  },
  {
   "cell_type": "code",
   "execution_count": 3,
   "metadata": {},
   "outputs": [],
   "source": [
    "class CNN(nn.Module):\n",
    "    def __init__(self):\n",
    "        super(CNN, self).__init__()\n",
    "        self.conv1 = nn.Conv1d(in_channels=1, out_channels=16, kernel_size=3)\n",
    "        self.pool1 = nn.MaxPool1d(kernel_size=2)\n",
    "        self.conv2 = nn.Conv1d(in_channels=16, out_channels=32, kernel_size=3)\n",
    "        self.pool2 = nn.MaxPool1d(kernel_size=2)\n",
    "        self.conv3 = nn.Conv1d(in_channels=32, out_channels=64, kernel_size=3)\n",
    "        self.pool3 = nn.MaxPool1d(kernel_size=2)\n",
    "        self.relu = nn.ReLU(inplace=True)\n",
    "        self.flatten = nn.Flatten()\n",
    "        self.fc1 = nn.Linear(128, 64)\n",
    "        self.fc2 = nn.Linear(64, 4)\n",
    "\n",
    "    def forward(self, x):\n",
    "        x = self.conv1(x)\n",
    "        x = self.relu(x)\n",
    "        x = self.pool1(x)\n",
    "        x = self.conv2(x)\n",
    "        x = self.relu(x)\n",
    "        x = self.pool2(x)\n",
    "        x = self.conv3(x)\n",
    "        x = self.relu(x)\n",
    "        x = self.pool3(x)\n",
    "        x = self.flatten(x)\n",
    "        x_cut = self.fc1(x)\n",
    "        x = self.relu(x_cut)\n",
    "        x = self.fc2(x)\n",
    "        return x_cut, x\n",
    "\n"
   ]
  },
  {
   "cell_type": "code",
   "execution_count": 4,
   "metadata": {},
   "outputs": [],
   "source": [
    "def train_model(model, n = len(X_normalized), batch_size = 256, EPOCHS = 50):\n",
    "    #loss\n",
    "    loss_fn = nn.MSELoss()\n",
    "    #optimizer\n",
    "    optimizer = optim.Adam(model.parameters(), lr=0.001)\n",
    "    scheduler = optim.lr_scheduler.ExponentialLR(optimizer, gamma=0.9)\n",
    "\n",
    "    #loss data\n",
    "    running_loss_arr = []\n",
    "\n",
    "    #training\n",
    "    model.train(True)\n",
    "\n",
    "    for epoch in range(EPOCHS):\n",
    "\n",
    "        # generate data_loader\n",
    "        train_dataloader = DataLoader(MyDataset({\"X\": X_normalized[:n], \"y\": y.to_numpy()[:n]}), batch_size=batch_size, shuffle=False)\n",
    "\n",
    "        \n",
    "        print('EPOCH ', epoch, \":\")\n",
    "        \n",
    "        running_loss = 0\n",
    "        last_loss = 0\n",
    "\n",
    "        for i, data in enumerate(train_dataloader):\n",
    "            optimizer.zero_grad()\n",
    "\n",
    "            # Make predictions for this batch\n",
    "            X = data['X'].clone().detach().unsqueeze(1).double().to(device)\n",
    "            label = data['y'].clone().detach().double().to(device)\n",
    "            _, outputs = model(X)\n",
    "\n",
    "            # Compute the loss and its gradients\n",
    "            loss = loss_fn(outputs, label)\n",
    "\n",
    "            loss.backward()\n",
    "\n",
    "            # Adjust learning weights\n",
    "            optimizer.step()\n",
    "\n",
    "            # Gather data\n",
    "            running_loss += loss.item()\n",
    "            if (i+1) % 100 == 0:\n",
    "                last_loss = running_loss / 100 # loss per batch\n",
    "                tb_x = epoch * len(train_dataloader) + i + 1\n",
    "                running_loss_arr.append([tb_x, last_loss])\n",
    "                running_loss = 0.\n",
    "        scheduler.step()\n",
    "\n",
    "        print('LOSS train: ', running_loss_arr[-1])\n",
    "\n",
    "    model.train(False)\n",
    "    return np.array(running_loss_arr)"
   ]
  },
  {
   "cell_type": "code",
   "execution_count": 6,
   "metadata": {},
   "outputs": [],
   "source": [
    "model_CNN = CNN().double().to(device)\n",
    "\n",
    "n = len(X_normalized)\n",
    "batch_size = 512\n",
    "epochs = 10\n",
    "\n",
    "\n",
    "print(\"#####################################\")\n",
    "print(\"n: \", n)\n",
    "print(\"batch_size: \", batch_size)\n",
    "print(\"Epochs: \", epochs)\n",
    "#print(\"model: \", model)\n",
    "\n",
    "running_loss_arr = train_model(model_CNN, n = n, batch_size = batch_size, EPOCHS = epochs)\n",
    "\n",
    "torch.save(model_CNN.state_dict(), 'valRuns/model_param_' + 'model_CNN' + '.pt')\n",
    "df_loss = pd.DataFrame({\"time\": running_loss_arr.reshape(-1, 2).transpose()[0], \"loss\": running_loss_arr.reshape(-1, 2).transpose()[1]})\n",
    "df_loss.to_csv('ValRuns/losses_' + 'model_CNN' + '.csv', index = False)\n",
    "print(\"#####################################\")\n",
    "\n"
   ]
  },
  {
   "cell_type": "code",
   "execution_count": 10,
   "metadata": {},
   "outputs": [],
   "source": [
    "model_big = main.BigUNet().double().to(device)\n",
    "model_big.load_state_dict(torch.load('../runs/model_param_model_big.pt'))\n",
    "model_medBig = main.MedBigUNet().double().to(device)\n",
    "model_medBig.load_state_dict(torch.load('../runs/model_param_model_medBig.pt'))\n",
    "\n",
    "model_CNN = CNN().double().to(device)\n",
    "model_CNN.load_state_dict(torch.load('valRuns/model_param_model_CNN.pt'))\n",
    "\n",
    "modelList = [model_big, model_medBig]\n",
    "modelNames = [\"model_big\", \"model_medBig\"]\n",
    "\n",
    "\n",
    "        "
   ]
  },
  {
   "cell_type": "code",
   "execution_count": 6,
   "metadata": {},
   "outputs": [],
   "source": [
    "def denoise_batch(model, X, T = 300):\n",
    "    X = X.unsqueeze(1).to(device)\n",
    "    for _ in range(T):\n",
    "        X_noise = model(X)\n",
    "        X = X - X_noise\n",
    "    return X"
   ]
  },
  {
   "cell_type": "code",
   "execution_count": 7,
   "metadata": {},
   "outputs": [],
   "source": [
    "def FID(X, Unet = model_big, CNN = model_CNN, batch = 8):\n",
    "    X1 = torch.tensor(X[:batch]).unsqueeze(1).double().to(device)\n",
    "    X_T = torch.tensor([list(np.random.multivariate_normal(np.zeros(31), np.identity(31))) for i in range(batch)])\n",
    "    X2 = denoise_batch(Unet, X_T)\n",
    "\n",
    "    a, _ = CNN(X1)\n",
    "    b, _ = CNN(X2)\n",
    "    a = a.squeeze().cpu().detach().numpy()\n",
    "    b = b.squeeze().cpu().detach().numpy()\n",
    "\n",
    "    # calculate mean and covariance statistics\n",
    "    mu1, sigma1 = a.mean(axis=0), np.cov(a, rowvar=False)\n",
    "    mu2, sigma2 = b.mean(axis=0), np.cov(b, rowvar=False)\n",
    "    # calculate sum squared difference between means\n",
    "    ssdiff = np.sum((mu1 - mu2)**2.0)\n",
    "    # calculate sqrt of product between cov\n",
    "    covmean = scipy.linalg.sqrtm(sigma1.dot(sigma2))\n",
    "    # check and correct imaginary numbers from sqrt\n",
    "    if np.iscomplexobj(covmean):\n",
    "        covmean = covmean.real\n",
    "    # calculate score\n",
    "    fid = ssdiff + np.trace(sigma1 + sigma2 - 2.0 * covmean)\n",
    "    return fid\n",
    "    \n",
    "    \n",
    "\n",
    "     "
   ]
  },
  {
   "cell_type": "code",
   "execution_count": 8,
   "metadata": {},
   "outputs": [
    {
     "data": {
      "text/plain": [
       "121813.32136733815"
      ]
     },
     "execution_count": 8,
     "metadata": {},
     "output_type": "execute_result"
    }
   ],
   "source": [
    "FID(X_normalized)\n"
   ]
  },
  {
   "cell_type": "code",
   "execution_count": 18,
   "metadata": {},
   "outputs": [
    {
     "data": {
      "text/plain": [
       "21688320"
      ]
     },
     "execution_count": 18,
     "metadata": {},
     "output_type": "execute_result"
    }
   ],
   "source": [
    "torch.cuda.memory_allocated()"
   ]
  },
  {
   "cell_type": "code",
   "execution_count": null,
   "metadata": {},
   "outputs": [],
   "source": []
  },
  {
   "cell_type": "code",
   "execution_count": null,
   "metadata": {},
   "outputs": [],
   "source": []
  },
  {
   "cell_type": "code",
   "execution_count": null,
   "metadata": {},
   "outputs": [],
   "source": []
  },
  {
   "cell_type": "code",
   "execution_count": null,
   "metadata": {},
   "outputs": [],
   "source": []
  },
  {
   "cell_type": "code",
   "execution_count": 11,
   "metadata": {},
   "outputs": [
    {
     "data": {
      "text/plain": [
       "<matplotlib.legend.Legend at 0x166ac007d00>"
      ]
     },
     "execution_count": 11,
     "metadata": {},
     "output_type": "execute_result"
    },
    {
     "data": {
      "image/png": "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",
      "text/plain": [
       "<Figure size 1440x432 with 1 Axes>"
      ]
     },
     "metadata": {
      "needs_background": "light"
     },
     "output_type": "display_data"
    }
   ],
   "source": [
    "mu, sigma = np.zeros(31), np.identity(31)\n",
    "X_T = [np.random.multivariate_normal(mu, sigma) for _ in range(4)]\n",
    "#denoise_big = denoise(modelList[0], X_T).cpu().detach()\n",
    "#denoise_medBig = denoise(modelList[1], X_T).cpu().detach()\n",
    "#denoise_medium = denoise(modelList[2], X_T).cpu().detach()\n",
    "#denoise_small = denoise(modelList[3], X_T).cpu().detach()\n",
    "\n",
    "plt.figure(figsize= (20, 6))\n",
    "\n",
    "for i in range(2):\n",
    "    plt.subplot(1, 1, 1)\n",
    "    plt.title('model outputs ')\n",
    "    plt.scatter(filter_wls, denoise(modelList[i], X_T[i]).cpu().detach(), label = modelNames[i])\n",
    "plt.ylabel(\"normalized magnitude\")\n",
    "#plt.ylim(-2, 2)\n",
    "plt.xlabel(\"wavelength\")\n",
    "plt.legend()\n",
    "\n",
    "#plt.savefig('data/foo.png')"
   ]
  },
  {
   "cell_type": "code",
   "execution_count": null,
   "metadata": {},
   "outputs": [],
   "source": []
  }
 ],
 "metadata": {
  "kernelspec": {
   "display_name": "base",
   "language": "python",
   "name": "python3"
  },
  "language_info": {
   "codemirror_mode": {
    "name": "ipython",
    "version": 3
   },
   "file_extension": ".py",
   "mimetype": "text/x-python",
   "name": "python",
   "nbconvert_exporter": "python",
   "pygments_lexer": "ipython3",
   "version": "3.9.7"
  },
  "orig_nbformat": 4,
  "vscode": {
   "interpreter": {
    "hash": "af5e1c0a09cc8aae3d10977f9d4cd2a84606e479547b3248dea20049ff0fc387"
   }
  }
 },
 "nbformat": 4,
 "nbformat_minor": 2
}
