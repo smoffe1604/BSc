{
 "cells": [
  {
   "cell_type": "code",
   "execution_count": 1,
   "metadata": {},
   "outputs": [
    {
     "name": "stdout",
     "output_type": "stream",
     "text": [
      "Using cuda device\n"
     ]
    }
   ],
   "source": [
    "import pandas as pd \n",
    "import numpy as np\n",
    "import math \n",
    "import matplotlib.pyplot as plt \n",
    "from sklearn.model_selection import train_test_split\n",
    "from sklearn.preprocessing import StandardScaler\n",
    "import random\n",
    "\n",
    "import torch\n",
    "from torch import nn\n",
    "from torch.nn import functional as F\n",
    "from torch.utils.data import DataLoader\n",
    "from torch.utils.data import Dataset\n",
    "import torch.optim as optim\n",
    "\n",
    "import pickle \n",
    "import main\n",
    "from main import add_noise\n",
    "from main import denoise"
   ]
  },
  {
   "cell_type": "code",
   "execution_count": 2,
   "metadata": {},
   "outputs": [],
   "source": [
    "with open('data/sampled_filters_train.pkl', 'rb') as f:\n",
    "    data = pickle.load(f)"
   ]
  },
  {
   "cell_type": "code",
   "execution_count": 7,
   "metadata": {},
   "outputs": [
    {
     "data": {
      "text/plain": [
       "dict_keys(['wavelengths', 'spectra', 'X', 'y', 'z', 'zmin', 'zmax', 'filter_names'])"
      ]
     },
     "execution_count": 7,
     "metadata": {},
     "output_type": "execute_result"
    }
   ],
   "source": [
    "data['zmin']"
   ]
  },
  {
   "cell_type": "code",
   "execution_count": 32,
   "metadata": {},
   "outputs": [],
   "source": [
    "\n",
    "def get_data(data):\n",
    "    #in data\n",
    "    #wavelength (4000000, 149)\n",
    "    #spectra (4000000, 149)\n",
    "    #X (4000000, 37)\n",
    "    #y (4000000, 4)\n",
    "    #z (4000000, 1)\n",
    "    #zmin (float)\n",
    "    #zmax (float)\n",
    "    #filter_names (string list), len = 37\n",
    "    df_X = pd.DataFrame(data['X'])\n",
    "    outlier_columns = df_X.columns[df_X.gt(58.8).any(axis = 0)]\n",
    "    df_X = df_X.drop(outlier_columns, axis = 1)\n",
    "    X = df_X.to_numpy()\n",
    "    y = pd.DataFrame(data['y'])\n",
    "    z = pd.DataFrame(data['z'])\n",
    "    wavelengths = data['wavelengths']\n",
    "    spectra = data['spectra']\n",
    "    \n",
    "    scaler = StandardScaler()\n",
    "    X_normalized = scaler.fit_transform(df_X)\n",
    "\n",
    "    names=data['filter_names']\n",
    "    filter_wls = [int(name[1:-1].rstrip('W')) for name in names]\n",
    "    filter_wls = [element for i, element in enumerate(filter_wls) if i not in outlier_columns]\n",
    "    indices=[0,10,30,500,15000,800000]\n",
    "    return filter_wls, wavelengths, spectra, X, X_normalized, y, z"
   ]
  },
  {
   "cell_type": "code",
   "execution_count": 33,
   "metadata": {},
   "outputs": [
    {
     "data": {
      "text/plain": [
       "array([20.786884, 20.960768, 21.265028, 21.509062, 21.601727, 21.808668,\n",
       "       21.899237, 21.870485, 22.042837, 22.1664  , 22.201782, 22.337282,\n",
       "       22.382853, 22.393621, 22.491522, 22.527351, 22.557444, 22.61449 ,\n",
       "       22.445515, 22.539598, 22.658358, 22.670202, 22.752363, 22.814674,\n",
       "       22.803913, 23.091652, 23.25525 , 23.325388, 23.654198, 24.586325,\n",
       "       24.331484], dtype=float32)"
      ]
     },
     "execution_count": 33,
     "metadata": {},
     "output_type": "execute_result"
    }
   ],
   "source": [
    "filter_wls, wavelengths, spectra, X, X_normalized, y, z = get_data(data)\n",
    "X[0]"
   ]
  },
  {
   "cell_type": "code",
   "execution_count": 4,
   "metadata": {},
   "outputs": [
    {
     "name": "stdout",
     "output_type": "stream",
     "text": [
      "Using cuda device\n"
     ]
    }
   ],
   "source": [
    "device = \"cuda\" if torch.cuda.is_available() else \"cpu\"\n",
    "print(f\"Using {device} device\")"
   ]
  },
  {
   "cell_type": "code",
   "execution_count": 5,
   "metadata": {},
   "outputs": [],
   "source": [
    "model_big = main.BigUNet().double().to(device)\n",
    "model_big.load_state_dict(torch.load('output/model_param_model_big.pt'))\n",
    "\n",
    "model_medBig = main.MedBigUNet().double().to(device)\n",
    "model_medBig.load_state_dict(torch.load('output/model_param_model_medBig.pt'))\n",
    "\n",
    "model_medium = main.MediumUNet().double().to(device)\n",
    "model_medium.load_state_dict(torch.load('output/model_param_model_medium.pt'))\n",
    "\n",
    "model_small = main.SmallUNet().double().to(device)\n",
    "model_small.load_state_dict(torch.load('output/model_param_model_small.pt'))\n",
    "\n",
    "modelList = [model_big, model_medBig, model_medium, model_small]\n",
    "modelNames = [\"model_big\", \"model_medBig\", \"model_medium\", \"model_small\"]"
   ]
  },
  {
   "cell_type": "code",
   "execution_count": null,
   "metadata": {},
   "outputs": [],
   "source": []
  },
  {
   "cell_type": "code",
   "execution_count": null,
   "metadata": {},
   "outputs": [],
   "source": []
  },
  {
   "cell_type": "code",
   "execution_count": null,
   "metadata": {},
   "outputs": [],
   "source": []
  },
  {
   "cell_type": "code",
   "execution_count": null,
   "metadata": {},
   "outputs": [],
   "source": []
  },
  {
   "cell_type": "code",
   "execution_count": null,
   "metadata": {},
   "outputs": [],
   "source": []
  },
  {
   "cell_type": "code",
   "execution_count": null,
   "metadata": {},
   "outputs": [],
   "source": []
  },
  {
   "cell_type": "code",
   "execution_count": null,
   "metadata": {},
   "outputs": [],
   "source": []
  },
  {
   "cell_type": "code",
   "execution_count": null,
   "metadata": {},
   "outputs": [],
   "source": []
  },
  {
   "cell_type": "code",
   "execution_count": null,
   "metadata": {},
   "outputs": [],
   "source": []
  },
  {
   "cell_type": "code",
   "execution_count": null,
   "metadata": {},
   "outputs": [],
   "source": []
  },
  {
   "cell_type": "code",
   "execution_count": null,
   "metadata": {},
   "outputs": [],
   "source": []
  },
  {
   "cell_type": "code",
   "execution_count": null,
   "metadata": {},
   "outputs": [],
   "source": []
  },
  {
   "cell_type": "code",
   "execution_count": null,
   "metadata": {},
   "outputs": [],
   "source": []
  },
  {
   "cell_type": "code",
   "execution_count": null,
   "metadata": {},
   "outputs": [],
   "source": []
  },
  {
   "cell_type": "code",
   "execution_count": null,
   "metadata": {},
   "outputs": [],
   "source": []
  },
  {
   "cell_type": "code",
   "execution_count": null,
   "metadata": {},
   "outputs": [],
   "source": []
  },
  {
   "cell_type": "code",
   "execution_count": null,
   "metadata": {},
   "outputs": [],
   "source": []
  },
  {
   "cell_type": "code",
   "execution_count": null,
   "metadata": {},
   "outputs": [],
   "source": []
  },
  {
   "cell_type": "code",
   "execution_count": null,
   "metadata": {},
   "outputs": [],
   "source": []
  }
 ],
 "metadata": {
  "kernelspec": {
   "display_name": "base",
   "language": "python",
   "name": "python3"
  },
  "language_info": {
   "codemirror_mode": {
    "name": "ipython",
    "version": 3
   },
   "file_extension": ".py",
   "mimetype": "text/x-python",
   "name": "python",
   "nbconvert_exporter": "python",
   "pygments_lexer": "ipython3",
   "version": "3.9.7"
  },
  "orig_nbformat": 4
 },
 "nbformat": 4,
 "nbformat_minor": 2
}
